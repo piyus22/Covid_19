{
 "cells": [
  {
   "attachments": {},
   "cell_type": "markdown",
   "metadata": {},
   "source": [
    "# Aim: - Initial exploration of the Covid-19 dataset"
   ]
  },
  {
   "cell_type": "code",
   "execution_count": 2,
   "metadata": {},
   "outputs": [
    {
     "name": "stdout",
     "output_type": "stream",
     "text": [
      "\u001b[32mCourtesy Notice\u001b[0m: Pipenv found itself running within a virtual environment, so it will automatically use that environment, instead of creating its own for any project. You can set \u001b[1mPIPENV_IGNORE_VIRTUALENVS=1\u001b[0m to force pipenv to ignore that environment and create its own instead. You can set \u001b[1mPIPENV_VERBOSITY=-1\u001b[0m to suppress this warning.\n",
      "\u001b[32m\u001b[1mInstalling -U...\u001b[0m\n",
      "\u001b[?25lResolving -U\u001b[33m...\u001b[0m\n",
      "\u001b[2K\u001b[32m⠋\u001b[0m Installing...\n",
      "\u001b[1A\u001b[2KTraceback (most recent call last):\n",
      "  File \"/opt/homebrew/lib/python3.10/site-packages/pipenv/patched/pip/_vendor/packaging/requirements.py\", line 102, in __init__\n",
      "    req = REQUIREMENT.parseString(requirement_string)\n",
      "  File \"/opt/homebrew/lib/python3.10/site-packages/pipenv/patched/pip/_vendor/pyparsing/core.py\", line 1141, in parse_string\n",
      "    raise exc.with_traceback(None)\n",
      "pipenv.patched.pip._vendor.pyparsing.exceptions.ParseException: Expected W:(0-9A-Za-z), found '-'  (at char 0), (line:1, col:1)\n",
      "\n",
      "During handling of the above exception, another exception occurred:\n",
      "\n",
      "Traceback (most recent call last):\n",
      "  File \"/opt/homebrew/lib/python3.10/site-packages/pipenv/patched/pip/_vendor/pkg_resources/__init__.py\", line 3101, in __init__\n",
      "    super(Requirement, self).__init__(requirement_string)\n",
      "  File \"/opt/homebrew/lib/python3.10/site-packages/pipenv/patched/pip/_vendor/packaging/requirements.py\", line 104, in __init__\n",
      "    raise InvalidRequirement(\n",
      "pipenv.patched.pip._vendor.packaging.requirements.InvalidRequirement: Parse error at \"'-U'\": Expected W:(0-9A-Za-z)\n",
      "\n",
      "During handling of the above exception, another exception occurred:\n",
      "\n",
      "Traceback (most recent call last):\n",
      "  File \"/opt/homebrew/lib/python3.10/site-packages/pipenv/vendor/requirementslib/models/requirements.py\", line 964, in _parse_name_from_line\n",
      "    self._requirement = init_requirement(self.line)\n",
      "  File \"/opt/homebrew/lib/python3.10/site-packages/pipenv/vendor/requirementslib/models/utils.py\", line 191, in init_requirement\n",
      "    req = Requirement.parse(name)\n",
      "  File \"/opt/homebrew/lib/python3.10/site-packages/pipenv/patched/pip/_vendor/pkg_resources/__init__.py\", line 3148, in parse\n",
      "    req, = parse_requirements(s)\n",
      "  File \"/opt/homebrew/lib/python3.10/site-packages/pipenv/patched/pip/_vendor/pkg_resources/__init__.py\", line 3094, in parse_requirements\n",
      "    yield Requirement(line)\n",
      "  File \"/opt/homebrew/lib/python3.10/site-packages/pipenv/patched/pip/_vendor/pkg_resources/__init__.py\", line 3103, in __init__\n",
      "    raise RequirementParseError(str(e))\n",
      "pipenv.patched.pip._vendor.pkg_resources.RequirementParseError: Parse error at \"'-U'\": Expected W:(0-9A-Za-z)\n",
      "\n",
      "During handling of the above exception, another exception occurred:\n",
      "\n",
      "Traceback (most recent call last):\n",
      "  File \"/opt/homebrew/bin/pipenv\", line 8, in <module>\n",
      "    sys.exit(cli())\n",
      "  File \"/opt/homebrew/lib/python3.10/site-packages/pipenv/vendor/click/core.py\", line 1128, in __call__\n",
      "    return self.main(*args, **kwargs)\n",
      "  File \"/opt/homebrew/lib/python3.10/site-packages/pipenv/cli/options.py\", line 58, in main\n",
      "    return super().main(*args, **kwargs, windows_expand_args=False)\n",
      "  File \"/opt/homebrew/lib/python3.10/site-packages/pipenv/vendor/click/core.py\", line 1053, in main\n",
      "    rv = self.invoke(ctx)\n",
      "  File \"/opt/homebrew/lib/python3.10/site-packages/pipenv/vendor/click/core.py\", line 1659, in invoke\n",
      "    return _process_result(sub_ctx.command.invoke(sub_ctx))\n",
      "  File \"/opt/homebrew/lib/python3.10/site-packages/pipenv/vendor/click/core.py\", line 1395, in invoke\n",
      "    return ctx.invoke(self.callback, **ctx.params)\n",
      "  File \"/opt/homebrew/lib/python3.10/site-packages/pipenv/vendor/click/core.py\", line 754, in invoke\n",
      "    return __callback(*args, **kwargs)\n",
      "  File \"/opt/homebrew/lib/python3.10/site-packages/pipenv/vendor/click/decorators.py\", line 84, in new_func\n",
      "    return ctx.invoke(f, obj, *args, **kwargs)\n",
      "  File \"/opt/homebrew/lib/python3.10/site-packages/pipenv/vendor/click/core.py\", line 754, in invoke\n",
      "    return __callback(*args, **kwargs)\n",
      "  File \"/opt/homebrew/lib/python3.10/site-packages/pipenv/cli/command.py\", line 238, in install\n",
      "    do_install(\n",
      "  File \"/opt/homebrew/lib/python3.10/site-packages/pipenv/core.py\", line 2278, in do_install\n",
      "    pkg_requirement = Requirement.from_line(pkg_line)\n",
      "  File \"/opt/homebrew/lib/python3.10/site-packages/pipenv/vendor/requirementslib/models/requirements.py\", line 2677, in from_line\n",
      "    parsed_line = Line(line)\n",
      "  File \"/opt/homebrew/lib/python3.10/site-packages/pipenv/vendor/requirementslib/models/requirements.py\", line 171, in __init__\n",
      "    self.parse()\n",
      "  File \"/opt/homebrew/lib/python3.10/site-packages/pipenv/vendor/requirementslib/models/requirements.py\", line 1300, in parse\n",
      "    self.parse_name()\n",
      "  File \"/opt/homebrew/lib/python3.10/site-packages/pipenv/vendor/requirementslib/models/requirements.py\", line 1025, in parse_name\n",
      "    name = self._parse_name_from_line()\n",
      "  File \"/opt/homebrew/lib/python3.10/site-packages/pipenv/vendor/requirementslib/models/requirements.py\", line 966, in _parse_name_from_line\n",
      "    raise RequirementError(\n",
      "pipenv.vendor.requirementslib.exceptions.RequirementError: Failed parsing requirement from '-U'\n",
      "\u001b[32mCourtesy Notice\u001b[0m: Pipenv found itself running within a virtual environment, so it will automatically use that environment, instead of creating its own for any project. You can set \u001b[1mPIPENV_IGNORE_VIRTUALENVS=1\u001b[0m to force pipenv to ignore that environment and create its own instead. You can set \u001b[1mPIPENV_VERBOSITY=-1\u001b[0m to suppress this warning.\n",
      "\u001b[32m\u001b[1mInstalling seaborn...\u001b[0m\n",
      "\u001b[?25lResolving seaborn\u001b[33m...\u001b[0m\n",
      "\u001b[2KInstalling\u001b[33m...\u001b[0m\n",
      "\u001b[2K\u001b[1mAdding \u001b[0m\u001b[1;32mseaborn\u001b[0m to Pipfile's \u001b[1;33m[\u001b[0m\u001b[33mpackages\u001b[0m\u001b[1;33m]\u001b[0m \u001b[33m...\u001b[0m\n",
      "\u001b[2K✔ Installation Succeededn...\n",
      "\u001b[2K\u001b[32m⠙\u001b[0m Installing seaborn...\n",
      "\u001b[1A\u001b[2K\u001b[1mInstalling dependencies from Pipfile.lock (90cccb)...\u001b[0m\n",
      "To activate this project's virtualenv, run \u001b[33mpipenv shell\u001b[0m.\n",
      "Alternatively, run a command inside the virtualenv with \u001b[33mpipenv run\u001b[0m.\n"
     ]
    }
   ],
   "source": [
    "!pipenv install -U numpy\n",
    "!pipenv install seaborn"
   ]
  },
  {
   "cell_type": "code",
   "execution_count": 3,
   "metadata": {},
   "outputs": [],
   "source": [
    "# Importing the packages needed\n",
    "import pandas as pd\n",
    "import numpy as np\n",
    "import seaborn as sns\n",
    "import matplotlib"
   ]
  },
  {
   "cell_type": "code",
   "execution_count": null,
   "metadata": {},
   "outputs": [],
   "source": []
  },
  {
   "cell_type": "code",
   "execution_count": 30,
   "metadata": {},
   "outputs": [],
   "source": [
    "# Data \n",
    "counties_2020=pd.read_csv(\"../covid-19-data/us-counties-2020.csv\")\n",
    "counties_2021=pd.read_csv(\"../covid-19-data/us-counties-2021.csv\")\n",
    "counties_2022=pd.read_csv(\"../covid-19-data/us-counties-2022.csv\")\n",
    "counties_2023=pd.read_csv(\"../covid-19-data/us-counties-2023.csv\")"
   ]
  },
  {
   "cell_type": "code",
   "execution_count": 5,
   "metadata": {},
   "outputs": [
    {
     "data": {
      "text/html": [
       "<div>\n",
       "<style scoped>\n",
       "    .dataframe tbody tr th:only-of-type {\n",
       "        vertical-align: middle;\n",
       "    }\n",
       "\n",
       "    .dataframe tbody tr th {\n",
       "        vertical-align: top;\n",
       "    }\n",
       "\n",
       "    .dataframe thead th {\n",
       "        text-align: right;\n",
       "    }\n",
       "</style>\n",
       "<table border=\"1\" class=\"dataframe\">\n",
       "  <thead>\n",
       "    <tr style=\"text-align: right;\">\n",
       "      <th></th>\n",
       "      <th>date</th>\n",
       "      <th>county</th>\n",
       "      <th>state</th>\n",
       "      <th>fips</th>\n",
       "      <th>cases</th>\n",
       "      <th>deaths</th>\n",
       "    </tr>\n",
       "  </thead>\n",
       "  <tbody>\n",
       "    <tr>\n",
       "      <th>0</th>\n",
       "      <td>2020-01-21</td>\n",
       "      <td>Snohomish</td>\n",
       "      <td>Washington</td>\n",
       "      <td>53061.0</td>\n",
       "      <td>1</td>\n",
       "      <td>0.0</td>\n",
       "    </tr>\n",
       "    <tr>\n",
       "      <th>1</th>\n",
       "      <td>2020-01-22</td>\n",
       "      <td>Snohomish</td>\n",
       "      <td>Washington</td>\n",
       "      <td>53061.0</td>\n",
       "      <td>1</td>\n",
       "      <td>0.0</td>\n",
       "    </tr>\n",
       "    <tr>\n",
       "      <th>2</th>\n",
       "      <td>2020-01-23</td>\n",
       "      <td>Snohomish</td>\n",
       "      <td>Washington</td>\n",
       "      <td>53061.0</td>\n",
       "      <td>1</td>\n",
       "      <td>0.0</td>\n",
       "    </tr>\n",
       "    <tr>\n",
       "      <th>3</th>\n",
       "      <td>2020-01-24</td>\n",
       "      <td>Cook</td>\n",
       "      <td>Illinois</td>\n",
       "      <td>17031.0</td>\n",
       "      <td>1</td>\n",
       "      <td>0.0</td>\n",
       "    </tr>\n",
       "    <tr>\n",
       "      <th>4</th>\n",
       "      <td>2020-01-24</td>\n",
       "      <td>Snohomish</td>\n",
       "      <td>Washington</td>\n",
       "      <td>53061.0</td>\n",
       "      <td>1</td>\n",
       "      <td>0.0</td>\n",
       "    </tr>\n",
       "    <tr>\n",
       "      <th>...</th>\n",
       "      <td>...</td>\n",
       "      <td>...</td>\n",
       "      <td>...</td>\n",
       "      <td>...</td>\n",
       "      <td>...</td>\n",
       "      <td>...</td>\n",
       "    </tr>\n",
       "    <tr>\n",
       "      <th>884732</th>\n",
       "      <td>2020-12-31</td>\n",
       "      <td>Sweetwater</td>\n",
       "      <td>Wyoming</td>\n",
       "      <td>56037.0</td>\n",
       "      <td>2966</td>\n",
       "      <td>16.0</td>\n",
       "    </tr>\n",
       "    <tr>\n",
       "      <th>884733</th>\n",
       "      <td>2020-12-31</td>\n",
       "      <td>Teton</td>\n",
       "      <td>Wyoming</td>\n",
       "      <td>56039.0</td>\n",
       "      <td>2138</td>\n",
       "      <td>4.0</td>\n",
       "    </tr>\n",
       "    <tr>\n",
       "      <th>884734</th>\n",
       "      <td>2020-12-31</td>\n",
       "      <td>Uinta</td>\n",
       "      <td>Wyoming</td>\n",
       "      <td>56041.0</td>\n",
       "      <td>1558</td>\n",
       "      <td>7.0</td>\n",
       "    </tr>\n",
       "    <tr>\n",
       "      <th>884735</th>\n",
       "      <td>2020-12-31</td>\n",
       "      <td>Washakie</td>\n",
       "      <td>Wyoming</td>\n",
       "      <td>56043.0</td>\n",
       "      <td>780</td>\n",
       "      <td>19.0</td>\n",
       "    </tr>\n",
       "    <tr>\n",
       "      <th>884736</th>\n",
       "      <td>2020-12-31</td>\n",
       "      <td>Weston</td>\n",
       "      <td>Wyoming</td>\n",
       "      <td>56045.0</td>\n",
       "      <td>476</td>\n",
       "      <td>2.0</td>\n",
       "    </tr>\n",
       "  </tbody>\n",
       "</table>\n",
       "<p>884737 rows × 6 columns</p>\n",
       "</div>"
      ],
      "text/plain": [
       "              date      county       state     fips  cases  deaths\n",
       "0       2020-01-21   Snohomish  Washington  53061.0      1     0.0\n",
       "1       2020-01-22   Snohomish  Washington  53061.0      1     0.0\n",
       "2       2020-01-23   Snohomish  Washington  53061.0      1     0.0\n",
       "3       2020-01-24        Cook    Illinois  17031.0      1     0.0\n",
       "4       2020-01-24   Snohomish  Washington  53061.0      1     0.0\n",
       "...            ...         ...         ...      ...    ...     ...\n",
       "884732  2020-12-31  Sweetwater     Wyoming  56037.0   2966    16.0\n",
       "884733  2020-12-31       Teton     Wyoming  56039.0   2138     4.0\n",
       "884734  2020-12-31       Uinta     Wyoming  56041.0   1558     7.0\n",
       "884735  2020-12-31    Washakie     Wyoming  56043.0    780    19.0\n",
       "884736  2020-12-31      Weston     Wyoming  56045.0    476     2.0\n",
       "\n",
       "[884737 rows x 6 columns]"
      ]
     },
     "execution_count": 5,
     "metadata": {},
     "output_type": "execute_result"
    }
   ],
   "source": [
    "counties_2020"
   ]
  },
  {
   "cell_type": "code",
   "execution_count": 33,
   "metadata": {},
   "outputs": [],
   "source": [
    "# test_df = pd.DataFrame({\n",
    "#     'state': ['A', 'B', 'A', 'C', 'B', 'C', 'D', 'D', 'D', 'E'],\n",
    "#     'cases': [100, 200, 150, 300, 250, 400, 100, 200, 300, 50],\n",
    "#     'deaths': [10, 20, 15, 30, 25, 40, 10, 20, 30, 5]\n",
    "# })"
   ]
  },
  {
   "cell_type": "code",
   "execution_count": 34,
   "metadata": {},
   "outputs": [],
   "source": [
    "def states_by_covid(df):\n",
    "    # Group by state and calculate sums for cases and deaths\n",
    "    grouped_df = df.groupby('state', as_index=False)[['cases', 'deaths']].sum()\n",
    "    \n",
    "    # Calculate death per case percentage\n",
    "    grouped_df['death_per_case'] = round((grouped_df['deaths'] / grouped_df['cases']) * 100, 2)\n",
    "    \n",
    "    # Sort by cases and death_per_case in descending order\n",
    "    grouped_df = grouped_df.sort_values(by=['cases', 'death_per_case'], ascending=[False, False])\n",
    "    \n",
    "    # Return the top 10 rows\n",
    "    return grouped_df.head(10)\n",
    "counties_2020_groupby = states_by_covid(counties_2020)\n",
    "counties_2021_groupby=states_by_covid(counties_2021)\n",
    "counties_2022_groupby=states_by_covid(counties_2022)\n",
    "counties_2023_groupby=states_by_covid(counties_2023)\n"
   ]
  },
  {
   "cell_type": "code",
   "execution_count": 32,
   "metadata": {},
   "outputs": [
    {
     "data": {
      "text/html": [
       "<div>\n",
       "<style scoped>\n",
       "    .dataframe tbody tr th:only-of-type {\n",
       "        vertical-align: middle;\n",
       "    }\n",
       "\n",
       "    .dataframe tbody tr th {\n",
       "        vertical-align: top;\n",
       "    }\n",
       "\n",
       "    .dataframe thead th {\n",
       "        text-align: right;\n",
       "    }\n",
       "</style>\n",
       "<table border=\"1\" class=\"dataframe\">\n",
       "  <thead>\n",
       "    <tr style=\"text-align: right;\">\n",
       "      <th></th>\n",
       "      <th>state</th>\n",
       "      <th>cases</th>\n",
       "      <th>deaths</th>\n",
       "      <th>death_per_case</th>\n",
       "    </tr>\n",
       "  </thead>\n",
       "  <tbody>\n",
       "    <tr>\n",
       "      <th>5</th>\n",
       "      <td>California</td>\n",
       "      <td>985844951</td>\n",
       "      <td>8424694.0</td>\n",
       "      <td>0.85</td>\n",
       "    </tr>\n",
       "    <tr>\n",
       "      <th>47</th>\n",
       "      <td>Texas</td>\n",
       "      <td>678812946</td>\n",
       "      <td>7679552.0</td>\n",
       "      <td>1.13</td>\n",
       "    </tr>\n",
       "    <tr>\n",
       "      <th>10</th>\n",
       "      <td>Florida</td>\n",
       "      <td>609882039</td>\n",
       "      <td>7020942.0</td>\n",
       "      <td>1.15</td>\n",
       "    </tr>\n",
       "    <tr>\n",
       "      <th>34</th>\n",
       "      <td>New York</td>\n",
       "      <td>551095969</td>\n",
       "      <td>6483341.0</td>\n",
       "      <td>1.18</td>\n",
       "    </tr>\n",
       "    <tr>\n",
       "      <th>15</th>\n",
       "      <td>Illinois</td>\n",
       "      <td>331615853</td>\n",
       "      <td>3377350.0</td>\n",
       "      <td>1.02</td>\n",
       "    </tr>\n",
       "  </tbody>\n",
       "</table>\n",
       "</div>"
      ],
      "text/plain": [
       "         state      cases     deaths  death_per_case\n",
       "5   California  985844951  8424694.0            0.85\n",
       "47       Texas  678812946  7679552.0            1.13\n",
       "10     Florida  609882039  7020942.0            1.15\n",
       "34    New York  551095969  6483341.0            1.18\n",
       "15    Illinois  331615853  3377350.0            1.02"
      ]
     },
     "execution_count": 32,
     "metadata": {},
     "output_type": "execute_result"
    }
   ],
   "source": [
    "counties_2023_groupby.head(5)"
   ]
  },
  {
   "cell_type": "code",
   "execution_count": 6,
   "metadata": {},
   "outputs": [
    {
     "data": {
      "text/html": [
       "<div>\n",
       "<style scoped>\n",
       "    .dataframe tbody tr th:only-of-type {\n",
       "        vertical-align: middle;\n",
       "    }\n",
       "\n",
       "    .dataframe tbody tr th {\n",
       "        vertical-align: top;\n",
       "    }\n",
       "\n",
       "    .dataframe thead th {\n",
       "        text-align: right;\n",
       "    }\n",
       "</style>\n",
       "<table border=\"1\" class=\"dataframe\">\n",
       "  <thead>\n",
       "    <tr style=\"text-align: right;\">\n",
       "      <th></th>\n",
       "      <th>state</th>\n",
       "      <th>cases</th>\n",
       "      <th>deaths</th>\n",
       "      <th>death_per_case</th>\n",
       "    </tr>\n",
       "  </thead>\n",
       "  <tbody>\n",
       "    <tr>\n",
       "      <th>4</th>\n",
       "      <td>California</td>\n",
       "      <td>174969176</td>\n",
       "      <td>3065113.0</td>\n",
       "      <td>2.0</td>\n",
       "    </tr>\n",
       "    <tr>\n",
       "      <th>46</th>\n",
       "      <td>Texas</td>\n",
       "      <td>160159130</td>\n",
       "      <td>2927740.0</td>\n",
       "      <td>2.0</td>\n",
       "    </tr>\n",
       "    <tr>\n",
       "      <th>9</th>\n",
       "      <td>Florida</td>\n",
       "      <td>138123133</td>\n",
       "      <td>2632238.0</td>\n",
       "      <td>2.0</td>\n",
       "    </tr>\n",
       "    <tr>\n",
       "      <th>33</th>\n",
       "      <td>New York</td>\n",
       "      <td>126307878</td>\n",
       "      <td>8320598.0</td>\n",
       "      <td>7.0</td>\n",
       "    </tr>\n",
       "    <tr>\n",
       "      <th>14</th>\n",
       "      <td>Illinois</td>\n",
       "      <td>82118324</td>\n",
       "      <td>2211390.0</td>\n",
       "      <td>3.0</td>\n",
       "    </tr>\n",
       "    <tr>\n",
       "      <th>10</th>\n",
       "      <td>Georgia</td>\n",
       "      <td>62230196</td>\n",
       "      <td>1363977.0</td>\n",
       "      <td>2.0</td>\n",
       "    </tr>\n",
       "    <tr>\n",
       "      <th>31</th>\n",
       "      <td>New Jersey</td>\n",
       "      <td>57403306</td>\n",
       "      <td>3817150.0</td>\n",
       "      <td>7.0</td>\n",
       "    </tr>\n",
       "    <tr>\n",
       "      <th>40</th>\n",
       "      <td>Pennsylvania</td>\n",
       "      <td>47304959</td>\n",
       "      <td>2002629.0</td>\n",
       "      <td>4.0</td>\n",
       "    </tr>\n",
       "    <tr>\n",
       "      <th>2</th>\n",
       "      <td>Arizona</td>\n",
       "      <td>47147078</td>\n",
       "      <td>1048821.0</td>\n",
       "      <td>2.0</td>\n",
       "    </tr>\n",
       "    <tr>\n",
       "      <th>34</th>\n",
       "      <td>North Carolina</td>\n",
       "      <td>46306384</td>\n",
       "      <td>734456.0</td>\n",
       "      <td>2.0</td>\n",
       "    </tr>\n",
       "  </tbody>\n",
       "</table>\n",
       "</div>"
      ],
      "text/plain": [
       "             state      cases     deaths  death_per_case\n",
       "4       California  174969176  3065113.0             2.0\n",
       "46           Texas  160159130  2927740.0             2.0\n",
       "9          Florida  138123133  2632238.0             2.0\n",
       "33        New York  126307878  8320598.0             7.0\n",
       "14        Illinois   82118324  2211390.0             3.0\n",
       "10         Georgia   62230196  1363977.0             2.0\n",
       "31      New Jersey   57403306  3817150.0             7.0\n",
       "40    Pennsylvania   47304959  2002629.0             4.0\n",
       "2          Arizona   47147078  1048821.0             2.0\n",
       "34  North Carolina   46306384   734456.0             2.0"
      ]
     },
     "execution_count": 6,
     "metadata": {},
     "output_type": "execute_result"
    }
   ],
   "source": [
    "# Lets look at the states and their corresponding deaths\n",
    "counties_2020_groupby=counties_2020.groupby('state', as_index=False)[['cases','deaths']].sum()\n",
    "counties_2020_groupby['death_per_case']=round(counties_2020_groupby['deaths']/counties_2020_groupby['cases'],2)*100\n",
    "counties_2020_groupby=counties_2020_groupby.sort_values(by=['cases', 'death_per_case'], ascending=[False, False])\n",
    "top_10_states_covid_2020=counties_2020_groupby.head(10)\n",
    "top_10_states_covid_2020"
   ]
  },
  {
   "cell_type": "code",
   "execution_count": 20,
   "metadata": {},
   "outputs": [],
   "source": [
    "from us import states\n",
    "state_to_abbrev={state.name:state.abbr for state in states.STATES}\n",
    "counties_2020_groupby['state_abbrev']=counties_2020_groupby['state'].map(state_to_abbrev)"
   ]
  },
  {
   "cell_type": "code",
   "execution_count": 22,
   "metadata": {},
   "outputs": [
    {
     "data": {
      "text/html": [
       "<div>\n",
       "<style scoped>\n",
       "    .dataframe tbody tr th:only-of-type {\n",
       "        vertical-align: middle;\n",
       "    }\n",
       "\n",
       "    .dataframe tbody tr th {\n",
       "        vertical-align: top;\n",
       "    }\n",
       "\n",
       "    .dataframe thead th {\n",
       "        text-align: right;\n",
       "    }\n",
       "</style>\n",
       "<table border=\"1\" class=\"dataframe\">\n",
       "  <thead>\n",
       "    <tr style=\"text-align: right;\">\n",
       "      <th></th>\n",
       "      <th>state</th>\n",
       "      <th>cases</th>\n",
       "      <th>deaths</th>\n",
       "      <th>death_per_case</th>\n",
       "      <th>state_abbrev</th>\n",
       "    </tr>\n",
       "  </thead>\n",
       "  <tbody>\n",
       "    <tr>\n",
       "      <th>4</th>\n",
       "      <td>California</td>\n",
       "      <td>174969176</td>\n",
       "      <td>3065113.0</td>\n",
       "      <td>2.0</td>\n",
       "      <td>CA</td>\n",
       "    </tr>\n",
       "    <tr>\n",
       "      <th>46</th>\n",
       "      <td>Texas</td>\n",
       "      <td>160159130</td>\n",
       "      <td>2927740.0</td>\n",
       "      <td>2.0</td>\n",
       "      <td>TX</td>\n",
       "    </tr>\n",
       "    <tr>\n",
       "      <th>9</th>\n",
       "      <td>Florida</td>\n",
       "      <td>138123133</td>\n",
       "      <td>2632238.0</td>\n",
       "      <td>2.0</td>\n",
       "      <td>FL</td>\n",
       "    </tr>\n",
       "    <tr>\n",
       "      <th>33</th>\n",
       "      <td>New York</td>\n",
       "      <td>126307878</td>\n",
       "      <td>8320598.0</td>\n",
       "      <td>7.0</td>\n",
       "      <td>NY</td>\n",
       "    </tr>\n",
       "    <tr>\n",
       "      <th>14</th>\n",
       "      <td>Illinois</td>\n",
       "      <td>82118324</td>\n",
       "      <td>2211390.0</td>\n",
       "      <td>3.0</td>\n",
       "      <td>IL</td>\n",
       "    </tr>\n",
       "  </tbody>\n",
       "</table>\n",
       "</div>"
      ],
      "text/plain": [
       "         state      cases     deaths  death_per_case state_abbrev\n",
       "4   California  174969176  3065113.0             2.0           CA\n",
       "46       Texas  160159130  2927740.0             2.0           TX\n",
       "9      Florida  138123133  2632238.0             2.0           FL\n",
       "33    New York  126307878  8320598.0             7.0           NY\n",
       "14    Illinois   82118324  2211390.0             3.0           IL"
      ]
     },
     "execution_count": 22,
     "metadata": {},
     "output_type": "execute_result"
    }
   ],
   "source": [
    "counties_2020_groupby.head(5)"
   ]
  },
  {
   "cell_type": "code",
   "execution_count": 27,
   "metadata": {},
   "outputs": [
    {
     "data": {
      "application/vnd.plotly.v1+json": {
       "config": {
        "plotlyServerURL": "https://plot.ly"
       },
       "data": [
        {
         "coloraxis": "coloraxis",
         "customdata": [
          [
           "CA",
           2
          ],
          [
           "TX",
           2
          ],
          [
           "FL",
           2
          ],
          [
           "NY",
           7.000000000000001
          ],
          [
           "IL",
           3
          ],
          [
           "GA",
           2
          ],
          [
           "NJ",
           7.000000000000001
          ],
          [
           "PA",
           4
          ],
          [
           "AZ",
           2
          ],
          [
           "NC",
           2
          ],
          [
           "OH",
           2
          ],
          [
           "TN",
           1
          ],
          [
           "MI",
           4
          ],
          [
           "WI",
           1
          ],
          [
           "MA",
           6
          ],
          [
           "IN",
           3
          ],
          [
           "LA",
           3
          ],
          [
           "VA",
           2
          ],
          [
           "AL",
           2
          ],
          [
           "MO",
           2
          ],
          [
           "MN",
           2
          ],
          [
           "SC",
           2
          ],
          [
           "MD",
           3
          ],
          [
           "CO",
           2
          ],
          [
           "IA",
           1
          ],
          [
           "WA",
           2
          ],
          [
           "OK",
           1
          ],
          [
           "MS",
           3
          ],
          [
           "UT",
           1
          ],
          [
           "KY",
           2
          ],
          [
           "AR",
           2
          ],
          [
           "NV",
           2
          ],
          [
           "CT",
           7.000000000000001
          ],
          [
           "KS",
           1
          ],
          [
           "NE",
           1
          ],
          [
           "ID",
           1
          ],
          [
           null,
           1
          ],
          [
           "NM",
           2
          ],
          [
           "OR",
           2
          ],
          [
           "RI",
           4
          ],
          [
           "SD",
           1
          ],
          [
           "ND",
           1
          ],
          [
           "DE",
           3
          ],
          [
           "MT",
           1
          ],
          [
           "WV",
           2
          ],
          [
           null,
           4
          ],
          [
           "AK",
           0
          ],
          [
           "NH",
           4
          ],
          [
           "WY",
           1
          ],
          [
           "HI",
           1
          ],
          [
           "ME",
           2
          ],
          [
           null,
           1
          ],
          [
           "VT",
           3
          ],
          [
           null,
           2
          ],
          [
           null,
           4
          ]
         ],
         "geo": "geo",
         "hovertemplate": "<b>%{hovertext}</b><br><br>death rate=%{z}<extra></extra>",
         "hovertext": [
          "California",
          "Texas",
          "Florida",
          "New York",
          "Illinois",
          "Georgia",
          "New Jersey",
          "Pennsylvania",
          "Arizona",
          "North Carolina",
          "Ohio",
          "Tennessee",
          "Michigan",
          "Wisconsin",
          "Massachusetts",
          "Indiana",
          "Louisiana",
          "Virginia",
          "Alabama",
          "Missouri",
          "Minnesota",
          "South Carolina",
          "Maryland",
          "Colorado",
          "Iowa",
          "Washington",
          "Oklahoma",
          "Mississippi",
          "Utah",
          "Kentucky",
          "Arkansas",
          "Nevada",
          "Connecticut",
          "Kansas",
          "Nebraska",
          "Idaho",
          "Puerto Rico",
          "New Mexico",
          "Oregon",
          "Rhode Island",
          "South Dakota",
          "North Dakota",
          "Delaware",
          "Montana",
          "West Virginia",
          "District of Columbia",
          "Alaska",
          "New Hampshire",
          "Wyoming",
          "Hawaii",
          "Maine",
          "Guam",
          "Vermont",
          "Virgin Islands",
          "Northern Mariana Islands"
         ],
         "locationmode": "USA-states",
         "locations": [
          "CA",
          "TX",
          "FL",
          "NY",
          "IL",
          "GA",
          "NJ",
          "PA",
          "AZ",
          "NC",
          "OH",
          "TN",
          "MI",
          "WI",
          "MA",
          "IN",
          "LA",
          "VA",
          "AL",
          "MO",
          "MN",
          "SC",
          "MD",
          "CO",
          "IA",
          "WA",
          "OK",
          "MS",
          "UT",
          "KY",
          "AR",
          "NV",
          "CT",
          "KS",
          "NE",
          "ID",
          null,
          "NM",
          "OR",
          "RI",
          "SD",
          "ND",
          "DE",
          "MT",
          "WV",
          null,
          "AK",
          "NH",
          "WY",
          "HI",
          "ME",
          null,
          "VT",
          null,
          null
         ],
         "name": "",
         "type": "choropleth",
         "z": [
          2,
          2,
          2,
          7.000000000000001,
          3,
          2,
          7.000000000000001,
          4,
          2,
          2,
          2,
          1,
          4,
          1,
          6,
          3,
          3,
          2,
          2,
          2,
          2,
          2,
          3,
          2,
          1,
          2,
          1,
          3,
          1,
          2,
          2,
          2,
          7.000000000000001,
          1,
          1,
          1,
          1,
          2,
          2,
          4,
          1,
          1,
          3,
          1,
          2,
          4,
          0,
          4,
          1,
          1,
          2,
          1,
          3,
          2,
          4
         ]
        }
       ],
       "layout": {
        "coloraxis": {
         "colorbar": {
          "title": {
           "text": "death rate"
          }
         },
         "colorscale": [
          [
           0,
           "#440154"
          ],
          [
           0.1111111111111111,
           "#482878"
          ],
          [
           0.2222222222222222,
           "#3e4989"
          ],
          [
           0.3333333333333333,
           "#31688e"
          ],
          [
           0.4444444444444444,
           "#26828e"
          ],
          [
           0.5555555555555556,
           "#1f9e89"
          ],
          [
           0.6666666666666666,
           "#35b779"
          ],
          [
           0.7777777777777778,
           "#6ece58"
          ],
          [
           0.8888888888888888,
           "#b5de2b"
          ],
          [
           1,
           "#fde725"
          ]
         ]
        },
        "geo": {
         "center": {},
         "domain": {
          "x": [
           0,
           1
          ],
          "y": [
           0,
           1
          ]
         },
         "scope": "usa"
        },
        "legend": {
         "tracegroupgap": 0
        },
        "margin": {
         "b": 0,
         "l": 0,
         "r": 0,
         "t": 0
        },
        "template": {
         "data": {
          "bar": [
           {
            "error_x": {
             "color": "#2a3f5f"
            },
            "error_y": {
             "color": "#2a3f5f"
            },
            "marker": {
             "line": {
              "color": "#E5ECF6",
              "width": 0.5
             },
             "pattern": {
              "fillmode": "overlay",
              "size": 10,
              "solidity": 0.2
             }
            },
            "type": "bar"
           }
          ],
          "barpolar": [
           {
            "marker": {
             "line": {
              "color": "#E5ECF6",
              "width": 0.5
             },
             "pattern": {
              "fillmode": "overlay",
              "size": 10,
              "solidity": 0.2
             }
            },
            "type": "barpolar"
           }
          ],
          "carpet": [
           {
            "aaxis": {
             "endlinecolor": "#2a3f5f",
             "gridcolor": "white",
             "linecolor": "white",
             "minorgridcolor": "white",
             "startlinecolor": "#2a3f5f"
            },
            "baxis": {
             "endlinecolor": "#2a3f5f",
             "gridcolor": "white",
             "linecolor": "white",
             "minorgridcolor": "white",
             "startlinecolor": "#2a3f5f"
            },
            "type": "carpet"
           }
          ],
          "choropleth": [
           {
            "colorbar": {
             "outlinewidth": 0,
             "ticks": ""
            },
            "type": "choropleth"
           }
          ],
          "contour": [
           {
            "colorbar": {
             "outlinewidth": 0,
             "ticks": ""
            },
            "colorscale": [
             [
              0,
              "#0d0887"
             ],
             [
              0.1111111111111111,
              "#46039f"
             ],
             [
              0.2222222222222222,
              "#7201a8"
             ],
             [
              0.3333333333333333,
              "#9c179e"
             ],
             [
              0.4444444444444444,
              "#bd3786"
             ],
             [
              0.5555555555555556,
              "#d8576b"
             ],
             [
              0.6666666666666666,
              "#ed7953"
             ],
             [
              0.7777777777777778,
              "#fb9f3a"
             ],
             [
              0.8888888888888888,
              "#fdca26"
             ],
             [
              1,
              "#f0f921"
             ]
            ],
            "type": "contour"
           }
          ],
          "contourcarpet": [
           {
            "colorbar": {
             "outlinewidth": 0,
             "ticks": ""
            },
            "type": "contourcarpet"
           }
          ],
          "heatmap": [
           {
            "colorbar": {
             "outlinewidth": 0,
             "ticks": ""
            },
            "colorscale": [
             [
              0,
              "#0d0887"
             ],
             [
              0.1111111111111111,
              "#46039f"
             ],
             [
              0.2222222222222222,
              "#7201a8"
             ],
             [
              0.3333333333333333,
              "#9c179e"
             ],
             [
              0.4444444444444444,
              "#bd3786"
             ],
             [
              0.5555555555555556,
              "#d8576b"
             ],
             [
              0.6666666666666666,
              "#ed7953"
             ],
             [
              0.7777777777777778,
              "#fb9f3a"
             ],
             [
              0.8888888888888888,
              "#fdca26"
             ],
             [
              1,
              "#f0f921"
             ]
            ],
            "type": "heatmap"
           }
          ],
          "heatmapgl": [
           {
            "colorbar": {
             "outlinewidth": 0,
             "ticks": ""
            },
            "colorscale": [
             [
              0,
              "#0d0887"
             ],
             [
              0.1111111111111111,
              "#46039f"
             ],
             [
              0.2222222222222222,
              "#7201a8"
             ],
             [
              0.3333333333333333,
              "#9c179e"
             ],
             [
              0.4444444444444444,
              "#bd3786"
             ],
             [
              0.5555555555555556,
              "#d8576b"
             ],
             [
              0.6666666666666666,
              "#ed7953"
             ],
             [
              0.7777777777777778,
              "#fb9f3a"
             ],
             [
              0.8888888888888888,
              "#fdca26"
             ],
             [
              1,
              "#f0f921"
             ]
            ],
            "type": "heatmapgl"
           }
          ],
          "histogram": [
           {
            "marker": {
             "pattern": {
              "fillmode": "overlay",
              "size": 10,
              "solidity": 0.2
             }
            },
            "type": "histogram"
           }
          ],
          "histogram2d": [
           {
            "colorbar": {
             "outlinewidth": 0,
             "ticks": ""
            },
            "colorscale": [
             [
              0,
              "#0d0887"
             ],
             [
              0.1111111111111111,
              "#46039f"
             ],
             [
              0.2222222222222222,
              "#7201a8"
             ],
             [
              0.3333333333333333,
              "#9c179e"
             ],
             [
              0.4444444444444444,
              "#bd3786"
             ],
             [
              0.5555555555555556,
              "#d8576b"
             ],
             [
              0.6666666666666666,
              "#ed7953"
             ],
             [
              0.7777777777777778,
              "#fb9f3a"
             ],
             [
              0.8888888888888888,
              "#fdca26"
             ],
             [
              1,
              "#f0f921"
             ]
            ],
            "type": "histogram2d"
           }
          ],
          "histogram2dcontour": [
           {
            "colorbar": {
             "outlinewidth": 0,
             "ticks": ""
            },
            "colorscale": [
             [
              0,
              "#0d0887"
             ],
             [
              0.1111111111111111,
              "#46039f"
             ],
             [
              0.2222222222222222,
              "#7201a8"
             ],
             [
              0.3333333333333333,
              "#9c179e"
             ],
             [
              0.4444444444444444,
              "#bd3786"
             ],
             [
              0.5555555555555556,
              "#d8576b"
             ],
             [
              0.6666666666666666,
              "#ed7953"
             ],
             [
              0.7777777777777778,
              "#fb9f3a"
             ],
             [
              0.8888888888888888,
              "#fdca26"
             ],
             [
              1,
              "#f0f921"
             ]
            ],
            "type": "histogram2dcontour"
           }
          ],
          "mesh3d": [
           {
            "colorbar": {
             "outlinewidth": 0,
             "ticks": ""
            },
            "type": "mesh3d"
           }
          ],
          "parcoords": [
           {
            "line": {
             "colorbar": {
              "outlinewidth": 0,
              "ticks": ""
             }
            },
            "type": "parcoords"
           }
          ],
          "pie": [
           {
            "automargin": true,
            "type": "pie"
           }
          ],
          "scatter": [
           {
            "fillpattern": {
             "fillmode": "overlay",
             "size": 10,
             "solidity": 0.2
            },
            "type": "scatter"
           }
          ],
          "scatter3d": [
           {
            "line": {
             "colorbar": {
              "outlinewidth": 0,
              "ticks": ""
             }
            },
            "marker": {
             "colorbar": {
              "outlinewidth": 0,
              "ticks": ""
             }
            },
            "type": "scatter3d"
           }
          ],
          "scattercarpet": [
           {
            "marker": {
             "colorbar": {
              "outlinewidth": 0,
              "ticks": ""
             }
            },
            "type": "scattercarpet"
           }
          ],
          "scattergeo": [
           {
            "marker": {
             "colorbar": {
              "outlinewidth": 0,
              "ticks": ""
             }
            },
            "type": "scattergeo"
           }
          ],
          "scattergl": [
           {
            "marker": {
             "colorbar": {
              "outlinewidth": 0,
              "ticks": ""
             }
            },
            "type": "scattergl"
           }
          ],
          "scattermapbox": [
           {
            "marker": {
             "colorbar": {
              "outlinewidth": 0,
              "ticks": ""
             }
            },
            "type": "scattermapbox"
           }
          ],
          "scatterpolar": [
           {
            "marker": {
             "colorbar": {
              "outlinewidth": 0,
              "ticks": ""
             }
            },
            "type": "scatterpolar"
           }
          ],
          "scatterpolargl": [
           {
            "marker": {
             "colorbar": {
              "outlinewidth": 0,
              "ticks": ""
             }
            },
            "type": "scatterpolargl"
           }
          ],
          "scatterternary": [
           {
            "marker": {
             "colorbar": {
              "outlinewidth": 0,
              "ticks": ""
             }
            },
            "type": "scatterternary"
           }
          ],
          "surface": [
           {
            "colorbar": {
             "outlinewidth": 0,
             "ticks": ""
            },
            "colorscale": [
             [
              0,
              "#0d0887"
             ],
             [
              0.1111111111111111,
              "#46039f"
             ],
             [
              0.2222222222222222,
              "#7201a8"
             ],
             [
              0.3333333333333333,
              "#9c179e"
             ],
             [
              0.4444444444444444,
              "#bd3786"
             ],
             [
              0.5555555555555556,
              "#d8576b"
             ],
             [
              0.6666666666666666,
              "#ed7953"
             ],
             [
              0.7777777777777778,
              "#fb9f3a"
             ],
             [
              0.8888888888888888,
              "#fdca26"
             ],
             [
              1,
              "#f0f921"
             ]
            ],
            "type": "surface"
           }
          ],
          "table": [
           {
            "cells": {
             "fill": {
              "color": "#EBF0F8"
             },
             "line": {
              "color": "white"
             }
            },
            "header": {
             "fill": {
              "color": "#C8D4E3"
             },
             "line": {
              "color": "white"
             }
            },
            "type": "table"
           }
          ]
         },
         "layout": {
          "annotationdefaults": {
           "arrowcolor": "#2a3f5f",
           "arrowhead": 0,
           "arrowwidth": 1
          },
          "autotypenumbers": "strict",
          "coloraxis": {
           "colorbar": {
            "outlinewidth": 0,
            "ticks": ""
           }
          },
          "colorscale": {
           "diverging": [
            [
             0,
             "#8e0152"
            ],
            [
             0.1,
             "#c51b7d"
            ],
            [
             0.2,
             "#de77ae"
            ],
            [
             0.3,
             "#f1b6da"
            ],
            [
             0.4,
             "#fde0ef"
            ],
            [
             0.5,
             "#f7f7f7"
            ],
            [
             0.6,
             "#e6f5d0"
            ],
            [
             0.7,
             "#b8e186"
            ],
            [
             0.8,
             "#7fbc41"
            ],
            [
             0.9,
             "#4d9221"
            ],
            [
             1,
             "#276419"
            ]
           ],
           "sequential": [
            [
             0,
             "#0d0887"
            ],
            [
             0.1111111111111111,
             "#46039f"
            ],
            [
             0.2222222222222222,
             "#7201a8"
            ],
            [
             0.3333333333333333,
             "#9c179e"
            ],
            [
             0.4444444444444444,
             "#bd3786"
            ],
            [
             0.5555555555555556,
             "#d8576b"
            ],
            [
             0.6666666666666666,
             "#ed7953"
            ],
            [
             0.7777777777777778,
             "#fb9f3a"
            ],
            [
             0.8888888888888888,
             "#fdca26"
            ],
            [
             1,
             "#f0f921"
            ]
           ],
           "sequentialminus": [
            [
             0,
             "#0d0887"
            ],
            [
             0.1111111111111111,
             "#46039f"
            ],
            [
             0.2222222222222222,
             "#7201a8"
            ],
            [
             0.3333333333333333,
             "#9c179e"
            ],
            [
             0.4444444444444444,
             "#bd3786"
            ],
            [
             0.5555555555555556,
             "#d8576b"
            ],
            [
             0.6666666666666666,
             "#ed7953"
            ],
            [
             0.7777777777777778,
             "#fb9f3a"
            ],
            [
             0.8888888888888888,
             "#fdca26"
            ],
            [
             1,
             "#f0f921"
            ]
           ]
          },
          "colorway": [
           "#636efa",
           "#EF553B",
           "#00cc96",
           "#ab63fa",
           "#FFA15A",
           "#19d3f3",
           "#FF6692",
           "#B6E880",
           "#FF97FF",
           "#FECB52"
          ],
          "font": {
           "color": "#2a3f5f"
          },
          "geo": {
           "bgcolor": "white",
           "lakecolor": "white",
           "landcolor": "#E5ECF6",
           "showlakes": true,
           "showland": true,
           "subunitcolor": "white"
          },
          "hoverlabel": {
           "align": "left"
          },
          "hovermode": "closest",
          "mapbox": {
           "style": "light"
          },
          "paper_bgcolor": "white",
          "plot_bgcolor": "#E5ECF6",
          "polar": {
           "angularaxis": {
            "gridcolor": "white",
            "linecolor": "white",
            "ticks": ""
           },
           "bgcolor": "#E5ECF6",
           "radialaxis": {
            "gridcolor": "white",
            "linecolor": "white",
            "ticks": ""
           }
          },
          "scene": {
           "xaxis": {
            "backgroundcolor": "#E5ECF6",
            "gridcolor": "white",
            "gridwidth": 2,
            "linecolor": "white",
            "showbackground": true,
            "ticks": "",
            "zerolinecolor": "white"
           },
           "yaxis": {
            "backgroundcolor": "#E5ECF6",
            "gridcolor": "white",
            "gridwidth": 2,
            "linecolor": "white",
            "showbackground": true,
            "ticks": "",
            "zerolinecolor": "white"
           },
           "zaxis": {
            "backgroundcolor": "#E5ECF6",
            "gridcolor": "white",
            "gridwidth": 2,
            "linecolor": "white",
            "showbackground": true,
            "ticks": "",
            "zerolinecolor": "white"
           }
          },
          "shapedefaults": {
           "line": {
            "color": "#2a3f5f"
           }
          },
          "ternary": {
           "aaxis": {
            "gridcolor": "white",
            "linecolor": "white",
            "ticks": ""
           },
           "baxis": {
            "gridcolor": "white",
            "linecolor": "white",
            "ticks": ""
           },
           "bgcolor": "#E5ECF6",
           "caxis": {
            "gridcolor": "white",
            "linecolor": "white",
            "ticks": ""
           }
          },
          "title": {
           "x": 0.05
          },
          "xaxis": {
           "automargin": true,
           "gridcolor": "white",
           "linecolor": "white",
           "ticks": "",
           "title": {
            "standoff": 15
           },
           "zerolinecolor": "white",
           "zerolinewidth": 2
          },
          "yaxis": {
           "automargin": true,
           "gridcolor": "white",
           "linecolor": "white",
           "ticks": "",
           "title": {
            "standoff": 15
           },
           "zerolinecolor": "white",
           "zerolinewidth": 2
          }
         }
        },
        "title": {
         "text": "USA map with death_rate"
        }
       }
      }
     },
     "metadata": {},
     "output_type": "display_data"
    }
   ],
   "source": [
    "import plotly.express as px\n",
    "fig=px.choropleth(counties_2020_groupby,locations='state_abbrev',locationmode='USA-states',\n",
    "                  color='death_per_case' ,\n",
    "                           scope=\"usa\",\n",
    "                           color_continuous_scale=\"Viridis\",\n",
    "                           labels={'death_per_case':'death rate'},\n",
    "                           hover_name='state',\n",
    "                           hover_data={'state_abbrev':False, 'death_per_case':True}\n",
    "                          )\n",
    "\n",
    "fig.update_layout(\n",
    "    title_text='USA map with death_rate',\n",
    "    margin={\"r\":0,\"t\":0,\"l\":0,\"b\":0})\n",
    "    # margin={\"r\":0,\"t\":0,\"l\":0,\"b\":0})\n",
    "fig.show()                          \n",
    "\n"
   ]
  },
  {
   "cell_type": "code",
   "execution_count": 38,
   "metadata": {},
   "outputs": [],
   "source": [
    "import plotly.express as px\n",
    "\n",
    "def plot_death_rate_choropleth(df, state_col, death_rate_col, abbrev_col):\n",
    "   \n",
    "    fig = px.choropleth(\n",
    "        df,\n",
    "        locations=abbrev_col,\n",
    "        locationmode='USA-states',\n",
    "        color=death_rate_col,\n",
    "        scope=\"usa\",\n",
    "        color_continuous_scale=\"Viridis\",\n",
    "        labels={death_rate_col: 'Death Rate'},\n",
    "        hover_name=state_col,\n",
    "        hover_data={abbrev_col: False, death_rate_col: True}\n",
    "    )\n",
    "    \n",
    "    fig.update_layout(\n",
    "        title_text='USA Map with Death Rate',\n",
    "        margin={\"r\": 0, \"t\": 0, \"l\": 0, \"b\": 0}\n",
    "    )\n",
    "    \n",
    "    fig.show()"
   ]
  },
  {
   "cell_type": "code",
   "execution_count": 39,
   "metadata": {},
   "outputs": [
    {
     "ename": "ValueError",
     "evalue": "Value of 'locations' is not the name of a column in 'data_frame'. Expected one of ['state', 'cases', 'deaths', 'death_per_case'] but received: state_abbrev",
     "output_type": "error",
     "traceback": [
      "\u001b[0;31m---------------------------------------------------------------------------\u001b[0m",
      "\u001b[0;31mValueError\u001b[0m                                Traceback (most recent call last)",
      "Cell \u001b[0;32mIn[39], line 1\u001b[0m\n\u001b[0;32m----> 1\u001b[0m plot_death_rate_choropleth(\n\u001b[1;32m      2\u001b[0m     df\u001b[39m=\u001b[39;49mcounties_2020_groupby,\n\u001b[1;32m      3\u001b[0m     state_col\u001b[39m=\u001b[39;49m\u001b[39m'\u001b[39;49m\u001b[39mstate\u001b[39;49m\u001b[39m'\u001b[39;49m,\n\u001b[1;32m      4\u001b[0m     death_rate_col\u001b[39m=\u001b[39;49m\u001b[39m'\u001b[39;49m\u001b[39mdeath_per_case\u001b[39;49m\u001b[39m'\u001b[39;49m,\n\u001b[1;32m      5\u001b[0m     abbrev_col\u001b[39m=\u001b[39;49m\u001b[39m'\u001b[39;49m\u001b[39mstate_abbrev\u001b[39;49m\u001b[39m'\u001b[39;49m\n\u001b[1;32m      6\u001b[0m )\n",
      "Cell \u001b[0;32mIn[38], line 5\u001b[0m, in \u001b[0;36mplot_death_rate_choropleth\u001b[0;34m(df, state_col, death_rate_col, abbrev_col)\u001b[0m\n\u001b[1;32m      3\u001b[0m \u001b[39mdef\u001b[39;00m \u001b[39mplot_death_rate_choropleth\u001b[39m(df, state_col, death_rate_col, abbrev_col):\n\u001b[0;32m----> 5\u001b[0m     fig \u001b[39m=\u001b[39m px\u001b[39m.\u001b[39;49mchoropleth(\n\u001b[1;32m      6\u001b[0m         df,\n\u001b[1;32m      7\u001b[0m         locations\u001b[39m=\u001b[39;49mabbrev_col,\n\u001b[1;32m      8\u001b[0m         locationmode\u001b[39m=\u001b[39;49m\u001b[39m'\u001b[39;49m\u001b[39mUSA-states\u001b[39;49m\u001b[39m'\u001b[39;49m,\n\u001b[1;32m      9\u001b[0m         color\u001b[39m=\u001b[39;49mdeath_rate_col,\n\u001b[1;32m     10\u001b[0m         scope\u001b[39m=\u001b[39;49m\u001b[39m\"\u001b[39;49m\u001b[39musa\u001b[39;49m\u001b[39m\"\u001b[39;49m,\n\u001b[1;32m     11\u001b[0m         color_continuous_scale\u001b[39m=\u001b[39;49m\u001b[39m\"\u001b[39;49m\u001b[39mViridis\u001b[39;49m\u001b[39m\"\u001b[39;49m,\n\u001b[1;32m     12\u001b[0m         labels\u001b[39m=\u001b[39;49m{death_rate_col: \u001b[39m'\u001b[39;49m\u001b[39mDeath Rate\u001b[39;49m\u001b[39m'\u001b[39;49m},\n\u001b[1;32m     13\u001b[0m         hover_name\u001b[39m=\u001b[39;49mstate_col,\n\u001b[1;32m     14\u001b[0m         hover_data\u001b[39m=\u001b[39;49m{abbrev_col: \u001b[39mFalse\u001b[39;49;00m, death_rate_col: \u001b[39mTrue\u001b[39;49;00m}\n\u001b[1;32m     15\u001b[0m     )\n\u001b[1;32m     17\u001b[0m     fig\u001b[39m.\u001b[39mupdate_layout(\n\u001b[1;32m     18\u001b[0m         title_text\u001b[39m=\u001b[39m\u001b[39m'\u001b[39m\u001b[39mUSA Map with Death Rate\u001b[39m\u001b[39m'\u001b[39m,\n\u001b[1;32m     19\u001b[0m         margin\u001b[39m=\u001b[39m{\u001b[39m\"\u001b[39m\u001b[39mr\u001b[39m\u001b[39m\"\u001b[39m: \u001b[39m0\u001b[39m, \u001b[39m\"\u001b[39m\u001b[39mt\u001b[39m\u001b[39m\"\u001b[39m: \u001b[39m0\u001b[39m, \u001b[39m\"\u001b[39m\u001b[39ml\u001b[39m\u001b[39m\"\u001b[39m: \u001b[39m0\u001b[39m, \u001b[39m\"\u001b[39m\u001b[39mb\u001b[39m\u001b[39m\"\u001b[39m: \u001b[39m0\u001b[39m}\n\u001b[1;32m     20\u001b[0m     )\n\u001b[1;32m     22\u001b[0m     fig\u001b[39m.\u001b[39mshow()\n",
      "File \u001b[0;32m~/.local/share/virtualenvs/Covid_19-kfH_v5Wq/lib/python3.10/site-packages/plotly/express/_chart_types.py:1091\u001b[0m, in \u001b[0;36mchoropleth\u001b[0;34m(data_frame, lat, lon, locations, locationmode, geojson, featureidkey, color, facet_row, facet_col, facet_col_wrap, facet_row_spacing, facet_col_spacing, hover_name, hover_data, custom_data, animation_frame, animation_group, category_orders, labels, color_discrete_sequence, color_discrete_map, color_continuous_scale, range_color, color_continuous_midpoint, projection, scope, center, fitbounds, basemap_visible, title, template, width, height)\u001b[0m\n\u001b[1;32m   1051\u001b[0m \u001b[39mdef\u001b[39;00m \u001b[39mchoropleth\u001b[39m(\n\u001b[1;32m   1052\u001b[0m     data_frame\u001b[39m=\u001b[39m\u001b[39mNone\u001b[39;00m,\n\u001b[1;32m   1053\u001b[0m     lat\u001b[39m=\u001b[39m\u001b[39mNone\u001b[39;00m,\n\u001b[0;32m   (...)\u001b[0m\n\u001b[1;32m   1085\u001b[0m     height\u001b[39m=\u001b[39m\u001b[39mNone\u001b[39;00m,\n\u001b[1;32m   1086\u001b[0m ) \u001b[39m-\u001b[39m\u001b[39m>\u001b[39m go\u001b[39m.\u001b[39mFigure:\n\u001b[1;32m   1087\u001b[0m \u001b[39m    \u001b[39m\u001b[39m\"\"\"\u001b[39;00m\n\u001b[1;32m   1088\u001b[0m \u001b[39m    In a choropleth map, each row of `data_frame` is represented by a\u001b[39;00m\n\u001b[1;32m   1089\u001b[0m \u001b[39m    colored region mark on a map.\u001b[39;00m\n\u001b[1;32m   1090\u001b[0m \u001b[39m    \"\"\"\u001b[39;00m\n\u001b[0;32m-> 1091\u001b[0m     \u001b[39mreturn\u001b[39;00m make_figure(\n\u001b[1;32m   1092\u001b[0m         args\u001b[39m=\u001b[39;49m\u001b[39mlocals\u001b[39;49m(),\n\u001b[1;32m   1093\u001b[0m         constructor\u001b[39m=\u001b[39;49mgo\u001b[39m.\u001b[39;49mChoropleth,\n\u001b[1;32m   1094\u001b[0m         trace_patch\u001b[39m=\u001b[39;49m\u001b[39mdict\u001b[39;49m(locationmode\u001b[39m=\u001b[39;49mlocationmode),\n\u001b[1;32m   1095\u001b[0m     )\n",
      "File \u001b[0;32m~/.local/share/virtualenvs/Covid_19-kfH_v5Wq/lib/python3.10/site-packages/plotly/express/_core.py:2117\u001b[0m, in \u001b[0;36mmake_figure\u001b[0;34m(args, constructor, trace_patch, layout_patch)\u001b[0m\n\u001b[1;32m   2114\u001b[0m layout_patch \u001b[39m=\u001b[39m layout_patch \u001b[39mor\u001b[39;00m {}\n\u001b[1;32m   2115\u001b[0m apply_default_cascade(args)\n\u001b[0;32m-> 2117\u001b[0m args \u001b[39m=\u001b[39m build_dataframe(args, constructor)\n\u001b[1;32m   2118\u001b[0m \u001b[39mif\u001b[39;00m constructor \u001b[39min\u001b[39;00m [go\u001b[39m.\u001b[39mTreemap, go\u001b[39m.\u001b[39mSunburst, go\u001b[39m.\u001b[39mIcicle] \u001b[39mand\u001b[39;00m args[\u001b[39m\"\u001b[39m\u001b[39mpath\u001b[39m\u001b[39m\"\u001b[39m] \u001b[39mis\u001b[39;00m \u001b[39mnot\u001b[39;00m \u001b[39mNone\u001b[39;00m:\n\u001b[1;32m   2119\u001b[0m     args \u001b[39m=\u001b[39m process_dataframe_hierarchy(args)\n",
      "File \u001b[0;32m~/.local/share/virtualenvs/Covid_19-kfH_v5Wq/lib/python3.10/site-packages/plotly/express/_core.py:1513\u001b[0m, in \u001b[0;36mbuild_dataframe\u001b[0;34m(args, constructor)\u001b[0m\n\u001b[1;32m   1510\u001b[0m     args[\u001b[39m\"\u001b[39m\u001b[39mcolor\u001b[39m\u001b[39m\"\u001b[39m] \u001b[39m=\u001b[39m \u001b[39mNone\u001b[39;00m\n\u001b[1;32m   1511\u001b[0m \u001b[39m# now that things have been prepped, we do the systematic rewriting of `args`\u001b[39;00m\n\u001b[0;32m-> 1513\u001b[0m df_output, wide_id_vars \u001b[39m=\u001b[39m process_args_into_dataframe(\n\u001b[1;32m   1514\u001b[0m     args, wide_mode, var_name, value_name\n\u001b[1;32m   1515\u001b[0m )\n\u001b[1;32m   1517\u001b[0m \u001b[39m# now that `df_output` exists and `args` contains only references, we complete\u001b[39;00m\n\u001b[1;32m   1518\u001b[0m \u001b[39m# the special-case and wide-mode handling by further rewriting args and/or mutating\u001b[39;00m\n\u001b[1;32m   1519\u001b[0m \u001b[39m# df_output\u001b[39;00m\n\u001b[1;32m   1521\u001b[0m count_name \u001b[39m=\u001b[39m _escape_col_name(df_output, \u001b[39m\"\u001b[39m\u001b[39mcount\u001b[39m\u001b[39m\"\u001b[39m, [var_name, value_name])\n",
      "File \u001b[0;32m~/.local/share/virtualenvs/Covid_19-kfH_v5Wq/lib/python3.10/site-packages/plotly/express/_core.py:1234\u001b[0m, in \u001b[0;36mprocess_args_into_dataframe\u001b[0;34m(args, wide_mode, var_name, value_name)\u001b[0m\n\u001b[1;32m   1232\u001b[0m         \u001b[39mif\u001b[39;00m argument \u001b[39m==\u001b[39m \u001b[39m\"\u001b[39m\u001b[39mindex\u001b[39m\u001b[39m\"\u001b[39m:\n\u001b[1;32m   1233\u001b[0m             err_msg \u001b[39m+\u001b[39m\u001b[39m=\u001b[39m \u001b[39m\"\u001b[39m\u001b[39m\\n\u001b[39;00m\u001b[39m To use the index, pass it in directly as `df.index`.\u001b[39m\u001b[39m\"\u001b[39m\n\u001b[0;32m-> 1234\u001b[0m         \u001b[39mraise\u001b[39;00m \u001b[39mValueError\u001b[39;00m(err_msg)\n\u001b[1;32m   1235\u001b[0m \u001b[39melif\u001b[39;00m length \u001b[39mand\u001b[39;00m \u001b[39mlen\u001b[39m(df_input[argument]) \u001b[39m!=\u001b[39m length:\n\u001b[1;32m   1236\u001b[0m     \u001b[39mraise\u001b[39;00m \u001b[39mValueError\u001b[39;00m(\n\u001b[1;32m   1237\u001b[0m         \u001b[39m\"\u001b[39m\u001b[39mAll arguments should have the same length. \u001b[39m\u001b[39m\"\u001b[39m\n\u001b[1;32m   1238\u001b[0m         \u001b[39m\"\u001b[39m\u001b[39mThe length of column argument `df[\u001b[39m\u001b[39m%s\u001b[39;00m\u001b[39m]` is \u001b[39m\u001b[39m%d\u001b[39;00m\u001b[39m, whereas the \u001b[39m\u001b[39m\"\u001b[39m\n\u001b[0;32m   (...)\u001b[0m\n\u001b[1;32m   1245\u001b[0m         )\n\u001b[1;32m   1246\u001b[0m     )\n",
      "\u001b[0;31mValueError\u001b[0m: Value of 'locations' is not the name of a column in 'data_frame'. Expected one of ['state', 'cases', 'deaths', 'death_per_case'] but received: state_abbrev"
     ]
    }
   ],
   "source": [
    "plot_death_rate_choropleth(\n",
    "    df=counties_2020_groupby,\n",
    "    state_col='state',\n",
    "    death_rate_col='death_per_case',\n",
    "    abbrev_col='state_abbrev'\n",
    ")"
   ]
  },
  {
   "cell_type": "code",
   "execution_count": null,
   "metadata": {},
   "outputs": [],
   "source": []
  }
 ],
 "metadata": {
  "kernelspec": {
   "display_name": "piyusm-166wo2pL",
   "language": "python",
   "name": "python3"
  },
  "language_info": {
   "codemirror_mode": {
    "name": "ipython",
    "version": 3
   },
   "file_extension": ".py",
   "mimetype": "text/x-python",
   "name": "python",
   "nbconvert_exporter": "python",
   "pygments_lexer": "ipython3",
   "version": "3.10.11"
  },
  "orig_nbformat": 4
 },
 "nbformat": 4,
 "nbformat_minor": 2
}
