{
 "cells": [
  {
   "attachments": {},
   "cell_type": "markdown",
   "metadata": {},
   "source": [
    "# Aim: - Initial exploration of the Covid-19 dataset"
   ]
  },
  {
   "cell_type": "code",
   "execution_count": 2,
   "metadata": {},
   "outputs": [
    {
     "name": "stdout",
     "output_type": "stream",
     "text": [
      "\u001b[32mCourtesy Notice\u001b[0m: Pipenv found itself running within a virtual environment, so it will automatically use that environment, instead of creating its own for any project. You can set \u001b[1mPIPENV_IGNORE_VIRTUALENVS=1\u001b[0m to force pipenv to ignore that environment and create its own instead. You can set \u001b[1mPIPENV_VERBOSITY=-1\u001b[0m to suppress this warning.\n",
      "\u001b[32m\u001b[1mInstalling -U...\u001b[0m\n",
      "\u001b[?25lResolving -U\u001b[33m...\u001b[0m\n",
      "\u001b[2K\u001b[32m⠋\u001b[0m Installing...\n",
      "\u001b[1A\u001b[2KTraceback (most recent call last):\n",
      "  File \"/opt/homebrew/lib/python3.10/site-packages/pipenv/patched/pip/_vendor/packaging/requirements.py\", line 102, in __init__\n",
      "    req = REQUIREMENT.parseString(requirement_string)\n",
      "  File \"/opt/homebrew/lib/python3.10/site-packages/pipenv/patched/pip/_vendor/pyparsing/core.py\", line 1141, in parse_string\n",
      "    raise exc.with_traceback(None)\n",
      "pipenv.patched.pip._vendor.pyparsing.exceptions.ParseException: Expected W:(0-9A-Za-z), found '-'  (at char 0), (line:1, col:1)\n",
      "\n",
      "During handling of the above exception, another exception occurred:\n",
      "\n",
      "Traceback (most recent call last):\n",
      "  File \"/opt/homebrew/lib/python3.10/site-packages/pipenv/patched/pip/_vendor/pkg_resources/__init__.py\", line 3101, in __init__\n",
      "    super(Requirement, self).__init__(requirement_string)\n",
      "  File \"/opt/homebrew/lib/python3.10/site-packages/pipenv/patched/pip/_vendor/packaging/requirements.py\", line 104, in __init__\n",
      "    raise InvalidRequirement(\n",
      "pipenv.patched.pip._vendor.packaging.requirements.InvalidRequirement: Parse error at \"'-U'\": Expected W:(0-9A-Za-z)\n",
      "\n",
      "During handling of the above exception, another exception occurred:\n",
      "\n",
      "Traceback (most recent call last):\n",
      "  File \"/opt/homebrew/lib/python3.10/site-packages/pipenv/vendor/requirementslib/models/requirements.py\", line 964, in _parse_name_from_line\n",
      "    self._requirement = init_requirement(self.line)\n",
      "  File \"/opt/homebrew/lib/python3.10/site-packages/pipenv/vendor/requirementslib/models/utils.py\", line 191, in init_requirement\n",
      "    req = Requirement.parse(name)\n",
      "  File \"/opt/homebrew/lib/python3.10/site-packages/pipenv/patched/pip/_vendor/pkg_resources/__init__.py\", line 3148, in parse\n",
      "    req, = parse_requirements(s)\n",
      "  File \"/opt/homebrew/lib/python3.10/site-packages/pipenv/patched/pip/_vendor/pkg_resources/__init__.py\", line 3094, in parse_requirements\n",
      "    yield Requirement(line)\n",
      "  File \"/opt/homebrew/lib/python3.10/site-packages/pipenv/patched/pip/_vendor/pkg_resources/__init__.py\", line 3103, in __init__\n",
      "    raise RequirementParseError(str(e))\n",
      "pipenv.patched.pip._vendor.pkg_resources.RequirementParseError: Parse error at \"'-U'\": Expected W:(0-9A-Za-z)\n",
      "\n",
      "During handling of the above exception, another exception occurred:\n",
      "\n",
      "Traceback (most recent call last):\n",
      "  File \"/opt/homebrew/bin/pipenv\", line 8, in <module>\n",
      "    sys.exit(cli())\n",
      "  File \"/opt/homebrew/lib/python3.10/site-packages/pipenv/vendor/click/core.py\", line 1128, in __call__\n",
      "    return self.main(*args, **kwargs)\n",
      "  File \"/opt/homebrew/lib/python3.10/site-packages/pipenv/cli/options.py\", line 58, in main\n",
      "    return super().main(*args, **kwargs, windows_expand_args=False)\n",
      "  File \"/opt/homebrew/lib/python3.10/site-packages/pipenv/vendor/click/core.py\", line 1053, in main\n",
      "    rv = self.invoke(ctx)\n",
      "  File \"/opt/homebrew/lib/python3.10/site-packages/pipenv/vendor/click/core.py\", line 1659, in invoke\n",
      "    return _process_result(sub_ctx.command.invoke(sub_ctx))\n",
      "  File \"/opt/homebrew/lib/python3.10/site-packages/pipenv/vendor/click/core.py\", line 1395, in invoke\n",
      "    return ctx.invoke(self.callback, **ctx.params)\n",
      "  File \"/opt/homebrew/lib/python3.10/site-packages/pipenv/vendor/click/core.py\", line 754, in invoke\n",
      "    return __callback(*args, **kwargs)\n",
      "  File \"/opt/homebrew/lib/python3.10/site-packages/pipenv/vendor/click/decorators.py\", line 84, in new_func\n",
      "    return ctx.invoke(f, obj, *args, **kwargs)\n",
      "  File \"/opt/homebrew/lib/python3.10/site-packages/pipenv/vendor/click/core.py\", line 754, in invoke\n",
      "    return __callback(*args, **kwargs)\n",
      "  File \"/opt/homebrew/lib/python3.10/site-packages/pipenv/cli/command.py\", line 238, in install\n",
      "    do_install(\n",
      "  File \"/opt/homebrew/lib/python3.10/site-packages/pipenv/core.py\", line 2278, in do_install\n",
      "    pkg_requirement = Requirement.from_line(pkg_line)\n",
      "  File \"/opt/homebrew/lib/python3.10/site-packages/pipenv/vendor/requirementslib/models/requirements.py\", line 2677, in from_line\n",
      "    parsed_line = Line(line)\n",
      "  File \"/opt/homebrew/lib/python3.10/site-packages/pipenv/vendor/requirementslib/models/requirements.py\", line 171, in __init__\n",
      "    self.parse()\n",
      "  File \"/opt/homebrew/lib/python3.10/site-packages/pipenv/vendor/requirementslib/models/requirements.py\", line 1300, in parse\n",
      "    self.parse_name()\n",
      "  File \"/opt/homebrew/lib/python3.10/site-packages/pipenv/vendor/requirementslib/models/requirements.py\", line 1025, in parse_name\n",
      "    name = self._parse_name_from_line()\n",
      "  File \"/opt/homebrew/lib/python3.10/site-packages/pipenv/vendor/requirementslib/models/requirements.py\", line 966, in _parse_name_from_line\n",
      "    raise RequirementError(\n",
      "pipenv.vendor.requirementslib.exceptions.RequirementError: Failed parsing requirement from '-U'\n",
      "\u001b[32mCourtesy Notice\u001b[0m: Pipenv found itself running within a virtual environment, so it will automatically use that environment, instead of creating its own for any project. You can set \u001b[1mPIPENV_IGNORE_VIRTUALENVS=1\u001b[0m to force pipenv to ignore that environment and create its own instead. You can set \u001b[1mPIPENV_VERBOSITY=-1\u001b[0m to suppress this warning.\n",
      "\u001b[32m\u001b[1mInstalling seaborn...\u001b[0m\n",
      "\u001b[?25lResolving seaborn\u001b[33m...\u001b[0m\n",
      "\u001b[2KInstalling\u001b[33m...\u001b[0m\n",
      "\u001b[2K\u001b[1mAdding \u001b[0m\u001b[1;32mseaborn\u001b[0m to Pipfile's \u001b[1;33m[\u001b[0m\u001b[33mpackages\u001b[0m\u001b[1;33m]\u001b[0m \u001b[33m...\u001b[0m\n",
      "\u001b[2K✔ Installation Succeededn...\n",
      "\u001b[2K\u001b[32m⠙\u001b[0m Installing seaborn...\n",
      "\u001b[1A\u001b[2K\u001b[1mInstalling dependencies from Pipfile.lock (90cccb)...\u001b[0m\n",
      "To activate this project's virtualenv, run \u001b[33mpipenv shell\u001b[0m.\n",
      "Alternatively, run a command inside the virtualenv with \u001b[33mpipenv run\u001b[0m.\n"
     ]
    }
   ],
   "source": [
    "!pipenv install -U numpy\n",
    "!pipenv install seaborn"
   ]
  },
  {
   "cell_type": "code",
   "execution_count": 3,
   "metadata": {},
   "outputs": [],
   "source": [
    "# Importing the packages needed\n",
    "import pandas as pd\n",
    "import numpy as np\n",
    "import seaborn as sns\n",
    "import matplotlib"
   ]
  },
  {
   "cell_type": "code",
   "execution_count": null,
   "metadata": {},
   "outputs": [],
   "source": []
  },
  {
   "cell_type": "code",
   "execution_count": 30,
   "metadata": {},
   "outputs": [],
   "source": [
    "# Data \n",
    "counties_2020=pd.read_csv(\"../covid-19-data/us-counties-2020.csv\")\n",
    "counties_2021=pd.read_csv(\"../covid-19-data/us-counties-2021.csv\")\n",
    "counties_2022=pd.read_csv(\"../covid-19-data/us-counties-2022.csv\")\n",
    "counties_2023=pd.read_csv(\"../covid-19-data/us-counties-2023.csv\")"
   ]
  },
  {
   "cell_type": "code",
   "execution_count": 5,
   "metadata": {},
   "outputs": [
    {
     "data": {
      "text/html": [
       "<div>\n",
       "<style scoped>\n",
       "    .dataframe tbody tr th:only-of-type {\n",
       "        vertical-align: middle;\n",
       "    }\n",
       "\n",
       "    .dataframe tbody tr th {\n",
       "        vertical-align: top;\n",
       "    }\n",
       "\n",
       "    .dataframe thead th {\n",
       "        text-align: right;\n",
       "    }\n",
       "</style>\n",
       "<table border=\"1\" class=\"dataframe\">\n",
       "  <thead>\n",
       "    <tr style=\"text-align: right;\">\n",
       "      <th></th>\n",
       "      <th>date</th>\n",
       "      <th>county</th>\n",
       "      <th>state</th>\n",
       "      <th>fips</th>\n",
       "      <th>cases</th>\n",
       "      <th>deaths</th>\n",
       "    </tr>\n",
       "  </thead>\n",
       "  <tbody>\n",
       "    <tr>\n",
       "      <th>0</th>\n",
       "      <td>2020-01-21</td>\n",
       "      <td>Snohomish</td>\n",
       "      <td>Washington</td>\n",
       "      <td>53061.0</td>\n",
       "      <td>1</td>\n",
       "      <td>0.0</td>\n",
       "    </tr>\n",
       "    <tr>\n",
       "      <th>1</th>\n",
       "      <td>2020-01-22</td>\n",
       "      <td>Snohomish</td>\n",
       "      <td>Washington</td>\n",
       "      <td>53061.0</td>\n",
       "      <td>1</td>\n",
       "      <td>0.0</td>\n",
       "    </tr>\n",
       "    <tr>\n",
       "      <th>2</th>\n",
       "      <td>2020-01-23</td>\n",
       "      <td>Snohomish</td>\n",
       "      <td>Washington</td>\n",
       "      <td>53061.0</td>\n",
       "      <td>1</td>\n",
       "      <td>0.0</td>\n",
       "    </tr>\n",
       "    <tr>\n",
       "      <th>3</th>\n",
       "      <td>2020-01-24</td>\n",
       "      <td>Cook</td>\n",
       "      <td>Illinois</td>\n",
       "      <td>17031.0</td>\n",
       "      <td>1</td>\n",
       "      <td>0.0</td>\n",
       "    </tr>\n",
       "    <tr>\n",
       "      <th>4</th>\n",
       "      <td>2020-01-24</td>\n",
       "      <td>Snohomish</td>\n",
       "      <td>Washington</td>\n",
       "      <td>53061.0</td>\n",
       "      <td>1</td>\n",
       "      <td>0.0</td>\n",
       "    </tr>\n",
       "    <tr>\n",
       "      <th>...</th>\n",
       "      <td>...</td>\n",
       "      <td>...</td>\n",
       "      <td>...</td>\n",
       "      <td>...</td>\n",
       "      <td>...</td>\n",
       "      <td>...</td>\n",
       "    </tr>\n",
       "    <tr>\n",
       "      <th>884732</th>\n",
       "      <td>2020-12-31</td>\n",
       "      <td>Sweetwater</td>\n",
       "      <td>Wyoming</td>\n",
       "      <td>56037.0</td>\n",
       "      <td>2966</td>\n",
       "      <td>16.0</td>\n",
       "    </tr>\n",
       "    <tr>\n",
       "      <th>884733</th>\n",
       "      <td>2020-12-31</td>\n",
       "      <td>Teton</td>\n",
       "      <td>Wyoming</td>\n",
       "      <td>56039.0</td>\n",
       "      <td>2138</td>\n",
       "      <td>4.0</td>\n",
       "    </tr>\n",
       "    <tr>\n",
       "      <th>884734</th>\n",
       "      <td>2020-12-31</td>\n",
       "      <td>Uinta</td>\n",
       "      <td>Wyoming</td>\n",
       "      <td>56041.0</td>\n",
       "      <td>1558</td>\n",
       "      <td>7.0</td>\n",
       "    </tr>\n",
       "    <tr>\n",
       "      <th>884735</th>\n",
       "      <td>2020-12-31</td>\n",
       "      <td>Washakie</td>\n",
       "      <td>Wyoming</td>\n",
       "      <td>56043.0</td>\n",
       "      <td>780</td>\n",
       "      <td>19.0</td>\n",
       "    </tr>\n",
       "    <tr>\n",
       "      <th>884736</th>\n",
       "      <td>2020-12-31</td>\n",
       "      <td>Weston</td>\n",
       "      <td>Wyoming</td>\n",
       "      <td>56045.0</td>\n",
       "      <td>476</td>\n",
       "      <td>2.0</td>\n",
       "    </tr>\n",
       "  </tbody>\n",
       "</table>\n",
       "<p>884737 rows × 6 columns</p>\n",
       "</div>"
      ],
      "text/plain": [
       "              date      county       state     fips  cases  deaths\n",
       "0       2020-01-21   Snohomish  Washington  53061.0      1     0.0\n",
       "1       2020-01-22   Snohomish  Washington  53061.0      1     0.0\n",
       "2       2020-01-23   Snohomish  Washington  53061.0      1     0.0\n",
       "3       2020-01-24        Cook    Illinois  17031.0      1     0.0\n",
       "4       2020-01-24   Snohomish  Washington  53061.0      1     0.0\n",
       "...            ...         ...         ...      ...    ...     ...\n",
       "884732  2020-12-31  Sweetwater     Wyoming  56037.0   2966    16.0\n",
       "884733  2020-12-31       Teton     Wyoming  56039.0   2138     4.0\n",
       "884734  2020-12-31       Uinta     Wyoming  56041.0   1558     7.0\n",
       "884735  2020-12-31    Washakie     Wyoming  56043.0    780    19.0\n",
       "884736  2020-12-31      Weston     Wyoming  56045.0    476     2.0\n",
       "\n",
       "[884737 rows x 6 columns]"
      ]
     },
     "execution_count": 5,
     "metadata": {},
     "output_type": "execute_result"
    }
   ],
   "source": [
    "counties_2020"
   ]
  },
  {
   "cell_type": "code",
   "execution_count": 33,
   "metadata": {},
   "outputs": [],
   "source": [
    "# test_df = pd.DataFrame({\n",
    "#     'state': ['A', 'B', 'A', 'C', 'B', 'C', 'D', 'D', 'D', 'E'],\n",
    "#     'cases': [100, 200, 150, 300, 250, 400, 100, 200, 300, 50],\n",
    "#     'deaths': [10, 20, 15, 30, 25, 40, 10, 20, 30, 5]\n",
    "# })"
   ]
  },
  {
   "cell_type": "code",
   "execution_count": 60,
   "metadata": {},
   "outputs": [],
   "source": [
    "from us import states\n",
    "def states_by_covid(df):\n",
    "    # Group by state and calculate sums for cases and deaths\n",
    "    grouped_df = df.groupby('state', as_index=False)[['cases', 'deaths']].sum()\n",
    "    \n",
    "    # Calculate death per case percentage\n",
    "    grouped_df['death_per_case'] = round((grouped_df['deaths'] / grouped_df['cases']) * 100, 2)\n",
    "    \n",
    "    # Sort by cases and death_per_case in descending order\n",
    "    grouped_df = grouped_df.sort_values(by=['cases', 'death_per_case'], ascending=[False, False])\n",
    "    state_to_abbrev={state.name:state.abbr for state in states.STATES}\n",
    "    grouped_df['state_abbrev']=grouped_df['state'].map(state_to_abbrev)\n",
    "    \n",
    "    # Return the top 10 rows\n",
    "    return grouped_df\n",
    "counties_2020_groupby = states_by_covid(counties_2020)\n",
    "counties_2021_groupby=states_by_covid(counties_2021)\n",
    "counties_2022_groupby=states_by_covid(counties_2022)\n",
    "counties_2023_groupby=states_by_covid(counties_2023)\n"
   ]
  },
  {
   "cell_type": "code",
   "execution_count": 61,
   "metadata": {},
   "outputs": [
    {
     "data": {
      "text/html": [
       "<div>\n",
       "<style scoped>\n",
       "    .dataframe tbody tr th:only-of-type {\n",
       "        vertical-align: middle;\n",
       "    }\n",
       "\n",
       "    .dataframe tbody tr th {\n",
       "        vertical-align: top;\n",
       "    }\n",
       "\n",
       "    .dataframe thead th {\n",
       "        text-align: right;\n",
       "    }\n",
       "</style>\n",
       "<table border=\"1\" class=\"dataframe\">\n",
       "  <thead>\n",
       "    <tr style=\"text-align: right;\">\n",
       "      <th></th>\n",
       "      <th>state</th>\n",
       "      <th>cases</th>\n",
       "      <th>deaths</th>\n",
       "      <th>death_per_case</th>\n",
       "      <th>state_abbrev</th>\n",
       "    </tr>\n",
       "  </thead>\n",
       "  <tbody>\n",
       "    <tr>\n",
       "      <th>5</th>\n",
       "      <td>California</td>\n",
       "      <td>985844951</td>\n",
       "      <td>8424694.0</td>\n",
       "      <td>0.85</td>\n",
       "      <td>CA</td>\n",
       "    </tr>\n",
       "    <tr>\n",
       "      <th>47</th>\n",
       "      <td>Texas</td>\n",
       "      <td>678812946</td>\n",
       "      <td>7679552.0</td>\n",
       "      <td>1.13</td>\n",
       "      <td>TX</td>\n",
       "    </tr>\n",
       "    <tr>\n",
       "      <th>10</th>\n",
       "      <td>Florida</td>\n",
       "      <td>609882039</td>\n",
       "      <td>7020942.0</td>\n",
       "      <td>1.15</td>\n",
       "      <td>FL</td>\n",
       "    </tr>\n",
       "    <tr>\n",
       "      <th>34</th>\n",
       "      <td>New York</td>\n",
       "      <td>551095969</td>\n",
       "      <td>6483341.0</td>\n",
       "      <td>1.18</td>\n",
       "      <td>NY</td>\n",
       "    </tr>\n",
       "    <tr>\n",
       "      <th>15</th>\n",
       "      <td>Illinois</td>\n",
       "      <td>331615853</td>\n",
       "      <td>3377350.0</td>\n",
       "      <td>1.02</td>\n",
       "      <td>IL</td>\n",
       "    </tr>\n",
       "  </tbody>\n",
       "</table>\n",
       "</div>"
      ],
      "text/plain": [
       "         state      cases     deaths  death_per_case state_abbrev\n",
       "5   California  985844951  8424694.0            0.85           CA\n",
       "47       Texas  678812946  7679552.0            1.13           TX\n",
       "10     Florida  609882039  7020942.0            1.15           FL\n",
       "34    New York  551095969  6483341.0            1.18           NY\n",
       "15    Illinois  331615853  3377350.0            1.02           IL"
      ]
     },
     "execution_count": 61,
     "metadata": {},
     "output_type": "execute_result"
    }
   ],
   "source": [
    "counties_2023_groupby.head(5)"
   ]
  },
  {
   "cell_type": "code",
   "execution_count": 6,
   "metadata": {},
   "outputs": [
    {
     "data": {
      "text/html": [
       "<div>\n",
       "<style scoped>\n",
       "    .dataframe tbody tr th:only-of-type {\n",
       "        vertical-align: middle;\n",
       "    }\n",
       "\n",
       "    .dataframe tbody tr th {\n",
       "        vertical-align: top;\n",
       "    }\n",
       "\n",
       "    .dataframe thead th {\n",
       "        text-align: right;\n",
       "    }\n",
       "</style>\n",
       "<table border=\"1\" class=\"dataframe\">\n",
       "  <thead>\n",
       "    <tr style=\"text-align: right;\">\n",
       "      <th></th>\n",
       "      <th>state</th>\n",
       "      <th>cases</th>\n",
       "      <th>deaths</th>\n",
       "      <th>death_per_case</th>\n",
       "    </tr>\n",
       "  </thead>\n",
       "  <tbody>\n",
       "    <tr>\n",
       "      <th>4</th>\n",
       "      <td>California</td>\n",
       "      <td>174969176</td>\n",
       "      <td>3065113.0</td>\n",
       "      <td>2.0</td>\n",
       "    </tr>\n",
       "    <tr>\n",
       "      <th>46</th>\n",
       "      <td>Texas</td>\n",
       "      <td>160159130</td>\n",
       "      <td>2927740.0</td>\n",
       "      <td>2.0</td>\n",
       "    </tr>\n",
       "    <tr>\n",
       "      <th>9</th>\n",
       "      <td>Florida</td>\n",
       "      <td>138123133</td>\n",
       "      <td>2632238.0</td>\n",
       "      <td>2.0</td>\n",
       "    </tr>\n",
       "    <tr>\n",
       "      <th>33</th>\n",
       "      <td>New York</td>\n",
       "      <td>126307878</td>\n",
       "      <td>8320598.0</td>\n",
       "      <td>7.0</td>\n",
       "    </tr>\n",
       "    <tr>\n",
       "      <th>14</th>\n",
       "      <td>Illinois</td>\n",
       "      <td>82118324</td>\n",
       "      <td>2211390.0</td>\n",
       "      <td>3.0</td>\n",
       "    </tr>\n",
       "    <tr>\n",
       "      <th>10</th>\n",
       "      <td>Georgia</td>\n",
       "      <td>62230196</td>\n",
       "      <td>1363977.0</td>\n",
       "      <td>2.0</td>\n",
       "    </tr>\n",
       "    <tr>\n",
       "      <th>31</th>\n",
       "      <td>New Jersey</td>\n",
       "      <td>57403306</td>\n",
       "      <td>3817150.0</td>\n",
       "      <td>7.0</td>\n",
       "    </tr>\n",
       "    <tr>\n",
       "      <th>40</th>\n",
       "      <td>Pennsylvania</td>\n",
       "      <td>47304959</td>\n",
       "      <td>2002629.0</td>\n",
       "      <td>4.0</td>\n",
       "    </tr>\n",
       "    <tr>\n",
       "      <th>2</th>\n",
       "      <td>Arizona</td>\n",
       "      <td>47147078</td>\n",
       "      <td>1048821.0</td>\n",
       "      <td>2.0</td>\n",
       "    </tr>\n",
       "    <tr>\n",
       "      <th>34</th>\n",
       "      <td>North Carolina</td>\n",
       "      <td>46306384</td>\n",
       "      <td>734456.0</td>\n",
       "      <td>2.0</td>\n",
       "    </tr>\n",
       "  </tbody>\n",
       "</table>\n",
       "</div>"
      ],
      "text/plain": [
       "             state      cases     deaths  death_per_case\n",
       "4       California  174969176  3065113.0             2.0\n",
       "46           Texas  160159130  2927740.0             2.0\n",
       "9          Florida  138123133  2632238.0             2.0\n",
       "33        New York  126307878  8320598.0             7.0\n",
       "14        Illinois   82118324  2211390.0             3.0\n",
       "10         Georgia   62230196  1363977.0             2.0\n",
       "31      New Jersey   57403306  3817150.0             7.0\n",
       "40    Pennsylvania   47304959  2002629.0             4.0\n",
       "2          Arizona   47147078  1048821.0             2.0\n",
       "34  North Carolina   46306384   734456.0             2.0"
      ]
     },
     "execution_count": 6,
     "metadata": {},
     "output_type": "execute_result"
    }
   ],
   "source": [
    "# Lets look at the states and their corresponding deaths\n",
    "counties_2020_groupby=counties_2020.groupby('state', as_index=False)[['cases','deaths']].sum()\n",
    "counties_2020_groupby['death_per_case']=round(counties_2020_groupby['deaths']/counties_2020_groupby['cases'],2)*100\n",
    "counties_2020_groupby=counties_2020_groupby.sort_values(by=['cases', 'death_per_case'], ascending=[False, False])\n",
    "top_10_states_covid_2020=counties_2020_groupby.head(10)\n",
    "top_10_states_covid_2020"
   ]
  },
  {
   "cell_type": "code",
   "execution_count": 56,
   "metadata": {},
   "outputs": [],
   "source": [
    "from us import states\n",
    "state_to_abbrev={state.name:state.abbr for state in states.STATES}\n",
    "counties_2020_groupby['state_abbrev']=counties_2020_groupby['state'].map(state_to_abbrev)"
   ]
  },
  {
   "cell_type": "code",
   "execution_count": 57,
   "metadata": {},
   "outputs": [
    {
     "data": {
      "text/html": [
       "<div>\n",
       "<style scoped>\n",
       "    .dataframe tbody tr th:only-of-type {\n",
       "        vertical-align: middle;\n",
       "    }\n",
       "\n",
       "    .dataframe tbody tr th {\n",
       "        vertical-align: top;\n",
       "    }\n",
       "\n",
       "    .dataframe thead th {\n",
       "        text-align: right;\n",
       "    }\n",
       "</style>\n",
       "<table border=\"1\" class=\"dataframe\">\n",
       "  <thead>\n",
       "    <tr style=\"text-align: right;\">\n",
       "      <th></th>\n",
       "      <th>state</th>\n",
       "      <th>cases</th>\n",
       "      <th>deaths</th>\n",
       "      <th>death_per_case</th>\n",
       "      <th>state_abbrev</th>\n",
       "    </tr>\n",
       "  </thead>\n",
       "  <tbody>\n",
       "    <tr>\n",
       "      <th>4</th>\n",
       "      <td>California</td>\n",
       "      <td>174969176</td>\n",
       "      <td>3065113.0</td>\n",
       "      <td>1.75</td>\n",
       "      <td>CA</td>\n",
       "    </tr>\n",
       "    <tr>\n",
       "      <th>46</th>\n",
       "      <td>Texas</td>\n",
       "      <td>160159130</td>\n",
       "      <td>2927740.0</td>\n",
       "      <td>1.83</td>\n",
       "      <td>TX</td>\n",
       "    </tr>\n",
       "    <tr>\n",
       "      <th>9</th>\n",
       "      <td>Florida</td>\n",
       "      <td>138123133</td>\n",
       "      <td>2632238.0</td>\n",
       "      <td>1.91</td>\n",
       "      <td>FL</td>\n",
       "    </tr>\n",
       "    <tr>\n",
       "      <th>33</th>\n",
       "      <td>New York</td>\n",
       "      <td>126307878</td>\n",
       "      <td>8320598.0</td>\n",
       "      <td>6.59</td>\n",
       "      <td>NY</td>\n",
       "    </tr>\n",
       "    <tr>\n",
       "      <th>14</th>\n",
       "      <td>Illinois</td>\n",
       "      <td>82118324</td>\n",
       "      <td>2211390.0</td>\n",
       "      <td>2.69</td>\n",
       "      <td>IL</td>\n",
       "    </tr>\n",
       "  </tbody>\n",
       "</table>\n",
       "</div>"
      ],
      "text/plain": [
       "         state      cases     deaths  death_per_case state_abbrev\n",
       "4   California  174969176  3065113.0            1.75           CA\n",
       "46       Texas  160159130  2927740.0            1.83           TX\n",
       "9      Florida  138123133  2632238.0            1.91           FL\n",
       "33    New York  126307878  8320598.0            6.59           NY\n",
       "14    Illinois   82118324  2211390.0            2.69           IL"
      ]
     },
     "execution_count": 57,
     "metadata": {},
     "output_type": "execute_result"
    }
   ],
   "source": [
    "counties_2020_groupby.head(5)"
   ]
  },
  {
   "cell_type": "code",
   "execution_count": 58,
   "metadata": {},
   "outputs": [
    {
     "data": {
      "text/html": [
       "<div>\n",
       "<style scoped>\n",
       "    .dataframe tbody tr th:only-of-type {\n",
       "        vertical-align: middle;\n",
       "    }\n",
       "\n",
       "    .dataframe tbody tr th {\n",
       "        vertical-align: top;\n",
       "    }\n",
       "\n",
       "    .dataframe thead th {\n",
       "        text-align: right;\n",
       "    }\n",
       "</style>\n",
       "<table border=\"1\" class=\"dataframe\">\n",
       "  <thead>\n",
       "    <tr style=\"text-align: right;\">\n",
       "      <th></th>\n",
       "      <th>state</th>\n",
       "      <th>cases</th>\n",
       "      <th>deaths</th>\n",
       "      <th>death_per_case</th>\n",
       "      <th>state_abbrev</th>\n",
       "    </tr>\n",
       "  </thead>\n",
       "  <tbody>\n",
       "    <tr>\n",
       "      <th>4</th>\n",
       "      <td>California</td>\n",
       "      <td>174969176</td>\n",
       "      <td>3065113.0</td>\n",
       "      <td>1.75</td>\n",
       "      <td>CA</td>\n",
       "    </tr>\n",
       "    <tr>\n",
       "      <th>46</th>\n",
       "      <td>Texas</td>\n",
       "      <td>160159130</td>\n",
       "      <td>2927740.0</td>\n",
       "      <td>1.83</td>\n",
       "      <td>TX</td>\n",
       "    </tr>\n",
       "    <tr>\n",
       "      <th>9</th>\n",
       "      <td>Florida</td>\n",
       "      <td>138123133</td>\n",
       "      <td>2632238.0</td>\n",
       "      <td>1.91</td>\n",
       "      <td>FL</td>\n",
       "    </tr>\n",
       "    <tr>\n",
       "      <th>33</th>\n",
       "      <td>New York</td>\n",
       "      <td>126307878</td>\n",
       "      <td>8320598.0</td>\n",
       "      <td>6.59</td>\n",
       "      <td>NY</td>\n",
       "    </tr>\n",
       "    <tr>\n",
       "      <th>14</th>\n",
       "      <td>Illinois</td>\n",
       "      <td>82118324</td>\n",
       "      <td>2211390.0</td>\n",
       "      <td>2.69</td>\n",
       "      <td>IL</td>\n",
       "    </tr>\n",
       "    <tr>\n",
       "      <th>10</th>\n",
       "      <td>Georgia</td>\n",
       "      <td>62230196</td>\n",
       "      <td>1363977.0</td>\n",
       "      <td>2.19</td>\n",
       "      <td>GA</td>\n",
       "    </tr>\n",
       "    <tr>\n",
       "      <th>31</th>\n",
       "      <td>New Jersey</td>\n",
       "      <td>57403306</td>\n",
       "      <td>3817150.0</td>\n",
       "      <td>6.65</td>\n",
       "      <td>NJ</td>\n",
       "    </tr>\n",
       "    <tr>\n",
       "      <th>40</th>\n",
       "      <td>Pennsylvania</td>\n",
       "      <td>47304959</td>\n",
       "      <td>2002629.0</td>\n",
       "      <td>4.23</td>\n",
       "      <td>PA</td>\n",
       "    </tr>\n",
       "    <tr>\n",
       "      <th>2</th>\n",
       "      <td>Arizona</td>\n",
       "      <td>47147078</td>\n",
       "      <td>1048821.0</td>\n",
       "      <td>2.22</td>\n",
       "      <td>AZ</td>\n",
       "    </tr>\n",
       "    <tr>\n",
       "      <th>34</th>\n",
       "      <td>North Carolina</td>\n",
       "      <td>46306384</td>\n",
       "      <td>734456.0</td>\n",
       "      <td>1.59</td>\n",
       "      <td>NC</td>\n",
       "    </tr>\n",
       "    <tr>\n",
       "      <th>37</th>\n",
       "      <td>Ohio</td>\n",
       "      <td>44885224</td>\n",
       "      <td>1062373.0</td>\n",
       "      <td>2.37</td>\n",
       "      <td>OH</td>\n",
       "    </tr>\n",
       "    <tr>\n",
       "      <th>45</th>\n",
       "      <td>Tennessee</td>\n",
       "      <td>43836216</td>\n",
       "      <td>540030.0</td>\n",
       "      <td>1.23</td>\n",
       "      <td>TN</td>\n",
       "    </tr>\n",
       "    <tr>\n",
       "      <th>23</th>\n",
       "      <td>Michigan</td>\n",
       "      <td>42112852</td>\n",
       "      <td>1837617.0</td>\n",
       "      <td>4.36</td>\n",
       "      <td>MI</td>\n",
       "    </tr>\n",
       "    <tr>\n",
       "      <th>53</th>\n",
       "      <td>Wisconsin</td>\n",
       "      <td>37998809</td>\n",
       "      <td>410977.0</td>\n",
       "      <td>1.08</td>\n",
       "      <td>WI</td>\n",
       "    </tr>\n",
       "    <tr>\n",
       "      <th>22</th>\n",
       "      <td>Massachusetts</td>\n",
       "      <td>37419301</td>\n",
       "      <td>2222455.0</td>\n",
       "      <td>5.94</td>\n",
       "      <td>MA</td>\n",
       "    </tr>\n",
       "    <tr>\n",
       "      <th>15</th>\n",
       "      <td>Indiana</td>\n",
       "      <td>35947357</td>\n",
       "      <td>920773.0</td>\n",
       "      <td>2.56</td>\n",
       "      <td>IN</td>\n",
       "    </tr>\n",
       "    <tr>\n",
       "      <th>19</th>\n",
       "      <td>Louisiana</td>\n",
       "      <td>35116739</td>\n",
       "      <td>1184574.0</td>\n",
       "      <td>3.37</td>\n",
       "      <td>LA</td>\n",
       "    </tr>\n",
       "    <tr>\n",
       "      <th>50</th>\n",
       "      <td>Virginia</td>\n",
       "      <td>32850541</td>\n",
       "      <td>668990.0</td>\n",
       "      <td>2.04</td>\n",
       "      <td>VA</td>\n",
       "    </tr>\n",
       "    <tr>\n",
       "      <th>0</th>\n",
       "      <td>Alabama</td>\n",
       "      <td>32236000</td>\n",
       "      <td>526388.0</td>\n",
       "      <td>1.63</td>\n",
       "      <td>AL</td>\n",
       "    </tr>\n",
       "    <tr>\n",
       "      <th>26</th>\n",
       "      <td>Missouri</td>\n",
       "      <td>31469332</td>\n",
       "      <td>530055.0</td>\n",
       "      <td>1.68</td>\n",
       "      <td>MO</td>\n",
       "    </tr>\n",
       "    <tr>\n",
       "      <th>24</th>\n",
       "      <td>Minnesota</td>\n",
       "      <td>29868387</td>\n",
       "      <td>531337.0</td>\n",
       "      <td>1.78</td>\n",
       "      <td>MN</td>\n",
       "    </tr>\n",
       "    <tr>\n",
       "      <th>43</th>\n",
       "      <td>South Carolina</td>\n",
       "      <td>29321200</td>\n",
       "      <td>618708.0</td>\n",
       "      <td>2.11</td>\n",
       "      <td>SC</td>\n",
       "    </tr>\n",
       "    <tr>\n",
       "      <th>21</th>\n",
       "      <td>Maryland</td>\n",
       "      <td>29150984</td>\n",
       "      <td>912049.0</td>\n",
       "      <td>3.13</td>\n",
       "      <td>MD</td>\n",
       "    </tr>\n",
       "    <tr>\n",
       "      <th>5</th>\n",
       "      <td>Colorado</td>\n",
       "      <td>23442034</td>\n",
       "      <td>542870.0</td>\n",
       "      <td>2.32</td>\n",
       "      <td>CO</td>\n",
       "    </tr>\n",
       "    <tr>\n",
       "      <th>16</th>\n",
       "      <td>Iowa</td>\n",
       "      <td>23267720</td>\n",
       "      <td>335716.0</td>\n",
       "      <td>1.44</td>\n",
       "      <td>IA</td>\n",
       "    </tr>\n",
       "    <tr>\n",
       "      <th>51</th>\n",
       "      <td>Washington</td>\n",
       "      <td>21937303</td>\n",
       "      <td>504771.0</td>\n",
       "      <td>2.30</td>\n",
       "      <td>WA</td>\n",
       "    </tr>\n",
       "    <tr>\n",
       "      <th>38</th>\n",
       "      <td>Oklahoma</td>\n",
       "      <td>20512540</td>\n",
       "      <td>233760.0</td>\n",
       "      <td>1.14</td>\n",
       "      <td>OK</td>\n",
       "    </tr>\n",
       "    <tr>\n",
       "      <th>25</th>\n",
       "      <td>Mississippi</td>\n",
       "      <td>20500999</td>\n",
       "      <td>572569.0</td>\n",
       "      <td>2.79</td>\n",
       "      <td>MS</td>\n",
       "    </tr>\n",
       "    <tr>\n",
       "      <th>47</th>\n",
       "      <td>Utah</td>\n",
       "      <td>20001600</td>\n",
       "      <td>111490.0</td>\n",
       "      <td>0.56</td>\n",
       "      <td>UT</td>\n",
       "    </tr>\n",
       "    <tr>\n",
       "      <th>18</th>\n",
       "      <td>Kentucky</td>\n",
       "      <td>18801566</td>\n",
       "      <td>285739.0</td>\n",
       "      <td>1.52</td>\n",
       "      <td>KY</td>\n",
       "    </tr>\n",
       "    <tr>\n",
       "      <th>3</th>\n",
       "      <td>Arkansas</td>\n",
       "      <td>18406368</td>\n",
       "      <td>285868.0</td>\n",
       "      <td>1.55</td>\n",
       "      <td>AR</td>\n",
       "    </tr>\n",
       "    <tr>\n",
       "      <th>29</th>\n",
       "      <td>Nevada</td>\n",
       "      <td>18286722</td>\n",
       "      <td>319370.0</td>\n",
       "      <td>1.75</td>\n",
       "      <td>NV</td>\n",
       "    </tr>\n",
       "    <tr>\n",
       "      <th>6</th>\n",
       "      <td>Connecticut</td>\n",
       "      <td>17214231</td>\n",
       "      <td>1119863.0</td>\n",
       "      <td>6.51</td>\n",
       "      <td>CT</td>\n",
       "    </tr>\n",
       "    <tr>\n",
       "      <th>17</th>\n",
       "      <td>Kansas</td>\n",
       "      <td>15948027</td>\n",
       "      <td>187629.0</td>\n",
       "      <td>1.18</td>\n",
       "      <td>KS</td>\n",
       "    </tr>\n",
       "    <tr>\n",
       "      <th>28</th>\n",
       "      <td>Nebraska</td>\n",
       "      <td>13158427</td>\n",
       "      <td>132992.0</td>\n",
       "      <td>1.01</td>\n",
       "      <td>NE</td>\n",
       "    </tr>\n",
       "    <tr>\n",
       "      <th>13</th>\n",
       "      <td>Idaho</td>\n",
       "      <td>10608658</td>\n",
       "      <td>109143.0</td>\n",
       "      <td>1.03</td>\n",
       "      <td>ID</td>\n",
       "    </tr>\n",
       "    <tr>\n",
       "      <th>41</th>\n",
       "      <td>Puerto Rico</td>\n",
       "      <td>9730415</td>\n",
       "      <td>134516.0</td>\n",
       "      <td>1.38</td>\n",
       "      <td>NaN</td>\n",
       "    </tr>\n",
       "    <tr>\n",
       "      <th>32</th>\n",
       "      <td>New Mexico</td>\n",
       "      <td>9586672</td>\n",
       "      <td>217023.0</td>\n",
       "      <td>2.26</td>\n",
       "      <td>NM</td>\n",
       "    </tr>\n",
       "    <tr>\n",
       "      <th>39</th>\n",
       "      <td>Oregon</td>\n",
       "      <td>8343602</td>\n",
       "      <td>128396.0</td>\n",
       "      <td>1.54</td>\n",
       "      <td>OR</td>\n",
       "    </tr>\n",
       "    <tr>\n",
       "      <th>42</th>\n",
       "      <td>Rhode Island</td>\n",
       "      <td>7357021</td>\n",
       "      <td>262024.0</td>\n",
       "      <td>3.56</td>\n",
       "      <td>RI</td>\n",
       "    </tr>\n",
       "    <tr>\n",
       "      <th>44</th>\n",
       "      <td>South Dakota</td>\n",
       "      <td>7219457</td>\n",
       "      <td>86828.0</td>\n",
       "      <td>1.20</td>\n",
       "      <td>SD</td>\n",
       "    </tr>\n",
       "    <tr>\n",
       "      <th>35</th>\n",
       "      <td>North Dakota</td>\n",
       "      <td>6682198</td>\n",
       "      <td>87065.0</td>\n",
       "      <td>1.30</td>\n",
       "      <td>ND</td>\n",
       "    </tr>\n",
       "    <tr>\n",
       "      <th>7</th>\n",
       "      <td>Delaware</td>\n",
       "      <td>5154377</td>\n",
       "      <td>145664.0</td>\n",
       "      <td>2.83</td>\n",
       "      <td>DE</td>\n",
       "    </tr>\n",
       "    <tr>\n",
       "      <th>27</th>\n",
       "      <td>Montana</td>\n",
       "      <td>5007382</td>\n",
       "      <td>58866.0</td>\n",
       "      <td>1.18</td>\n",
       "      <td>MT</td>\n",
       "    </tr>\n",
       "    <tr>\n",
       "      <th>52</th>\n",
       "      <td>West Virginia</td>\n",
       "      <td>4681431</td>\n",
       "      <td>84127.0</td>\n",
       "      <td>1.80</td>\n",
       "      <td>WV</td>\n",
       "    </tr>\n",
       "    <tr>\n",
       "      <th>8</th>\n",
       "      <td>District of Columbia</td>\n",
       "      <td>3644621</td>\n",
       "      <td>146395.0</td>\n",
       "      <td>4.02</td>\n",
       "      <td>NaN</td>\n",
       "    </tr>\n",
       "    <tr>\n",
       "      <th>1</th>\n",
       "      <td>Alaska</td>\n",
       "      <td>2854127</td>\n",
       "      <td>13147.0</td>\n",
       "      <td>0.46</td>\n",
       "      <td>AK</td>\n",
       "    </tr>\n",
       "    <tr>\n",
       "      <th>30</th>\n",
       "      <td>New Hampshire</td>\n",
       "      <td>2724705</td>\n",
       "      <td>102996.0</td>\n",
       "      <td>3.78</td>\n",
       "      <td>NH</td>\n",
       "    </tr>\n",
       "    <tr>\n",
       "      <th>54</th>\n",
       "      <td>Wyoming</td>\n",
       "      <td>2591448</td>\n",
       "      <td>20734.0</td>\n",
       "      <td>0.80</td>\n",
       "      <td>WY</td>\n",
       "    </tr>\n",
       "    <tr>\n",
       "      <th>12</th>\n",
       "      <td>Hawaii</td>\n",
       "      <td>2129453</td>\n",
       "      <td>27227.0</td>\n",
       "      <td>1.28</td>\n",
       "      <td>HI</td>\n",
       "    </tr>\n",
       "    <tr>\n",
       "      <th>20</th>\n",
       "      <td>Maine</td>\n",
       "      <td>1551410</td>\n",
       "      <td>35654.0</td>\n",
       "      <td>2.30</td>\n",
       "      <td>ME</td>\n",
       "    </tr>\n",
       "    <tr>\n",
       "      <th>11</th>\n",
       "      <td>Guam</td>\n",
       "      <td>869347</td>\n",
       "      <td>10424.0</td>\n",
       "      <td>1.20</td>\n",
       "      <td>NaN</td>\n",
       "    </tr>\n",
       "    <tr>\n",
       "      <th>48</th>\n",
       "      <td>Vermont</td>\n",
       "      <td>561055</td>\n",
       "      <td>16434.0</td>\n",
       "      <td>2.93</td>\n",
       "      <td>VT</td>\n",
       "    </tr>\n",
       "    <tr>\n",
       "      <th>49</th>\n",
       "      <td>Virgin Islands</td>\n",
       "      <td>216310</td>\n",
       "      <td>3503.0</td>\n",
       "      <td>1.62</td>\n",
       "      <td>NaN</td>\n",
       "    </tr>\n",
       "    <tr>\n",
       "      <th>36</th>\n",
       "      <td>Northern Mariana Islands</td>\n",
       "      <td>15491</td>\n",
       "      <td>544.0</td>\n",
       "      <td>3.51</td>\n",
       "      <td>NaN</td>\n",
       "    </tr>\n",
       "  </tbody>\n",
       "</table>\n",
       "</div>"
      ],
      "text/plain": [
       "                       state      cases     deaths  death_per_case  \\\n",
       "4                 California  174969176  3065113.0            1.75   \n",
       "46                     Texas  160159130  2927740.0            1.83   \n",
       "9                    Florida  138123133  2632238.0            1.91   \n",
       "33                  New York  126307878  8320598.0            6.59   \n",
       "14                  Illinois   82118324  2211390.0            2.69   \n",
       "10                   Georgia   62230196  1363977.0            2.19   \n",
       "31                New Jersey   57403306  3817150.0            6.65   \n",
       "40              Pennsylvania   47304959  2002629.0            4.23   \n",
       "2                    Arizona   47147078  1048821.0            2.22   \n",
       "34            North Carolina   46306384   734456.0            1.59   \n",
       "37                      Ohio   44885224  1062373.0            2.37   \n",
       "45                 Tennessee   43836216   540030.0            1.23   \n",
       "23                  Michigan   42112852  1837617.0            4.36   \n",
       "53                 Wisconsin   37998809   410977.0            1.08   \n",
       "22             Massachusetts   37419301  2222455.0            5.94   \n",
       "15                   Indiana   35947357   920773.0            2.56   \n",
       "19                 Louisiana   35116739  1184574.0            3.37   \n",
       "50                  Virginia   32850541   668990.0            2.04   \n",
       "0                    Alabama   32236000   526388.0            1.63   \n",
       "26                  Missouri   31469332   530055.0            1.68   \n",
       "24                 Minnesota   29868387   531337.0            1.78   \n",
       "43            South Carolina   29321200   618708.0            2.11   \n",
       "21                  Maryland   29150984   912049.0            3.13   \n",
       "5                   Colorado   23442034   542870.0            2.32   \n",
       "16                      Iowa   23267720   335716.0            1.44   \n",
       "51                Washington   21937303   504771.0            2.30   \n",
       "38                  Oklahoma   20512540   233760.0            1.14   \n",
       "25               Mississippi   20500999   572569.0            2.79   \n",
       "47                      Utah   20001600   111490.0            0.56   \n",
       "18                  Kentucky   18801566   285739.0            1.52   \n",
       "3                   Arkansas   18406368   285868.0            1.55   \n",
       "29                    Nevada   18286722   319370.0            1.75   \n",
       "6                Connecticut   17214231  1119863.0            6.51   \n",
       "17                    Kansas   15948027   187629.0            1.18   \n",
       "28                  Nebraska   13158427   132992.0            1.01   \n",
       "13                     Idaho   10608658   109143.0            1.03   \n",
       "41               Puerto Rico    9730415   134516.0            1.38   \n",
       "32                New Mexico    9586672   217023.0            2.26   \n",
       "39                    Oregon    8343602   128396.0            1.54   \n",
       "42              Rhode Island    7357021   262024.0            3.56   \n",
       "44              South Dakota    7219457    86828.0            1.20   \n",
       "35              North Dakota    6682198    87065.0            1.30   \n",
       "7                   Delaware    5154377   145664.0            2.83   \n",
       "27                   Montana    5007382    58866.0            1.18   \n",
       "52             West Virginia    4681431    84127.0            1.80   \n",
       "8       District of Columbia    3644621   146395.0            4.02   \n",
       "1                     Alaska    2854127    13147.0            0.46   \n",
       "30             New Hampshire    2724705   102996.0            3.78   \n",
       "54                   Wyoming    2591448    20734.0            0.80   \n",
       "12                    Hawaii    2129453    27227.0            1.28   \n",
       "20                     Maine    1551410    35654.0            2.30   \n",
       "11                      Guam     869347    10424.0            1.20   \n",
       "48                   Vermont     561055    16434.0            2.93   \n",
       "49            Virgin Islands     216310     3503.0            1.62   \n",
       "36  Northern Mariana Islands      15491      544.0            3.51   \n",
       "\n",
       "   state_abbrev  \n",
       "4            CA  \n",
       "46           TX  \n",
       "9            FL  \n",
       "33           NY  \n",
       "14           IL  \n",
       "10           GA  \n",
       "31           NJ  \n",
       "40           PA  \n",
       "2            AZ  \n",
       "34           NC  \n",
       "37           OH  \n",
       "45           TN  \n",
       "23           MI  \n",
       "53           WI  \n",
       "22           MA  \n",
       "15           IN  \n",
       "19           LA  \n",
       "50           VA  \n",
       "0            AL  \n",
       "26           MO  \n",
       "24           MN  \n",
       "43           SC  \n",
       "21           MD  \n",
       "5            CO  \n",
       "16           IA  \n",
       "51           WA  \n",
       "38           OK  \n",
       "25           MS  \n",
       "47           UT  \n",
       "18           KY  \n",
       "3            AR  \n",
       "29           NV  \n",
       "6            CT  \n",
       "17           KS  \n",
       "28           NE  \n",
       "13           ID  \n",
       "41          NaN  \n",
       "32           NM  \n",
       "39           OR  \n",
       "42           RI  \n",
       "44           SD  \n",
       "35           ND  \n",
       "7            DE  \n",
       "27           MT  \n",
       "52           WV  \n",
       "8           NaN  \n",
       "1            AK  \n",
       "30           NH  \n",
       "54           WY  \n",
       "12           HI  \n",
       "20           ME  \n",
       "11          NaN  \n",
       "48           VT  \n",
       "49          NaN  \n",
       "36          NaN  "
      ]
     },
     "execution_count": 58,
     "metadata": {},
     "output_type": "execute_result"
    }
   ],
   "source": [
    "counties_2020_groupby"
   ]
  },
  {
   "cell_type": "code",
   "execution_count": 62,
   "metadata": {},
   "outputs": [
    {
     "data": {
      "application/vnd.plotly.v1+json": {
       "config": {
        "plotlyServerURL": "https://plot.ly"
       },
       "data": [
        {
         "coloraxis": "coloraxis",
         "customdata": [
          [
           "CA",
           1.75
          ],
          [
           "TX",
           1.83
          ],
          [
           "FL",
           1.91
          ],
          [
           "NY",
           6.59
          ],
          [
           "IL",
           2.69
          ],
          [
           "GA",
           2.19
          ],
          [
           "NJ",
           6.65
          ],
          [
           "PA",
           4.23
          ],
          [
           "AZ",
           2.22
          ],
          [
           "NC",
           1.59
          ],
          [
           "OH",
           2.37
          ],
          [
           "TN",
           1.23
          ],
          [
           "MI",
           4.36
          ],
          [
           "WI",
           1.08
          ],
          [
           "MA",
           5.94
          ],
          [
           "IN",
           2.56
          ],
          [
           "LA",
           3.37
          ],
          [
           "VA",
           2.04
          ],
          [
           "AL",
           1.63
          ],
          [
           "MO",
           1.68
          ],
          [
           "MN",
           1.78
          ],
          [
           "SC",
           2.11
          ],
          [
           "MD",
           3.13
          ],
          [
           "CO",
           2.32
          ],
          [
           "IA",
           1.44
          ],
          [
           "WA",
           2.3
          ],
          [
           "OK",
           1.14
          ],
          [
           "MS",
           2.79
          ],
          [
           "UT",
           0.56
          ],
          [
           "KY",
           1.52
          ],
          [
           "AR",
           1.55
          ],
          [
           "NV",
           1.75
          ],
          [
           "CT",
           6.51
          ],
          [
           "KS",
           1.18
          ],
          [
           "NE",
           1.01
          ],
          [
           "ID",
           1.03
          ],
          [
           null,
           1.38
          ],
          [
           "NM",
           2.26
          ],
          [
           "OR",
           1.54
          ],
          [
           "RI",
           3.56
          ],
          [
           "SD",
           1.2
          ],
          [
           "ND",
           1.3
          ],
          [
           "DE",
           2.83
          ],
          [
           "MT",
           1.18
          ],
          [
           "WV",
           1.8
          ],
          [
           null,
           4.02
          ],
          [
           "AK",
           0.46
          ],
          [
           "NH",
           3.78
          ],
          [
           "WY",
           0.8
          ],
          [
           "HI",
           1.28
          ],
          [
           "ME",
           2.3
          ],
          [
           null,
           1.2
          ],
          [
           "VT",
           2.93
          ],
          [
           null,
           1.62
          ],
          [
           null,
           3.51
          ]
         ],
         "geo": "geo",
         "hovertemplate": "<b>%{hovertext}</b><br><br>death rate=%{z}<extra></extra>",
         "hovertext": [
          "California",
          "Texas",
          "Florida",
          "New York",
          "Illinois",
          "Georgia",
          "New Jersey",
          "Pennsylvania",
          "Arizona",
          "North Carolina",
          "Ohio",
          "Tennessee",
          "Michigan",
          "Wisconsin",
          "Massachusetts",
          "Indiana",
          "Louisiana",
          "Virginia",
          "Alabama",
          "Missouri",
          "Minnesota",
          "South Carolina",
          "Maryland",
          "Colorado",
          "Iowa",
          "Washington",
          "Oklahoma",
          "Mississippi",
          "Utah",
          "Kentucky",
          "Arkansas",
          "Nevada",
          "Connecticut",
          "Kansas",
          "Nebraska",
          "Idaho",
          "Puerto Rico",
          "New Mexico",
          "Oregon",
          "Rhode Island",
          "South Dakota",
          "North Dakota",
          "Delaware",
          "Montana",
          "West Virginia",
          "District of Columbia",
          "Alaska",
          "New Hampshire",
          "Wyoming",
          "Hawaii",
          "Maine",
          "Guam",
          "Vermont",
          "Virgin Islands",
          "Northern Mariana Islands"
         ],
         "locationmode": "USA-states",
         "locations": [
          "CA",
          "TX",
          "FL",
          "NY",
          "IL",
          "GA",
          "NJ",
          "PA",
          "AZ",
          "NC",
          "OH",
          "TN",
          "MI",
          "WI",
          "MA",
          "IN",
          "LA",
          "VA",
          "AL",
          "MO",
          "MN",
          "SC",
          "MD",
          "CO",
          "IA",
          "WA",
          "OK",
          "MS",
          "UT",
          "KY",
          "AR",
          "NV",
          "CT",
          "KS",
          "NE",
          "ID",
          null,
          "NM",
          "OR",
          "RI",
          "SD",
          "ND",
          "DE",
          "MT",
          "WV",
          null,
          "AK",
          "NH",
          "WY",
          "HI",
          "ME",
          null,
          "VT",
          null,
          null
         ],
         "name": "",
         "type": "choropleth",
         "z": [
          1.75,
          1.83,
          1.91,
          6.59,
          2.69,
          2.19,
          6.65,
          4.23,
          2.22,
          1.59,
          2.37,
          1.23,
          4.36,
          1.08,
          5.94,
          2.56,
          3.37,
          2.04,
          1.63,
          1.68,
          1.78,
          2.11,
          3.13,
          2.32,
          1.44,
          2.3,
          1.14,
          2.79,
          0.56,
          1.52,
          1.55,
          1.75,
          6.51,
          1.18,
          1.01,
          1.03,
          1.38,
          2.26,
          1.54,
          3.56,
          1.2,
          1.3,
          2.83,
          1.18,
          1.8,
          4.02,
          0.46,
          3.78,
          0.8,
          1.28,
          2.3,
          1.2,
          2.93,
          1.62,
          3.51
         ]
        }
       ],
       "layout": {
        "coloraxis": {
         "colorbar": {
          "title": {
           "text": "death rate"
          }
         },
         "colorscale": [
          [
           0,
           "#440154"
          ],
          [
           0.1111111111111111,
           "#482878"
          ],
          [
           0.2222222222222222,
           "#3e4989"
          ],
          [
           0.3333333333333333,
           "#31688e"
          ],
          [
           0.4444444444444444,
           "#26828e"
          ],
          [
           0.5555555555555556,
           "#1f9e89"
          ],
          [
           0.6666666666666666,
           "#35b779"
          ],
          [
           0.7777777777777778,
           "#6ece58"
          ],
          [
           0.8888888888888888,
           "#b5de2b"
          ],
          [
           1,
           "#fde725"
          ]
         ]
        },
        "geo": {
         "center": {},
         "domain": {
          "x": [
           0,
           1
          ],
          "y": [
           0,
           1
          ]
         },
         "scope": "usa"
        },
        "legend": {
         "tracegroupgap": 0
        },
        "margin": {
         "b": 0,
         "l": 0,
         "r": 0,
         "t": 0
        },
        "template": {
         "data": {
          "bar": [
           {
            "error_x": {
             "color": "#2a3f5f"
            },
            "error_y": {
             "color": "#2a3f5f"
            },
            "marker": {
             "line": {
              "color": "#E5ECF6",
              "width": 0.5
             },
             "pattern": {
              "fillmode": "overlay",
              "size": 10,
              "solidity": 0.2
             }
            },
            "type": "bar"
           }
          ],
          "barpolar": [
           {
            "marker": {
             "line": {
              "color": "#E5ECF6",
              "width": 0.5
             },
             "pattern": {
              "fillmode": "overlay",
              "size": 10,
              "solidity": 0.2
             }
            },
            "type": "barpolar"
           }
          ],
          "carpet": [
           {
            "aaxis": {
             "endlinecolor": "#2a3f5f",
             "gridcolor": "white",
             "linecolor": "white",
             "minorgridcolor": "white",
             "startlinecolor": "#2a3f5f"
            },
            "baxis": {
             "endlinecolor": "#2a3f5f",
             "gridcolor": "white",
             "linecolor": "white",
             "minorgridcolor": "white",
             "startlinecolor": "#2a3f5f"
            },
            "type": "carpet"
           }
          ],
          "choropleth": [
           {
            "colorbar": {
             "outlinewidth": 0,
             "ticks": ""
            },
            "type": "choropleth"
           }
          ],
          "contour": [
           {
            "colorbar": {
             "outlinewidth": 0,
             "ticks": ""
            },
            "colorscale": [
             [
              0,
              "#0d0887"
             ],
             [
              0.1111111111111111,
              "#46039f"
             ],
             [
              0.2222222222222222,
              "#7201a8"
             ],
             [
              0.3333333333333333,
              "#9c179e"
             ],
             [
              0.4444444444444444,
              "#bd3786"
             ],
             [
              0.5555555555555556,
              "#d8576b"
             ],
             [
              0.6666666666666666,
              "#ed7953"
             ],
             [
              0.7777777777777778,
              "#fb9f3a"
             ],
             [
              0.8888888888888888,
              "#fdca26"
             ],
             [
              1,
              "#f0f921"
             ]
            ],
            "type": "contour"
           }
          ],
          "contourcarpet": [
           {
            "colorbar": {
             "outlinewidth": 0,
             "ticks": ""
            },
            "type": "contourcarpet"
           }
          ],
          "heatmap": [
           {
            "colorbar": {
             "outlinewidth": 0,
             "ticks": ""
            },
            "colorscale": [
             [
              0,
              "#0d0887"
             ],
             [
              0.1111111111111111,
              "#46039f"
             ],
             [
              0.2222222222222222,
              "#7201a8"
             ],
             [
              0.3333333333333333,
              "#9c179e"
             ],
             [
              0.4444444444444444,
              "#bd3786"
             ],
             [
              0.5555555555555556,
              "#d8576b"
             ],
             [
              0.6666666666666666,
              "#ed7953"
             ],
             [
              0.7777777777777778,
              "#fb9f3a"
             ],
             [
              0.8888888888888888,
              "#fdca26"
             ],
             [
              1,
              "#f0f921"
             ]
            ],
            "type": "heatmap"
           }
          ],
          "heatmapgl": [
           {
            "colorbar": {
             "outlinewidth": 0,
             "ticks": ""
            },
            "colorscale": [
             [
              0,
              "#0d0887"
             ],
             [
              0.1111111111111111,
              "#46039f"
             ],
             [
              0.2222222222222222,
              "#7201a8"
             ],
             [
              0.3333333333333333,
              "#9c179e"
             ],
             [
              0.4444444444444444,
              "#bd3786"
             ],
             [
              0.5555555555555556,
              "#d8576b"
             ],
             [
              0.6666666666666666,
              "#ed7953"
             ],
             [
              0.7777777777777778,
              "#fb9f3a"
             ],
             [
              0.8888888888888888,
              "#fdca26"
             ],
             [
              1,
              "#f0f921"
             ]
            ],
            "type": "heatmapgl"
           }
          ],
          "histogram": [
           {
            "marker": {
             "pattern": {
              "fillmode": "overlay",
              "size": 10,
              "solidity": 0.2
             }
            },
            "type": "histogram"
           }
          ],
          "histogram2d": [
           {
            "colorbar": {
             "outlinewidth": 0,
             "ticks": ""
            },
            "colorscale": [
             [
              0,
              "#0d0887"
             ],
             [
              0.1111111111111111,
              "#46039f"
             ],
             [
              0.2222222222222222,
              "#7201a8"
             ],
             [
              0.3333333333333333,
              "#9c179e"
             ],
             [
              0.4444444444444444,
              "#bd3786"
             ],
             [
              0.5555555555555556,
              "#d8576b"
             ],
             [
              0.6666666666666666,
              "#ed7953"
             ],
             [
              0.7777777777777778,
              "#fb9f3a"
             ],
             [
              0.8888888888888888,
              "#fdca26"
             ],
             [
              1,
              "#f0f921"
             ]
            ],
            "type": "histogram2d"
           }
          ],
          "histogram2dcontour": [
           {
            "colorbar": {
             "outlinewidth": 0,
             "ticks": ""
            },
            "colorscale": [
             [
              0,
              "#0d0887"
             ],
             [
              0.1111111111111111,
              "#46039f"
             ],
             [
              0.2222222222222222,
              "#7201a8"
             ],
             [
              0.3333333333333333,
              "#9c179e"
             ],
             [
              0.4444444444444444,
              "#bd3786"
             ],
             [
              0.5555555555555556,
              "#d8576b"
             ],
             [
              0.6666666666666666,
              "#ed7953"
             ],
             [
              0.7777777777777778,
              "#fb9f3a"
             ],
             [
              0.8888888888888888,
              "#fdca26"
             ],
             [
              1,
              "#f0f921"
             ]
            ],
            "type": "histogram2dcontour"
           }
          ],
          "mesh3d": [
           {
            "colorbar": {
             "outlinewidth": 0,
             "ticks": ""
            },
            "type": "mesh3d"
           }
          ],
          "parcoords": [
           {
            "line": {
             "colorbar": {
              "outlinewidth": 0,
              "ticks": ""
             }
            },
            "type": "parcoords"
           }
          ],
          "pie": [
           {
            "automargin": true,
            "type": "pie"
           }
          ],
          "scatter": [
           {
            "fillpattern": {
             "fillmode": "overlay",
             "size": 10,
             "solidity": 0.2
            },
            "type": "scatter"
           }
          ],
          "scatter3d": [
           {
            "line": {
             "colorbar": {
              "outlinewidth": 0,
              "ticks": ""
             }
            },
            "marker": {
             "colorbar": {
              "outlinewidth": 0,
              "ticks": ""
             }
            },
            "type": "scatter3d"
           }
          ],
          "scattercarpet": [
           {
            "marker": {
             "colorbar": {
              "outlinewidth": 0,
              "ticks": ""
             }
            },
            "type": "scattercarpet"
           }
          ],
          "scattergeo": [
           {
            "marker": {
             "colorbar": {
              "outlinewidth": 0,
              "ticks": ""
             }
            },
            "type": "scattergeo"
           }
          ],
          "scattergl": [
           {
            "marker": {
             "colorbar": {
              "outlinewidth": 0,
              "ticks": ""
             }
            },
            "type": "scattergl"
           }
          ],
          "scattermapbox": [
           {
            "marker": {
             "colorbar": {
              "outlinewidth": 0,
              "ticks": ""
             }
            },
            "type": "scattermapbox"
           }
          ],
          "scatterpolar": [
           {
            "marker": {
             "colorbar": {
              "outlinewidth": 0,
              "ticks": ""
             }
            },
            "type": "scatterpolar"
           }
          ],
          "scatterpolargl": [
           {
            "marker": {
             "colorbar": {
              "outlinewidth": 0,
              "ticks": ""
             }
            },
            "type": "scatterpolargl"
           }
          ],
          "scatterternary": [
           {
            "marker": {
             "colorbar": {
              "outlinewidth": 0,
              "ticks": ""
             }
            },
            "type": "scatterternary"
           }
          ],
          "surface": [
           {
            "colorbar": {
             "outlinewidth": 0,
             "ticks": ""
            },
            "colorscale": [
             [
              0,
              "#0d0887"
             ],
             [
              0.1111111111111111,
              "#46039f"
             ],
             [
              0.2222222222222222,
              "#7201a8"
             ],
             [
              0.3333333333333333,
              "#9c179e"
             ],
             [
              0.4444444444444444,
              "#bd3786"
             ],
             [
              0.5555555555555556,
              "#d8576b"
             ],
             [
              0.6666666666666666,
              "#ed7953"
             ],
             [
              0.7777777777777778,
              "#fb9f3a"
             ],
             [
              0.8888888888888888,
              "#fdca26"
             ],
             [
              1,
              "#f0f921"
             ]
            ],
            "type": "surface"
           }
          ],
          "table": [
           {
            "cells": {
             "fill": {
              "color": "#EBF0F8"
             },
             "line": {
              "color": "white"
             }
            },
            "header": {
             "fill": {
              "color": "#C8D4E3"
             },
             "line": {
              "color": "white"
             }
            },
            "type": "table"
           }
          ]
         },
         "layout": {
          "annotationdefaults": {
           "arrowcolor": "#2a3f5f",
           "arrowhead": 0,
           "arrowwidth": 1
          },
          "autotypenumbers": "strict",
          "coloraxis": {
           "colorbar": {
            "outlinewidth": 0,
            "ticks": ""
           }
          },
          "colorscale": {
           "diverging": [
            [
             0,
             "#8e0152"
            ],
            [
             0.1,
             "#c51b7d"
            ],
            [
             0.2,
             "#de77ae"
            ],
            [
             0.3,
             "#f1b6da"
            ],
            [
             0.4,
             "#fde0ef"
            ],
            [
             0.5,
             "#f7f7f7"
            ],
            [
             0.6,
             "#e6f5d0"
            ],
            [
             0.7,
             "#b8e186"
            ],
            [
             0.8,
             "#7fbc41"
            ],
            [
             0.9,
             "#4d9221"
            ],
            [
             1,
             "#276419"
            ]
           ],
           "sequential": [
            [
             0,
             "#0d0887"
            ],
            [
             0.1111111111111111,
             "#46039f"
            ],
            [
             0.2222222222222222,
             "#7201a8"
            ],
            [
             0.3333333333333333,
             "#9c179e"
            ],
            [
             0.4444444444444444,
             "#bd3786"
            ],
            [
             0.5555555555555556,
             "#d8576b"
            ],
            [
             0.6666666666666666,
             "#ed7953"
            ],
            [
             0.7777777777777778,
             "#fb9f3a"
            ],
            [
             0.8888888888888888,
             "#fdca26"
            ],
            [
             1,
             "#f0f921"
            ]
           ],
           "sequentialminus": [
            [
             0,
             "#0d0887"
            ],
            [
             0.1111111111111111,
             "#46039f"
            ],
            [
             0.2222222222222222,
             "#7201a8"
            ],
            [
             0.3333333333333333,
             "#9c179e"
            ],
            [
             0.4444444444444444,
             "#bd3786"
            ],
            [
             0.5555555555555556,
             "#d8576b"
            ],
            [
             0.6666666666666666,
             "#ed7953"
            ],
            [
             0.7777777777777778,
             "#fb9f3a"
            ],
            [
             0.8888888888888888,
             "#fdca26"
            ],
            [
             1,
             "#f0f921"
            ]
           ]
          },
          "colorway": [
           "#636efa",
           "#EF553B",
           "#00cc96",
           "#ab63fa",
           "#FFA15A",
           "#19d3f3",
           "#FF6692",
           "#B6E880",
           "#FF97FF",
           "#FECB52"
          ],
          "font": {
           "color": "#2a3f5f"
          },
          "geo": {
           "bgcolor": "white",
           "lakecolor": "white",
           "landcolor": "#E5ECF6",
           "showlakes": true,
           "showland": true,
           "subunitcolor": "white"
          },
          "hoverlabel": {
           "align": "left"
          },
          "hovermode": "closest",
          "mapbox": {
           "style": "light"
          },
          "paper_bgcolor": "white",
          "plot_bgcolor": "#E5ECF6",
          "polar": {
           "angularaxis": {
            "gridcolor": "white",
            "linecolor": "white",
            "ticks": ""
           },
           "bgcolor": "#E5ECF6",
           "radialaxis": {
            "gridcolor": "white",
            "linecolor": "white",
            "ticks": ""
           }
          },
          "scene": {
           "xaxis": {
            "backgroundcolor": "#E5ECF6",
            "gridcolor": "white",
            "gridwidth": 2,
            "linecolor": "white",
            "showbackground": true,
            "ticks": "",
            "zerolinecolor": "white"
           },
           "yaxis": {
            "backgroundcolor": "#E5ECF6",
            "gridcolor": "white",
            "gridwidth": 2,
            "linecolor": "white",
            "showbackground": true,
            "ticks": "",
            "zerolinecolor": "white"
           },
           "zaxis": {
            "backgroundcolor": "#E5ECF6",
            "gridcolor": "white",
            "gridwidth": 2,
            "linecolor": "white",
            "showbackground": true,
            "ticks": "",
            "zerolinecolor": "white"
           }
          },
          "shapedefaults": {
           "line": {
            "color": "#2a3f5f"
           }
          },
          "ternary": {
           "aaxis": {
            "gridcolor": "white",
            "linecolor": "white",
            "ticks": ""
           },
           "baxis": {
            "gridcolor": "white",
            "linecolor": "white",
            "ticks": ""
           },
           "bgcolor": "#E5ECF6",
           "caxis": {
            "gridcolor": "white",
            "linecolor": "white",
            "ticks": ""
           }
          },
          "title": {
           "x": 0.05
          },
          "xaxis": {
           "automargin": true,
           "gridcolor": "white",
           "linecolor": "white",
           "ticks": "",
           "title": {
            "standoff": 15
           },
           "zerolinecolor": "white",
           "zerolinewidth": 2
          },
          "yaxis": {
           "automargin": true,
           "gridcolor": "white",
           "linecolor": "white",
           "ticks": "",
           "title": {
            "standoff": 15
           },
           "zerolinecolor": "white",
           "zerolinewidth": 2
          }
         }
        },
        "title": {
         "text": "USA map with death_rate"
        }
       }
      }
     },
     "metadata": {},
     "output_type": "display_data"
    }
   ],
   "source": [
    "import plotly.express as px\n",
    "fig=px.choropleth(counties_2020_groupby,locations='state_abbrev',locationmode='USA-states',\n",
    "                  color='death_per_case' ,\n",
    "                           scope=\"usa\",\n",
    "                           color_continuous_scale=\"Viridis\",\n",
    "                           labels={'death_per_case':'death rate'},\n",
    "                           hover_name='state',\n",
    "                           hover_data={'state_abbrev':False, 'death_per_case':True}\n",
    "                          )\n",
    "\n",
    "fig.update_layout(\n",
    "    title_text='USA map with death_rate',\n",
    "    margin={\"r\":0,\"t\":0,\"l\":0,\"b\":0})\n",
    "    # margin={\"r\":0,\"t\":0,\"l\":0,\"b\":0})\n",
    "fig.show()                          \n",
    "\n"
   ]
  },
  {
   "cell_type": "code",
   "execution_count": 63,
   "metadata": {},
   "outputs": [
    {
     "data": {
      "application/vnd.plotly.v1+json": {
       "config": {
        "plotlyServerURL": "https://plot.ly"
       },
       "data": [
        {
         "coloraxis": "coloraxis",
         "customdata": [
          [
           "CA",
           1.51
          ],
          [
           "TX",
           1.68
          ],
          [
           "FL",
           1.57
          ],
          [
           "NY",
           2.44
          ],
          [
           "IL",
           1.76
          ],
          [
           "PA",
           2.19
          ],
          [
           "GA",
           1.74
          ],
          [
           "OH",
           1.66
          ],
          [
           "NC",
           1.25
          ],
          [
           "NJ",
           2.54
          ],
          [
           "MI",
           2.03
          ],
          [
           "AZ",
           1.88
          ],
          [
           "TN",
           1.37
          ],
          [
           "IN",
           1.72
          ],
          [
           "WI",
           1.11
          ],
          [
           "VA",
           1.55
          ],
          [
           "MA",
           2.44
          ],
          [
           "MO",
           1.52
          ],
          [
           "SC",
           1.57
          ],
          [
           "MN",
           1.21
          ],
          [
           "AL",
           1.9
          ],
          [
           "CO",
           1.23
          ],
          [
           "LA",
           2.05
          ],
          [
           "KY",
           1.37
          ],
          [
           "WA",
           1.27
          ],
          [
           "OK",
           1.45
          ],
          [
           "MD",
           1.99
          ],
          [
           "UT",
           0.56
          ],
          [
           "IA",
           1.53
          ],
          [
           "AR",
           1.64
          ],
          [
           "MS",
           2.12
          ],
          [
           "NV",
           1.68
          ],
          [
           "KS",
           1.51
          ],
          [
           "CT",
           2.35
          ],
          [
           "OR",
           1.3
          ],
          [
           "NE",
           1.06
          ],
          [
           "NM",
           1.93
          ],
          [
           "ID",
           1.14
          ],
          [
           "WV",
           1.68
          ],
          [
           null,
           1.44
          ],
          [
           "RI",
           1.73
          ],
          [
           "SD",
           1.55
          ],
          [
           "MT",
           1.39
          ],
          [
           "ND",
           1.34
          ],
          [
           "DE",
           1.51
          ],
          [
           "NH",
           1.29
          ],
          [
           "AK",
           0.51
          ],
          [
           "ME",
           1.22
          ],
          [
           "WY",
           1.19
          ],
          [
           null,
           2.13
          ],
          [
           "HI",
           1.23
          ],
          [
           "VT",
           1
          ],
          [
           null,
           1.4
          ],
          [
           null,
           0.98
          ],
          [
           null,
           0.68
          ],
          [
           null,
           0
          ]
         ],
         "geo": "geo",
         "hovertemplate": "<b>%{hovertext}</b><br><br>death rate=%{z}<extra></extra>",
         "hovertext": [
          "California",
          "Texas",
          "Florida",
          "New York",
          "Illinois",
          "Pennsylvania",
          "Georgia",
          "Ohio",
          "North Carolina",
          "New Jersey",
          "Michigan",
          "Arizona",
          "Tennessee",
          "Indiana",
          "Wisconsin",
          "Virginia",
          "Massachusetts",
          "Missouri",
          "South Carolina",
          "Minnesota",
          "Alabama",
          "Colorado",
          "Louisiana",
          "Kentucky",
          "Washington",
          "Oklahoma",
          "Maryland",
          "Utah",
          "Iowa",
          "Arkansas",
          "Mississippi",
          "Nevada",
          "Kansas",
          "Connecticut",
          "Oregon",
          "Nebraska",
          "New Mexico",
          "Idaho",
          "West Virginia",
          "Puerto Rico",
          "Rhode Island",
          "South Dakota",
          "Montana",
          "North Dakota",
          "Delaware",
          "New Hampshire",
          "Alaska",
          "Maine",
          "Wyoming",
          "District of Columbia",
          "Hawaii",
          "Vermont",
          "Guam",
          "Virgin Islands",
          "Northern Mariana Islands",
          "American Samoa"
         ],
         "locationmode": "USA-states",
         "locations": [
          "CA",
          "TX",
          "FL",
          "NY",
          "IL",
          "PA",
          "GA",
          "OH",
          "NC",
          "NJ",
          "MI",
          "AZ",
          "TN",
          "IN",
          "WI",
          "VA",
          "MA",
          "MO",
          "SC",
          "MN",
          "AL",
          "CO",
          "LA",
          "KY",
          "WA",
          "OK",
          "MD",
          "UT",
          "IA",
          "AR",
          "MS",
          "NV",
          "KS",
          "CT",
          "OR",
          "NE",
          "NM",
          "ID",
          "WV",
          null,
          "RI",
          "SD",
          "MT",
          "ND",
          "DE",
          "NH",
          "AK",
          "ME",
          "WY",
          null,
          "HI",
          "VT",
          null,
          null,
          null,
          null
         ],
         "name": "",
         "type": "choropleth",
         "z": [
          1.51,
          1.68,
          1.57,
          2.44,
          1.76,
          2.19,
          1.74,
          1.66,
          1.25,
          2.54,
          2.03,
          1.88,
          1.37,
          1.72,
          1.11,
          1.55,
          2.44,
          1.52,
          1.57,
          1.21,
          1.9,
          1.23,
          2.05,
          1.37,
          1.27,
          1.45,
          1.99,
          0.56,
          1.53,
          1.64,
          2.12,
          1.68,
          1.51,
          2.35,
          1.3,
          1.06,
          1.93,
          1.14,
          1.68,
          1.44,
          1.73,
          1.55,
          1.39,
          1.34,
          1.51,
          1.29,
          0.51,
          1.22,
          1.19,
          2.13,
          1.23,
          1,
          1.4,
          0.98,
          0.68,
          0
         ]
        }
       ],
       "layout": {
        "coloraxis": {
         "colorbar": {
          "title": {
           "text": "death rate"
          }
         },
         "colorscale": [
          [
           0,
           "#440154"
          ],
          [
           0.1111111111111111,
           "#482878"
          ],
          [
           0.2222222222222222,
           "#3e4989"
          ],
          [
           0.3333333333333333,
           "#31688e"
          ],
          [
           0.4444444444444444,
           "#26828e"
          ],
          [
           0.5555555555555556,
           "#1f9e89"
          ],
          [
           0.6666666666666666,
           "#35b779"
          ],
          [
           0.7777777777777778,
           "#6ece58"
          ],
          [
           0.8888888888888888,
           "#b5de2b"
          ],
          [
           1,
           "#fde725"
          ]
         ]
        },
        "geo": {
         "center": {},
         "domain": {
          "x": [
           0,
           1
          ],
          "y": [
           0,
           1
          ]
         },
         "scope": "usa"
        },
        "legend": {
         "tracegroupgap": 0
        },
        "margin": {
         "b": 0,
         "l": 0,
         "r": 0,
         "t": 0
        },
        "template": {
         "data": {
          "bar": [
           {
            "error_x": {
             "color": "#2a3f5f"
            },
            "error_y": {
             "color": "#2a3f5f"
            },
            "marker": {
             "line": {
              "color": "#E5ECF6",
              "width": 0.5
             },
             "pattern": {
              "fillmode": "overlay",
              "size": 10,
              "solidity": 0.2
             }
            },
            "type": "bar"
           }
          ],
          "barpolar": [
           {
            "marker": {
             "line": {
              "color": "#E5ECF6",
              "width": 0.5
             },
             "pattern": {
              "fillmode": "overlay",
              "size": 10,
              "solidity": 0.2
             }
            },
            "type": "barpolar"
           }
          ],
          "carpet": [
           {
            "aaxis": {
             "endlinecolor": "#2a3f5f",
             "gridcolor": "white",
             "linecolor": "white",
             "minorgridcolor": "white",
             "startlinecolor": "#2a3f5f"
            },
            "baxis": {
             "endlinecolor": "#2a3f5f",
             "gridcolor": "white",
             "linecolor": "white",
             "minorgridcolor": "white",
             "startlinecolor": "#2a3f5f"
            },
            "type": "carpet"
           }
          ],
          "choropleth": [
           {
            "colorbar": {
             "outlinewidth": 0,
             "ticks": ""
            },
            "type": "choropleth"
           }
          ],
          "contour": [
           {
            "colorbar": {
             "outlinewidth": 0,
             "ticks": ""
            },
            "colorscale": [
             [
              0,
              "#0d0887"
             ],
             [
              0.1111111111111111,
              "#46039f"
             ],
             [
              0.2222222222222222,
              "#7201a8"
             ],
             [
              0.3333333333333333,
              "#9c179e"
             ],
             [
              0.4444444444444444,
              "#bd3786"
             ],
             [
              0.5555555555555556,
              "#d8576b"
             ],
             [
              0.6666666666666666,
              "#ed7953"
             ],
             [
              0.7777777777777778,
              "#fb9f3a"
             ],
             [
              0.8888888888888888,
              "#fdca26"
             ],
             [
              1,
              "#f0f921"
             ]
            ],
            "type": "contour"
           }
          ],
          "contourcarpet": [
           {
            "colorbar": {
             "outlinewidth": 0,
             "ticks": ""
            },
            "type": "contourcarpet"
           }
          ],
          "heatmap": [
           {
            "colorbar": {
             "outlinewidth": 0,
             "ticks": ""
            },
            "colorscale": [
             [
              0,
              "#0d0887"
             ],
             [
              0.1111111111111111,
              "#46039f"
             ],
             [
              0.2222222222222222,
              "#7201a8"
             ],
             [
              0.3333333333333333,
              "#9c179e"
             ],
             [
              0.4444444444444444,
              "#bd3786"
             ],
             [
              0.5555555555555556,
              "#d8576b"
             ],
             [
              0.6666666666666666,
              "#ed7953"
             ],
             [
              0.7777777777777778,
              "#fb9f3a"
             ],
             [
              0.8888888888888888,
              "#fdca26"
             ],
             [
              1,
              "#f0f921"
             ]
            ],
            "type": "heatmap"
           }
          ],
          "heatmapgl": [
           {
            "colorbar": {
             "outlinewidth": 0,
             "ticks": ""
            },
            "colorscale": [
             [
              0,
              "#0d0887"
             ],
             [
              0.1111111111111111,
              "#46039f"
             ],
             [
              0.2222222222222222,
              "#7201a8"
             ],
             [
              0.3333333333333333,
              "#9c179e"
             ],
             [
              0.4444444444444444,
              "#bd3786"
             ],
             [
              0.5555555555555556,
              "#d8576b"
             ],
             [
              0.6666666666666666,
              "#ed7953"
             ],
             [
              0.7777777777777778,
              "#fb9f3a"
             ],
             [
              0.8888888888888888,
              "#fdca26"
             ],
             [
              1,
              "#f0f921"
             ]
            ],
            "type": "heatmapgl"
           }
          ],
          "histogram": [
           {
            "marker": {
             "pattern": {
              "fillmode": "overlay",
              "size": 10,
              "solidity": 0.2
             }
            },
            "type": "histogram"
           }
          ],
          "histogram2d": [
           {
            "colorbar": {
             "outlinewidth": 0,
             "ticks": ""
            },
            "colorscale": [
             [
              0,
              "#0d0887"
             ],
             [
              0.1111111111111111,
              "#46039f"
             ],
             [
              0.2222222222222222,
              "#7201a8"
             ],
             [
              0.3333333333333333,
              "#9c179e"
             ],
             [
              0.4444444444444444,
              "#bd3786"
             ],
             [
              0.5555555555555556,
              "#d8576b"
             ],
             [
              0.6666666666666666,
              "#ed7953"
             ],
             [
              0.7777777777777778,
              "#fb9f3a"
             ],
             [
              0.8888888888888888,
              "#fdca26"
             ],
             [
              1,
              "#f0f921"
             ]
            ],
            "type": "histogram2d"
           }
          ],
          "histogram2dcontour": [
           {
            "colorbar": {
             "outlinewidth": 0,
             "ticks": ""
            },
            "colorscale": [
             [
              0,
              "#0d0887"
             ],
             [
              0.1111111111111111,
              "#46039f"
             ],
             [
              0.2222222222222222,
              "#7201a8"
             ],
             [
              0.3333333333333333,
              "#9c179e"
             ],
             [
              0.4444444444444444,
              "#bd3786"
             ],
             [
              0.5555555555555556,
              "#d8576b"
             ],
             [
              0.6666666666666666,
              "#ed7953"
             ],
             [
              0.7777777777777778,
              "#fb9f3a"
             ],
             [
              0.8888888888888888,
              "#fdca26"
             ],
             [
              1,
              "#f0f921"
             ]
            ],
            "type": "histogram2dcontour"
           }
          ],
          "mesh3d": [
           {
            "colorbar": {
             "outlinewidth": 0,
             "ticks": ""
            },
            "type": "mesh3d"
           }
          ],
          "parcoords": [
           {
            "line": {
             "colorbar": {
              "outlinewidth": 0,
              "ticks": ""
             }
            },
            "type": "parcoords"
           }
          ],
          "pie": [
           {
            "automargin": true,
            "type": "pie"
           }
          ],
          "scatter": [
           {
            "fillpattern": {
             "fillmode": "overlay",
             "size": 10,
             "solidity": 0.2
            },
            "type": "scatter"
           }
          ],
          "scatter3d": [
           {
            "line": {
             "colorbar": {
              "outlinewidth": 0,
              "ticks": ""
             }
            },
            "marker": {
             "colorbar": {
              "outlinewidth": 0,
              "ticks": ""
             }
            },
            "type": "scatter3d"
           }
          ],
          "scattercarpet": [
           {
            "marker": {
             "colorbar": {
              "outlinewidth": 0,
              "ticks": ""
             }
            },
            "type": "scattercarpet"
           }
          ],
          "scattergeo": [
           {
            "marker": {
             "colorbar": {
              "outlinewidth": 0,
              "ticks": ""
             }
            },
            "type": "scattergeo"
           }
          ],
          "scattergl": [
           {
            "marker": {
             "colorbar": {
              "outlinewidth": 0,
              "ticks": ""
             }
            },
            "type": "scattergl"
           }
          ],
          "scattermapbox": [
           {
            "marker": {
             "colorbar": {
              "outlinewidth": 0,
              "ticks": ""
             }
            },
            "type": "scattermapbox"
           }
          ],
          "scatterpolar": [
           {
            "marker": {
             "colorbar": {
              "outlinewidth": 0,
              "ticks": ""
             }
            },
            "type": "scatterpolar"
           }
          ],
          "scatterpolargl": [
           {
            "marker": {
             "colorbar": {
              "outlinewidth": 0,
              "ticks": ""
             }
            },
            "type": "scatterpolargl"
           }
          ],
          "scatterternary": [
           {
            "marker": {
             "colorbar": {
              "outlinewidth": 0,
              "ticks": ""
             }
            },
            "type": "scatterternary"
           }
          ],
          "surface": [
           {
            "colorbar": {
             "outlinewidth": 0,
             "ticks": ""
            },
            "colorscale": [
             [
              0,
              "#0d0887"
             ],
             [
              0.1111111111111111,
              "#46039f"
             ],
             [
              0.2222222222222222,
              "#7201a8"
             ],
             [
              0.3333333333333333,
              "#9c179e"
             ],
             [
              0.4444444444444444,
              "#bd3786"
             ],
             [
              0.5555555555555556,
              "#d8576b"
             ],
             [
              0.6666666666666666,
              "#ed7953"
             ],
             [
              0.7777777777777778,
              "#fb9f3a"
             ],
             [
              0.8888888888888888,
              "#fdca26"
             ],
             [
              1,
              "#f0f921"
             ]
            ],
            "type": "surface"
           }
          ],
          "table": [
           {
            "cells": {
             "fill": {
              "color": "#EBF0F8"
             },
             "line": {
              "color": "white"
             }
            },
            "header": {
             "fill": {
              "color": "#C8D4E3"
             },
             "line": {
              "color": "white"
             }
            },
            "type": "table"
           }
          ]
         },
         "layout": {
          "annotationdefaults": {
           "arrowcolor": "#2a3f5f",
           "arrowhead": 0,
           "arrowwidth": 1
          },
          "autotypenumbers": "strict",
          "coloraxis": {
           "colorbar": {
            "outlinewidth": 0,
            "ticks": ""
           }
          },
          "colorscale": {
           "diverging": [
            [
             0,
             "#8e0152"
            ],
            [
             0.1,
             "#c51b7d"
            ],
            [
             0.2,
             "#de77ae"
            ],
            [
             0.3,
             "#f1b6da"
            ],
            [
             0.4,
             "#fde0ef"
            ],
            [
             0.5,
             "#f7f7f7"
            ],
            [
             0.6,
             "#e6f5d0"
            ],
            [
             0.7,
             "#b8e186"
            ],
            [
             0.8,
             "#7fbc41"
            ],
            [
             0.9,
             "#4d9221"
            ],
            [
             1,
             "#276419"
            ]
           ],
           "sequential": [
            [
             0,
             "#0d0887"
            ],
            [
             0.1111111111111111,
             "#46039f"
            ],
            [
             0.2222222222222222,
             "#7201a8"
            ],
            [
             0.3333333333333333,
             "#9c179e"
            ],
            [
             0.4444444444444444,
             "#bd3786"
            ],
            [
             0.5555555555555556,
             "#d8576b"
            ],
            [
             0.6666666666666666,
             "#ed7953"
            ],
            [
             0.7777777777777778,
             "#fb9f3a"
            ],
            [
             0.8888888888888888,
             "#fdca26"
            ],
            [
             1,
             "#f0f921"
            ]
           ],
           "sequentialminus": [
            [
             0,
             "#0d0887"
            ],
            [
             0.1111111111111111,
             "#46039f"
            ],
            [
             0.2222222222222222,
             "#7201a8"
            ],
            [
             0.3333333333333333,
             "#9c179e"
            ],
            [
             0.4444444444444444,
             "#bd3786"
            ],
            [
             0.5555555555555556,
             "#d8576b"
            ],
            [
             0.6666666666666666,
             "#ed7953"
            ],
            [
             0.7777777777777778,
             "#fb9f3a"
            ],
            [
             0.8888888888888888,
             "#fdca26"
            ],
            [
             1,
             "#f0f921"
            ]
           ]
          },
          "colorway": [
           "#636efa",
           "#EF553B",
           "#00cc96",
           "#ab63fa",
           "#FFA15A",
           "#19d3f3",
           "#FF6692",
           "#B6E880",
           "#FF97FF",
           "#FECB52"
          ],
          "font": {
           "color": "#2a3f5f"
          },
          "geo": {
           "bgcolor": "white",
           "lakecolor": "white",
           "landcolor": "#E5ECF6",
           "showlakes": true,
           "showland": true,
           "subunitcolor": "white"
          },
          "hoverlabel": {
           "align": "left"
          },
          "hovermode": "closest",
          "mapbox": {
           "style": "light"
          },
          "paper_bgcolor": "white",
          "plot_bgcolor": "#E5ECF6",
          "polar": {
           "angularaxis": {
            "gridcolor": "white",
            "linecolor": "white",
            "ticks": ""
           },
           "bgcolor": "#E5ECF6",
           "radialaxis": {
            "gridcolor": "white",
            "linecolor": "white",
            "ticks": ""
           }
          },
          "scene": {
           "xaxis": {
            "backgroundcolor": "#E5ECF6",
            "gridcolor": "white",
            "gridwidth": 2,
            "linecolor": "white",
            "showbackground": true,
            "ticks": "",
            "zerolinecolor": "white"
           },
           "yaxis": {
            "backgroundcolor": "#E5ECF6",
            "gridcolor": "white",
            "gridwidth": 2,
            "linecolor": "white",
            "showbackground": true,
            "ticks": "",
            "zerolinecolor": "white"
           },
           "zaxis": {
            "backgroundcolor": "#E5ECF6",
            "gridcolor": "white",
            "gridwidth": 2,
            "linecolor": "white",
            "showbackground": true,
            "ticks": "",
            "zerolinecolor": "white"
           }
          },
          "shapedefaults": {
           "line": {
            "color": "#2a3f5f"
           }
          },
          "ternary": {
           "aaxis": {
            "gridcolor": "white",
            "linecolor": "white",
            "ticks": ""
           },
           "baxis": {
            "gridcolor": "white",
            "linecolor": "white",
            "ticks": ""
           },
           "bgcolor": "#E5ECF6",
           "caxis": {
            "gridcolor": "white",
            "linecolor": "white",
            "ticks": ""
           }
          },
          "title": {
           "x": 0.05
          },
          "xaxis": {
           "automargin": true,
           "gridcolor": "white",
           "linecolor": "white",
           "ticks": "",
           "title": {
            "standoff": 15
           },
           "zerolinecolor": "white",
           "zerolinewidth": 2
          },
          "yaxis": {
           "automargin": true,
           "gridcolor": "white",
           "linecolor": "white",
           "ticks": "",
           "title": {
            "standoff": 15
           },
           "zerolinecolor": "white",
           "zerolinewidth": 2
          }
         }
        },
        "title": {
         "text": "USA map with death_rate"
        }
       }
      }
     },
     "metadata": {},
     "output_type": "display_data"
    }
   ],
   "source": [
    "import plotly.express as px\n",
    "fig=px.choropleth(counties_2021_groupby,locations='state_abbrev',locationmode='USA-states',\n",
    "                  color='death_per_case' ,\n",
    "                           scope=\"usa\",\n",
    "                           color_continuous_scale=\"Viridis\",\n",
    "                           labels={'death_per_case':'death rate'},\n",
    "                           hover_name='state',\n",
    "                           hover_data={'state_abbrev':False, 'death_per_case':True}\n",
    "                          )\n",
    "\n",
    "fig.update_layout(\n",
    "    title_text='USA map with death_rate',\n",
    "    margin={\"r\":0,\"t\":0,\"l\":0,\"b\":0})\n",
    "    # margin={\"r\":0,\"t\":0,\"l\":0,\"b\":0})\n",
    "fig.show()                          \n",
    "\n"
   ]
  },
  {
   "cell_type": "code",
   "execution_count": 64,
   "metadata": {},
   "outputs": [
    {
     "data": {
      "application/vnd.plotly.v1+json": {
       "config": {
        "plotlyServerURL": "https://plot.ly"
       },
       "data": [
        {
         "coloraxis": "coloraxis",
         "customdata": [
          [
           "CA",
           0.92
          ],
          [
           "TX",
           1.23
          ],
          [
           "FL",
           1.18
          ],
          [
           "NY",
           1.25
          ],
          [
           "IL",
           1.12
          ],
          [
           "PA",
           1.51
          ],
          [
           "OH",
           1.33
          ],
          [
           "NC",
           0.87
          ],
          [
           "MI",
           1.42
          ],
          [
           "GA",
           1.42
          ],
          [
           "NJ",
           1.37
          ],
          [
           "AZ",
           1.42
          ],
          [
           "TN",
           1.25
          ],
          [
           "MA",
           1.15
          ],
          [
           "VA",
           1.1
          ],
          [
           "IN",
           1.33
          ],
          [
           "WI",
           0.85
          ],
          [
           "WA",
           0.82
          ],
          [
           "SC",
           1.14
          ],
          [
           "MN",
           0.85
          ],
          [
           "MO",
           1.36
          ],
          [
           "CO",
           0.85
          ],
          [
           "KY",
           1.11
          ],
          [
           "AL",
           1.42
          ],
          [
           "LA",
           1.32
          ],
          [
           "MD",
           1.31
          ],
          [
           "OK",
           1.31
          ],
          [
           "UT",
           0.49
          ],
          [
           "AR",
           1.32
          ],
          [
           "MS",
           1.47
          ],
          [
           "CT",
           1.34
          ],
          [
           "KS",
           1.09
          ],
          [
           "IA",
           1.21
          ],
          [
           "OR",
           0.98
          ],
          [
           null,
           0.6
          ],
          [
           "NV",
           1.4
          ],
          [
           "NM",
           1.39
          ],
          [
           "WV",
           1.3
          ],
          [
           "NE",
           0.86
          ],
          [
           "ID",
           1.08
          ],
          [
           "RI",
           0.91
          ],
          [
           "NH",
           0.79
          ],
          [
           "HI",
           0.52
          ],
          [
           "MT",
           1.18
          ],
          [
           "DE",
           1.04
          ],
          [
           "AK",
           0.47
          ],
          [
           "ME",
           0.92
          ],
          [
           "ND",
           0.93
          ],
          [
           "SD",
           1.19
          ],
          [
           "WY",
           1.11
          ],
          [
           null,
           0.89
          ],
          [
           "VT",
           0.52
          ],
          [
           null,
           0.71
          ],
          [
           null,
           0.59
          ],
          [
           null,
           0.31
          ],
          [
           null,
           0.41
          ]
         ],
         "geo": "geo",
         "hovertemplate": "<b>%{hovertext}</b><br><br>death rate=%{z}<extra></extra>",
         "hovertext": [
          "California",
          "Texas",
          "Florida",
          "New York",
          "Illinois",
          "Pennsylvania",
          "Ohio",
          "North Carolina",
          "Michigan",
          "Georgia",
          "New Jersey",
          "Arizona",
          "Tennessee",
          "Massachusetts",
          "Virginia",
          "Indiana",
          "Wisconsin",
          "Washington",
          "South Carolina",
          "Minnesota",
          "Missouri",
          "Colorado",
          "Kentucky",
          "Alabama",
          "Louisiana",
          "Maryland",
          "Oklahoma",
          "Utah",
          "Arkansas",
          "Mississippi",
          "Connecticut",
          "Kansas",
          "Iowa",
          "Oregon",
          "Puerto Rico",
          "Nevada",
          "New Mexico",
          "West Virginia",
          "Nebraska",
          "Idaho",
          "Rhode Island",
          "New Hampshire",
          "Hawaii",
          "Montana",
          "Delaware",
          "Alaska",
          "Maine",
          "North Dakota",
          "South Dakota",
          "Wyoming",
          "District of Columbia",
          "Vermont",
          "Guam",
          "Virgin Islands",
          "Northern Mariana Islands",
          "American Samoa"
         ],
         "locationmode": "USA-states",
         "locations": [
          "CA",
          "TX",
          "FL",
          "NY",
          "IL",
          "PA",
          "OH",
          "NC",
          "MI",
          "GA",
          "NJ",
          "AZ",
          "TN",
          "MA",
          "VA",
          "IN",
          "WI",
          "WA",
          "SC",
          "MN",
          "MO",
          "CO",
          "KY",
          "AL",
          "LA",
          "MD",
          "OK",
          "UT",
          "AR",
          "MS",
          "CT",
          "KS",
          "IA",
          "OR",
          null,
          "NV",
          "NM",
          "WV",
          "NE",
          "ID",
          "RI",
          "NH",
          "HI",
          "MT",
          "DE",
          "AK",
          "ME",
          "ND",
          "SD",
          "WY",
          null,
          "VT",
          null,
          null,
          null,
          null
         ],
         "name": "",
         "type": "choropleth",
         "z": [
          0.92,
          1.23,
          1.18,
          1.25,
          1.12,
          1.51,
          1.33,
          0.87,
          1.42,
          1.42,
          1.37,
          1.42,
          1.25,
          1.15,
          1.1,
          1.33,
          0.85,
          0.82,
          1.14,
          0.85,
          1.36,
          0.85,
          1.11,
          1.42,
          1.32,
          1.31,
          1.31,
          0.49,
          1.32,
          1.47,
          1.34,
          1.09,
          1.21,
          0.98,
          0.6,
          1.4,
          1.39,
          1.3,
          0.86,
          1.08,
          0.91,
          0.79,
          0.52,
          1.18,
          1.04,
          0.47,
          0.92,
          0.93,
          1.19,
          1.11,
          0.89,
          0.52,
          0.71,
          0.59,
          0.31,
          0.41
         ]
        }
       ],
       "layout": {
        "coloraxis": {
         "colorbar": {
          "title": {
           "text": "death rate"
          }
         },
         "colorscale": [
          [
           0,
           "#440154"
          ],
          [
           0.1111111111111111,
           "#482878"
          ],
          [
           0.2222222222222222,
           "#3e4989"
          ],
          [
           0.3333333333333333,
           "#31688e"
          ],
          [
           0.4444444444444444,
           "#26828e"
          ],
          [
           0.5555555555555556,
           "#1f9e89"
          ],
          [
           0.6666666666666666,
           "#35b779"
          ],
          [
           0.7777777777777778,
           "#6ece58"
          ],
          [
           0.8888888888888888,
           "#b5de2b"
          ],
          [
           1,
           "#fde725"
          ]
         ]
        },
        "geo": {
         "center": {},
         "domain": {
          "x": [
           0,
           1
          ],
          "y": [
           0,
           1
          ]
         },
         "scope": "usa"
        },
        "legend": {
         "tracegroupgap": 0
        },
        "margin": {
         "b": 0,
         "l": 0,
         "r": 0,
         "t": 0
        },
        "template": {
         "data": {
          "bar": [
           {
            "error_x": {
             "color": "#2a3f5f"
            },
            "error_y": {
             "color": "#2a3f5f"
            },
            "marker": {
             "line": {
              "color": "#E5ECF6",
              "width": 0.5
             },
             "pattern": {
              "fillmode": "overlay",
              "size": 10,
              "solidity": 0.2
             }
            },
            "type": "bar"
           }
          ],
          "barpolar": [
           {
            "marker": {
             "line": {
              "color": "#E5ECF6",
              "width": 0.5
             },
             "pattern": {
              "fillmode": "overlay",
              "size": 10,
              "solidity": 0.2
             }
            },
            "type": "barpolar"
           }
          ],
          "carpet": [
           {
            "aaxis": {
             "endlinecolor": "#2a3f5f",
             "gridcolor": "white",
             "linecolor": "white",
             "minorgridcolor": "white",
             "startlinecolor": "#2a3f5f"
            },
            "baxis": {
             "endlinecolor": "#2a3f5f",
             "gridcolor": "white",
             "linecolor": "white",
             "minorgridcolor": "white",
             "startlinecolor": "#2a3f5f"
            },
            "type": "carpet"
           }
          ],
          "choropleth": [
           {
            "colorbar": {
             "outlinewidth": 0,
             "ticks": ""
            },
            "type": "choropleth"
           }
          ],
          "contour": [
           {
            "colorbar": {
             "outlinewidth": 0,
             "ticks": ""
            },
            "colorscale": [
             [
              0,
              "#0d0887"
             ],
             [
              0.1111111111111111,
              "#46039f"
             ],
             [
              0.2222222222222222,
              "#7201a8"
             ],
             [
              0.3333333333333333,
              "#9c179e"
             ],
             [
              0.4444444444444444,
              "#bd3786"
             ],
             [
              0.5555555555555556,
              "#d8576b"
             ],
             [
              0.6666666666666666,
              "#ed7953"
             ],
             [
              0.7777777777777778,
              "#fb9f3a"
             ],
             [
              0.8888888888888888,
              "#fdca26"
             ],
             [
              1,
              "#f0f921"
             ]
            ],
            "type": "contour"
           }
          ],
          "contourcarpet": [
           {
            "colorbar": {
             "outlinewidth": 0,
             "ticks": ""
            },
            "type": "contourcarpet"
           }
          ],
          "heatmap": [
           {
            "colorbar": {
             "outlinewidth": 0,
             "ticks": ""
            },
            "colorscale": [
             [
              0,
              "#0d0887"
             ],
             [
              0.1111111111111111,
              "#46039f"
             ],
             [
              0.2222222222222222,
              "#7201a8"
             ],
             [
              0.3333333333333333,
              "#9c179e"
             ],
             [
              0.4444444444444444,
              "#bd3786"
             ],
             [
              0.5555555555555556,
              "#d8576b"
             ],
             [
              0.6666666666666666,
              "#ed7953"
             ],
             [
              0.7777777777777778,
              "#fb9f3a"
             ],
             [
              0.8888888888888888,
              "#fdca26"
             ],
             [
              1,
              "#f0f921"
             ]
            ],
            "type": "heatmap"
           }
          ],
          "heatmapgl": [
           {
            "colorbar": {
             "outlinewidth": 0,
             "ticks": ""
            },
            "colorscale": [
             [
              0,
              "#0d0887"
             ],
             [
              0.1111111111111111,
              "#46039f"
             ],
             [
              0.2222222222222222,
              "#7201a8"
             ],
             [
              0.3333333333333333,
              "#9c179e"
             ],
             [
              0.4444444444444444,
              "#bd3786"
             ],
             [
              0.5555555555555556,
              "#d8576b"
             ],
             [
              0.6666666666666666,
              "#ed7953"
             ],
             [
              0.7777777777777778,
              "#fb9f3a"
             ],
             [
              0.8888888888888888,
              "#fdca26"
             ],
             [
              1,
              "#f0f921"
             ]
            ],
            "type": "heatmapgl"
           }
          ],
          "histogram": [
           {
            "marker": {
             "pattern": {
              "fillmode": "overlay",
              "size": 10,
              "solidity": 0.2
             }
            },
            "type": "histogram"
           }
          ],
          "histogram2d": [
           {
            "colorbar": {
             "outlinewidth": 0,
             "ticks": ""
            },
            "colorscale": [
             [
              0,
              "#0d0887"
             ],
             [
              0.1111111111111111,
              "#46039f"
             ],
             [
              0.2222222222222222,
              "#7201a8"
             ],
             [
              0.3333333333333333,
              "#9c179e"
             ],
             [
              0.4444444444444444,
              "#bd3786"
             ],
             [
              0.5555555555555556,
              "#d8576b"
             ],
             [
              0.6666666666666666,
              "#ed7953"
             ],
             [
              0.7777777777777778,
              "#fb9f3a"
             ],
             [
              0.8888888888888888,
              "#fdca26"
             ],
             [
              1,
              "#f0f921"
             ]
            ],
            "type": "histogram2d"
           }
          ],
          "histogram2dcontour": [
           {
            "colorbar": {
             "outlinewidth": 0,
             "ticks": ""
            },
            "colorscale": [
             [
              0,
              "#0d0887"
             ],
             [
              0.1111111111111111,
              "#46039f"
             ],
             [
              0.2222222222222222,
              "#7201a8"
             ],
             [
              0.3333333333333333,
              "#9c179e"
             ],
             [
              0.4444444444444444,
              "#bd3786"
             ],
             [
              0.5555555555555556,
              "#d8576b"
             ],
             [
              0.6666666666666666,
              "#ed7953"
             ],
             [
              0.7777777777777778,
              "#fb9f3a"
             ],
             [
              0.8888888888888888,
              "#fdca26"
             ],
             [
              1,
              "#f0f921"
             ]
            ],
            "type": "histogram2dcontour"
           }
          ],
          "mesh3d": [
           {
            "colorbar": {
             "outlinewidth": 0,
             "ticks": ""
            },
            "type": "mesh3d"
           }
          ],
          "parcoords": [
           {
            "line": {
             "colorbar": {
              "outlinewidth": 0,
              "ticks": ""
             }
            },
            "type": "parcoords"
           }
          ],
          "pie": [
           {
            "automargin": true,
            "type": "pie"
           }
          ],
          "scatter": [
           {
            "fillpattern": {
             "fillmode": "overlay",
             "size": 10,
             "solidity": 0.2
            },
            "type": "scatter"
           }
          ],
          "scatter3d": [
           {
            "line": {
             "colorbar": {
              "outlinewidth": 0,
              "ticks": ""
             }
            },
            "marker": {
             "colorbar": {
              "outlinewidth": 0,
              "ticks": ""
             }
            },
            "type": "scatter3d"
           }
          ],
          "scattercarpet": [
           {
            "marker": {
             "colorbar": {
              "outlinewidth": 0,
              "ticks": ""
             }
            },
            "type": "scattercarpet"
           }
          ],
          "scattergeo": [
           {
            "marker": {
             "colorbar": {
              "outlinewidth": 0,
              "ticks": ""
             }
            },
            "type": "scattergeo"
           }
          ],
          "scattergl": [
           {
            "marker": {
             "colorbar": {
              "outlinewidth": 0,
              "ticks": ""
             }
            },
            "type": "scattergl"
           }
          ],
          "scattermapbox": [
           {
            "marker": {
             "colorbar": {
              "outlinewidth": 0,
              "ticks": ""
             }
            },
            "type": "scattermapbox"
           }
          ],
          "scatterpolar": [
           {
            "marker": {
             "colorbar": {
              "outlinewidth": 0,
              "ticks": ""
             }
            },
            "type": "scatterpolar"
           }
          ],
          "scatterpolargl": [
           {
            "marker": {
             "colorbar": {
              "outlinewidth": 0,
              "ticks": ""
             }
            },
            "type": "scatterpolargl"
           }
          ],
          "scatterternary": [
           {
            "marker": {
             "colorbar": {
              "outlinewidth": 0,
              "ticks": ""
             }
            },
            "type": "scatterternary"
           }
          ],
          "surface": [
           {
            "colorbar": {
             "outlinewidth": 0,
             "ticks": ""
            },
            "colorscale": [
             [
              0,
              "#0d0887"
             ],
             [
              0.1111111111111111,
              "#46039f"
             ],
             [
              0.2222222222222222,
              "#7201a8"
             ],
             [
              0.3333333333333333,
              "#9c179e"
             ],
             [
              0.4444444444444444,
              "#bd3786"
             ],
             [
              0.5555555555555556,
              "#d8576b"
             ],
             [
              0.6666666666666666,
              "#ed7953"
             ],
             [
              0.7777777777777778,
              "#fb9f3a"
             ],
             [
              0.8888888888888888,
              "#fdca26"
             ],
             [
              1,
              "#f0f921"
             ]
            ],
            "type": "surface"
           }
          ],
          "table": [
           {
            "cells": {
             "fill": {
              "color": "#EBF0F8"
             },
             "line": {
              "color": "white"
             }
            },
            "header": {
             "fill": {
              "color": "#C8D4E3"
             },
             "line": {
              "color": "white"
             }
            },
            "type": "table"
           }
          ]
         },
         "layout": {
          "annotationdefaults": {
           "arrowcolor": "#2a3f5f",
           "arrowhead": 0,
           "arrowwidth": 1
          },
          "autotypenumbers": "strict",
          "coloraxis": {
           "colorbar": {
            "outlinewidth": 0,
            "ticks": ""
           }
          },
          "colorscale": {
           "diverging": [
            [
             0,
             "#8e0152"
            ],
            [
             0.1,
             "#c51b7d"
            ],
            [
             0.2,
             "#de77ae"
            ],
            [
             0.3,
             "#f1b6da"
            ],
            [
             0.4,
             "#fde0ef"
            ],
            [
             0.5,
             "#f7f7f7"
            ],
            [
             0.6,
             "#e6f5d0"
            ],
            [
             0.7,
             "#b8e186"
            ],
            [
             0.8,
             "#7fbc41"
            ],
            [
             0.9,
             "#4d9221"
            ],
            [
             1,
             "#276419"
            ]
           ],
           "sequential": [
            [
             0,
             "#0d0887"
            ],
            [
             0.1111111111111111,
             "#46039f"
            ],
            [
             0.2222222222222222,
             "#7201a8"
            ],
            [
             0.3333333333333333,
             "#9c179e"
            ],
            [
             0.4444444444444444,
             "#bd3786"
            ],
            [
             0.5555555555555556,
             "#d8576b"
            ],
            [
             0.6666666666666666,
             "#ed7953"
            ],
            [
             0.7777777777777778,
             "#fb9f3a"
            ],
            [
             0.8888888888888888,
             "#fdca26"
            ],
            [
             1,
             "#f0f921"
            ]
           ],
           "sequentialminus": [
            [
             0,
             "#0d0887"
            ],
            [
             0.1111111111111111,
             "#46039f"
            ],
            [
             0.2222222222222222,
             "#7201a8"
            ],
            [
             0.3333333333333333,
             "#9c179e"
            ],
            [
             0.4444444444444444,
             "#bd3786"
            ],
            [
             0.5555555555555556,
             "#d8576b"
            ],
            [
             0.6666666666666666,
             "#ed7953"
            ],
            [
             0.7777777777777778,
             "#fb9f3a"
            ],
            [
             0.8888888888888888,
             "#fdca26"
            ],
            [
             1,
             "#f0f921"
            ]
           ]
          },
          "colorway": [
           "#636efa",
           "#EF553B",
           "#00cc96",
           "#ab63fa",
           "#FFA15A",
           "#19d3f3",
           "#FF6692",
           "#B6E880",
           "#FF97FF",
           "#FECB52"
          ],
          "font": {
           "color": "#2a3f5f"
          },
          "geo": {
           "bgcolor": "white",
           "lakecolor": "white",
           "landcolor": "#E5ECF6",
           "showlakes": true,
           "showland": true,
           "subunitcolor": "white"
          },
          "hoverlabel": {
           "align": "left"
          },
          "hovermode": "closest",
          "mapbox": {
           "style": "light"
          },
          "paper_bgcolor": "white",
          "plot_bgcolor": "#E5ECF6",
          "polar": {
           "angularaxis": {
            "gridcolor": "white",
            "linecolor": "white",
            "ticks": ""
           },
           "bgcolor": "#E5ECF6",
           "radialaxis": {
            "gridcolor": "white",
            "linecolor": "white",
            "ticks": ""
           }
          },
          "scene": {
           "xaxis": {
            "backgroundcolor": "#E5ECF6",
            "gridcolor": "white",
            "gridwidth": 2,
            "linecolor": "white",
            "showbackground": true,
            "ticks": "",
            "zerolinecolor": "white"
           },
           "yaxis": {
            "backgroundcolor": "#E5ECF6",
            "gridcolor": "white",
            "gridwidth": 2,
            "linecolor": "white",
            "showbackground": true,
            "ticks": "",
            "zerolinecolor": "white"
           },
           "zaxis": {
            "backgroundcolor": "#E5ECF6",
            "gridcolor": "white",
            "gridwidth": 2,
            "linecolor": "white",
            "showbackground": true,
            "ticks": "",
            "zerolinecolor": "white"
           }
          },
          "shapedefaults": {
           "line": {
            "color": "#2a3f5f"
           }
          },
          "ternary": {
           "aaxis": {
            "gridcolor": "white",
            "linecolor": "white",
            "ticks": ""
           },
           "baxis": {
            "gridcolor": "white",
            "linecolor": "white",
            "ticks": ""
           },
           "bgcolor": "#E5ECF6",
           "caxis": {
            "gridcolor": "white",
            "linecolor": "white",
            "ticks": ""
           }
          },
          "title": {
           "x": 0.05
          },
          "xaxis": {
           "automargin": true,
           "gridcolor": "white",
           "linecolor": "white",
           "ticks": "",
           "title": {
            "standoff": 15
           },
           "zerolinecolor": "white",
           "zerolinewidth": 2
          },
          "yaxis": {
           "automargin": true,
           "gridcolor": "white",
           "linecolor": "white",
           "ticks": "",
           "title": {
            "standoff": 15
           },
           "zerolinecolor": "white",
           "zerolinewidth": 2
          }
         }
        },
        "title": {
         "text": "USA map with death_rate"
        }
       }
      }
     },
     "metadata": {},
     "output_type": "display_data"
    }
   ],
   "source": [
    "import plotly.express as px\n",
    "fig=px.choropleth(counties_2022_groupby,locations='state_abbrev',locationmode='USA-states',\n",
    "                  color='death_per_case' ,\n",
    "                           scope=\"usa\",\n",
    "                           color_continuous_scale=\"Viridis\",\n",
    "                           labels={'death_per_case':'death rate'},\n",
    "                           hover_name='state',\n",
    "                           hover_data={'state_abbrev':False, 'death_per_case':True}\n",
    "                          )\n",
    "\n",
    "fig.update_layout(\n",
    "    title_text='USA map with death_rate',\n",
    "    margin={\"r\":0,\"t\":0,\"l\":0,\"b\":0})\n",
    "    # margin={\"r\":0,\"t\":0,\"l\":0,\"b\":0})\n",
    "fig.show()                          \n",
    "\n"
   ]
  },
  {
   "cell_type": "code",
   "execution_count": 65,
   "metadata": {},
   "outputs": [
    {
     "data": {
      "application/vnd.plotly.v1+json": {
       "config": {
        "plotlyServerURL": "https://plot.ly"
       },
       "data": [
        {
         "coloraxis": "coloraxis",
         "customdata": [
          [
           "CA",
           0.85
          ],
          [
           "TX",
           1.13
          ],
          [
           "FL",
           1.15
          ],
          [
           "NY",
           1.18
          ],
          [
           "IL",
           1.02
          ],
          [
           "PA",
           1.43
          ],
          [
           "NC",
           0.85
          ],
          [
           "OH",
           1.24
          ],
          [
           "MI",
           1.37
          ],
          [
           "NJ",
           1.19
          ],
          [
           "GA",
           1.38
          ],
          [
           "TN",
           1.19
          ],
          [
           "AZ",
           1.36
          ],
          [
           "VA",
           1.03
          ],
          [
           "MA",
           1.08
          ],
          [
           "IN",
           1.27
          ],
          [
           "WI",
           0.82
          ],
          [
           "WA",
           0.81
          ],
          [
           "SC",
           1.09
          ],
          [
           "MO",
           1.34
          ],
          [
           "MN",
           0.83
          ],
          [
           "CO",
           0.8
          ],
          [
           "KY",
           1.06
          ],
          [
           "AL",
           1.32
          ],
          [
           "LA",
           1.2
          ],
          [
           "MD",
           1.21
          ],
          [
           "OK",
           1.28
          ],
          [
           null,
           0.51
          ],
          [
           "UT",
           0.49
          ],
          [
           "AR",
           1.29
          ],
          [
           "MS",
           1.36
          ],
          [
           "CT",
           1.24
          ],
          [
           "OR",
           0.97
          ],
          [
           "KS",
           1.09
          ],
          [
           "IA",
           1.18
          ],
          [
           "NV",
           1.36
          ],
          [
           "NM",
           1.35
          ],
          [
           "WV",
           1.25
          ],
          [
           "NE",
           0.88
          ],
          [
           "ID",
           1.04
          ],
          [
           "RI",
           0.85
          ],
          [
           "NH",
           0.79
          ],
          [
           "HI",
           0.49
          ],
          [
           "DE",
           1
          ],
          [
           "MT",
           1.12
          ],
          [
           "ME",
           0.93
          ],
          [
           "AK",
           0.47
          ],
          [
           "ND",
           0.88
          ],
          [
           "SD",
           1.15
          ],
          [
           "WY",
           1.08
          ],
          [
           null,
           0.81
          ],
          [
           "VT",
           0.59
          ],
          [
           null,
           0.68
          ],
          [
           null,
           0.53
          ],
          [
           null,
           0.31
          ],
          [
           null,
           0.41
          ]
         ],
         "geo": "geo",
         "hovertemplate": "<b>%{hovertext}</b><br><br>death rate=%{z}<extra></extra>",
         "hovertext": [
          "California",
          "Texas",
          "Florida",
          "New York",
          "Illinois",
          "Pennsylvania",
          "North Carolina",
          "Ohio",
          "Michigan",
          "New Jersey",
          "Georgia",
          "Tennessee",
          "Arizona",
          "Virginia",
          "Massachusetts",
          "Indiana",
          "Wisconsin",
          "Washington",
          "South Carolina",
          "Missouri",
          "Minnesota",
          "Colorado",
          "Kentucky",
          "Alabama",
          "Louisiana",
          "Maryland",
          "Oklahoma",
          "Puerto Rico",
          "Utah",
          "Arkansas",
          "Mississippi",
          "Connecticut",
          "Oregon",
          "Kansas",
          "Iowa",
          "Nevada",
          "New Mexico",
          "West Virginia",
          "Nebraska",
          "Idaho",
          "Rhode Island",
          "New Hampshire",
          "Hawaii",
          "Delaware",
          "Montana",
          "Maine",
          "Alaska",
          "North Dakota",
          "South Dakota",
          "Wyoming",
          "District of Columbia",
          "Vermont",
          "Guam",
          "Virgin Islands",
          "Northern Mariana Islands",
          "American Samoa"
         ],
         "locationmode": "USA-states",
         "locations": [
          "CA",
          "TX",
          "FL",
          "NY",
          "IL",
          "PA",
          "NC",
          "OH",
          "MI",
          "NJ",
          "GA",
          "TN",
          "AZ",
          "VA",
          "MA",
          "IN",
          "WI",
          "WA",
          "SC",
          "MO",
          "MN",
          "CO",
          "KY",
          "AL",
          "LA",
          "MD",
          "OK",
          null,
          "UT",
          "AR",
          "MS",
          "CT",
          "OR",
          "KS",
          "IA",
          "NV",
          "NM",
          "WV",
          "NE",
          "ID",
          "RI",
          "NH",
          "HI",
          "DE",
          "MT",
          "ME",
          "AK",
          "ND",
          "SD",
          "WY",
          null,
          "VT",
          null,
          null,
          null,
          null
         ],
         "name": "",
         "type": "choropleth",
         "z": [
          0.85,
          1.13,
          1.15,
          1.18,
          1.02,
          1.43,
          0.85,
          1.24,
          1.37,
          1.19,
          1.38,
          1.19,
          1.36,
          1.03,
          1.08,
          1.27,
          0.82,
          0.81,
          1.09,
          1.34,
          0.83,
          0.8,
          1.06,
          1.32,
          1.2,
          1.21,
          1.28,
          0.51,
          0.49,
          1.29,
          1.36,
          1.24,
          0.97,
          1.09,
          1.18,
          1.36,
          1.35,
          1.25,
          0.88,
          1.04,
          0.85,
          0.79,
          0.49,
          1,
          1.12,
          0.93,
          0.47,
          0.88,
          1.15,
          1.08,
          0.81,
          0.59,
          0.68,
          0.53,
          0.31,
          0.41
         ]
        }
       ],
       "layout": {
        "coloraxis": {
         "colorbar": {
          "title": {
           "text": "death rate"
          }
         },
         "colorscale": [
          [
           0,
           "#440154"
          ],
          [
           0.1111111111111111,
           "#482878"
          ],
          [
           0.2222222222222222,
           "#3e4989"
          ],
          [
           0.3333333333333333,
           "#31688e"
          ],
          [
           0.4444444444444444,
           "#26828e"
          ],
          [
           0.5555555555555556,
           "#1f9e89"
          ],
          [
           0.6666666666666666,
           "#35b779"
          ],
          [
           0.7777777777777778,
           "#6ece58"
          ],
          [
           0.8888888888888888,
           "#b5de2b"
          ],
          [
           1,
           "#fde725"
          ]
         ]
        },
        "geo": {
         "center": {},
         "domain": {
          "x": [
           0,
           1
          ],
          "y": [
           0,
           1
          ]
         },
         "scope": "usa"
        },
        "legend": {
         "tracegroupgap": 0
        },
        "margin": {
         "b": 0,
         "l": 0,
         "r": 0,
         "t": 0
        },
        "template": {
         "data": {
          "bar": [
           {
            "error_x": {
             "color": "#2a3f5f"
            },
            "error_y": {
             "color": "#2a3f5f"
            },
            "marker": {
             "line": {
              "color": "#E5ECF6",
              "width": 0.5
             },
             "pattern": {
              "fillmode": "overlay",
              "size": 10,
              "solidity": 0.2
             }
            },
            "type": "bar"
           }
          ],
          "barpolar": [
           {
            "marker": {
             "line": {
              "color": "#E5ECF6",
              "width": 0.5
             },
             "pattern": {
              "fillmode": "overlay",
              "size": 10,
              "solidity": 0.2
             }
            },
            "type": "barpolar"
           }
          ],
          "carpet": [
           {
            "aaxis": {
             "endlinecolor": "#2a3f5f",
             "gridcolor": "white",
             "linecolor": "white",
             "minorgridcolor": "white",
             "startlinecolor": "#2a3f5f"
            },
            "baxis": {
             "endlinecolor": "#2a3f5f",
             "gridcolor": "white",
             "linecolor": "white",
             "minorgridcolor": "white",
             "startlinecolor": "#2a3f5f"
            },
            "type": "carpet"
           }
          ],
          "choropleth": [
           {
            "colorbar": {
             "outlinewidth": 0,
             "ticks": ""
            },
            "type": "choropleth"
           }
          ],
          "contour": [
           {
            "colorbar": {
             "outlinewidth": 0,
             "ticks": ""
            },
            "colorscale": [
             [
              0,
              "#0d0887"
             ],
             [
              0.1111111111111111,
              "#46039f"
             ],
             [
              0.2222222222222222,
              "#7201a8"
             ],
             [
              0.3333333333333333,
              "#9c179e"
             ],
             [
              0.4444444444444444,
              "#bd3786"
             ],
             [
              0.5555555555555556,
              "#d8576b"
             ],
             [
              0.6666666666666666,
              "#ed7953"
             ],
             [
              0.7777777777777778,
              "#fb9f3a"
             ],
             [
              0.8888888888888888,
              "#fdca26"
             ],
             [
              1,
              "#f0f921"
             ]
            ],
            "type": "contour"
           }
          ],
          "contourcarpet": [
           {
            "colorbar": {
             "outlinewidth": 0,
             "ticks": ""
            },
            "type": "contourcarpet"
           }
          ],
          "heatmap": [
           {
            "colorbar": {
             "outlinewidth": 0,
             "ticks": ""
            },
            "colorscale": [
             [
              0,
              "#0d0887"
             ],
             [
              0.1111111111111111,
              "#46039f"
             ],
             [
              0.2222222222222222,
              "#7201a8"
             ],
             [
              0.3333333333333333,
              "#9c179e"
             ],
             [
              0.4444444444444444,
              "#bd3786"
             ],
             [
              0.5555555555555556,
              "#d8576b"
             ],
             [
              0.6666666666666666,
              "#ed7953"
             ],
             [
              0.7777777777777778,
              "#fb9f3a"
             ],
             [
              0.8888888888888888,
              "#fdca26"
             ],
             [
              1,
              "#f0f921"
             ]
            ],
            "type": "heatmap"
           }
          ],
          "heatmapgl": [
           {
            "colorbar": {
             "outlinewidth": 0,
             "ticks": ""
            },
            "colorscale": [
             [
              0,
              "#0d0887"
             ],
             [
              0.1111111111111111,
              "#46039f"
             ],
             [
              0.2222222222222222,
              "#7201a8"
             ],
             [
              0.3333333333333333,
              "#9c179e"
             ],
             [
              0.4444444444444444,
              "#bd3786"
             ],
             [
              0.5555555555555556,
              "#d8576b"
             ],
             [
              0.6666666666666666,
              "#ed7953"
             ],
             [
              0.7777777777777778,
              "#fb9f3a"
             ],
             [
              0.8888888888888888,
              "#fdca26"
             ],
             [
              1,
              "#f0f921"
             ]
            ],
            "type": "heatmapgl"
           }
          ],
          "histogram": [
           {
            "marker": {
             "pattern": {
              "fillmode": "overlay",
              "size": 10,
              "solidity": 0.2
             }
            },
            "type": "histogram"
           }
          ],
          "histogram2d": [
           {
            "colorbar": {
             "outlinewidth": 0,
             "ticks": ""
            },
            "colorscale": [
             [
              0,
              "#0d0887"
             ],
             [
              0.1111111111111111,
              "#46039f"
             ],
             [
              0.2222222222222222,
              "#7201a8"
             ],
             [
              0.3333333333333333,
              "#9c179e"
             ],
             [
              0.4444444444444444,
              "#bd3786"
             ],
             [
              0.5555555555555556,
              "#d8576b"
             ],
             [
              0.6666666666666666,
              "#ed7953"
             ],
             [
              0.7777777777777778,
              "#fb9f3a"
             ],
             [
              0.8888888888888888,
              "#fdca26"
             ],
             [
              1,
              "#f0f921"
             ]
            ],
            "type": "histogram2d"
           }
          ],
          "histogram2dcontour": [
           {
            "colorbar": {
             "outlinewidth": 0,
             "ticks": ""
            },
            "colorscale": [
             [
              0,
              "#0d0887"
             ],
             [
              0.1111111111111111,
              "#46039f"
             ],
             [
              0.2222222222222222,
              "#7201a8"
             ],
             [
              0.3333333333333333,
              "#9c179e"
             ],
             [
              0.4444444444444444,
              "#bd3786"
             ],
             [
              0.5555555555555556,
              "#d8576b"
             ],
             [
              0.6666666666666666,
              "#ed7953"
             ],
             [
              0.7777777777777778,
              "#fb9f3a"
             ],
             [
              0.8888888888888888,
              "#fdca26"
             ],
             [
              1,
              "#f0f921"
             ]
            ],
            "type": "histogram2dcontour"
           }
          ],
          "mesh3d": [
           {
            "colorbar": {
             "outlinewidth": 0,
             "ticks": ""
            },
            "type": "mesh3d"
           }
          ],
          "parcoords": [
           {
            "line": {
             "colorbar": {
              "outlinewidth": 0,
              "ticks": ""
             }
            },
            "type": "parcoords"
           }
          ],
          "pie": [
           {
            "automargin": true,
            "type": "pie"
           }
          ],
          "scatter": [
           {
            "fillpattern": {
             "fillmode": "overlay",
             "size": 10,
             "solidity": 0.2
            },
            "type": "scatter"
           }
          ],
          "scatter3d": [
           {
            "line": {
             "colorbar": {
              "outlinewidth": 0,
              "ticks": ""
             }
            },
            "marker": {
             "colorbar": {
              "outlinewidth": 0,
              "ticks": ""
             }
            },
            "type": "scatter3d"
           }
          ],
          "scattercarpet": [
           {
            "marker": {
             "colorbar": {
              "outlinewidth": 0,
              "ticks": ""
             }
            },
            "type": "scattercarpet"
           }
          ],
          "scattergeo": [
           {
            "marker": {
             "colorbar": {
              "outlinewidth": 0,
              "ticks": ""
             }
            },
            "type": "scattergeo"
           }
          ],
          "scattergl": [
           {
            "marker": {
             "colorbar": {
              "outlinewidth": 0,
              "ticks": ""
             }
            },
            "type": "scattergl"
           }
          ],
          "scattermapbox": [
           {
            "marker": {
             "colorbar": {
              "outlinewidth": 0,
              "ticks": ""
             }
            },
            "type": "scattermapbox"
           }
          ],
          "scatterpolar": [
           {
            "marker": {
             "colorbar": {
              "outlinewidth": 0,
              "ticks": ""
             }
            },
            "type": "scatterpolar"
           }
          ],
          "scatterpolargl": [
           {
            "marker": {
             "colorbar": {
              "outlinewidth": 0,
              "ticks": ""
             }
            },
            "type": "scatterpolargl"
           }
          ],
          "scatterternary": [
           {
            "marker": {
             "colorbar": {
              "outlinewidth": 0,
              "ticks": ""
             }
            },
            "type": "scatterternary"
           }
          ],
          "surface": [
           {
            "colorbar": {
             "outlinewidth": 0,
             "ticks": ""
            },
            "colorscale": [
             [
              0,
              "#0d0887"
             ],
             [
              0.1111111111111111,
              "#46039f"
             ],
             [
              0.2222222222222222,
              "#7201a8"
             ],
             [
              0.3333333333333333,
              "#9c179e"
             ],
             [
              0.4444444444444444,
              "#bd3786"
             ],
             [
              0.5555555555555556,
              "#d8576b"
             ],
             [
              0.6666666666666666,
              "#ed7953"
             ],
             [
              0.7777777777777778,
              "#fb9f3a"
             ],
             [
              0.8888888888888888,
              "#fdca26"
             ],
             [
              1,
              "#f0f921"
             ]
            ],
            "type": "surface"
           }
          ],
          "table": [
           {
            "cells": {
             "fill": {
              "color": "#EBF0F8"
             },
             "line": {
              "color": "white"
             }
            },
            "header": {
             "fill": {
              "color": "#C8D4E3"
             },
             "line": {
              "color": "white"
             }
            },
            "type": "table"
           }
          ]
         },
         "layout": {
          "annotationdefaults": {
           "arrowcolor": "#2a3f5f",
           "arrowhead": 0,
           "arrowwidth": 1
          },
          "autotypenumbers": "strict",
          "coloraxis": {
           "colorbar": {
            "outlinewidth": 0,
            "ticks": ""
           }
          },
          "colorscale": {
           "diverging": [
            [
             0,
             "#8e0152"
            ],
            [
             0.1,
             "#c51b7d"
            ],
            [
             0.2,
             "#de77ae"
            ],
            [
             0.3,
             "#f1b6da"
            ],
            [
             0.4,
             "#fde0ef"
            ],
            [
             0.5,
             "#f7f7f7"
            ],
            [
             0.6,
             "#e6f5d0"
            ],
            [
             0.7,
             "#b8e186"
            ],
            [
             0.8,
             "#7fbc41"
            ],
            [
             0.9,
             "#4d9221"
            ],
            [
             1,
             "#276419"
            ]
           ],
           "sequential": [
            [
             0,
             "#0d0887"
            ],
            [
             0.1111111111111111,
             "#46039f"
            ],
            [
             0.2222222222222222,
             "#7201a8"
            ],
            [
             0.3333333333333333,
             "#9c179e"
            ],
            [
             0.4444444444444444,
             "#bd3786"
            ],
            [
             0.5555555555555556,
             "#d8576b"
            ],
            [
             0.6666666666666666,
             "#ed7953"
            ],
            [
             0.7777777777777778,
             "#fb9f3a"
            ],
            [
             0.8888888888888888,
             "#fdca26"
            ],
            [
             1,
             "#f0f921"
            ]
           ],
           "sequentialminus": [
            [
             0,
             "#0d0887"
            ],
            [
             0.1111111111111111,
             "#46039f"
            ],
            [
             0.2222222222222222,
             "#7201a8"
            ],
            [
             0.3333333333333333,
             "#9c179e"
            ],
            [
             0.4444444444444444,
             "#bd3786"
            ],
            [
             0.5555555555555556,
             "#d8576b"
            ],
            [
             0.6666666666666666,
             "#ed7953"
            ],
            [
             0.7777777777777778,
             "#fb9f3a"
            ],
            [
             0.8888888888888888,
             "#fdca26"
            ],
            [
             1,
             "#f0f921"
            ]
           ]
          },
          "colorway": [
           "#636efa",
           "#EF553B",
           "#00cc96",
           "#ab63fa",
           "#FFA15A",
           "#19d3f3",
           "#FF6692",
           "#B6E880",
           "#FF97FF",
           "#FECB52"
          ],
          "font": {
           "color": "#2a3f5f"
          },
          "geo": {
           "bgcolor": "white",
           "lakecolor": "white",
           "landcolor": "#E5ECF6",
           "showlakes": true,
           "showland": true,
           "subunitcolor": "white"
          },
          "hoverlabel": {
           "align": "left"
          },
          "hovermode": "closest",
          "mapbox": {
           "style": "light"
          },
          "paper_bgcolor": "white",
          "plot_bgcolor": "#E5ECF6",
          "polar": {
           "angularaxis": {
            "gridcolor": "white",
            "linecolor": "white",
            "ticks": ""
           },
           "bgcolor": "#E5ECF6",
           "radialaxis": {
            "gridcolor": "white",
            "linecolor": "white",
            "ticks": ""
           }
          },
          "scene": {
           "xaxis": {
            "backgroundcolor": "#E5ECF6",
            "gridcolor": "white",
            "gridwidth": 2,
            "linecolor": "white",
            "showbackground": true,
            "ticks": "",
            "zerolinecolor": "white"
           },
           "yaxis": {
            "backgroundcolor": "#E5ECF6",
            "gridcolor": "white",
            "gridwidth": 2,
            "linecolor": "white",
            "showbackground": true,
            "ticks": "",
            "zerolinecolor": "white"
           },
           "zaxis": {
            "backgroundcolor": "#E5ECF6",
            "gridcolor": "white",
            "gridwidth": 2,
            "linecolor": "white",
            "showbackground": true,
            "ticks": "",
            "zerolinecolor": "white"
           }
          },
          "shapedefaults": {
           "line": {
            "color": "#2a3f5f"
           }
          },
          "ternary": {
           "aaxis": {
            "gridcolor": "white",
            "linecolor": "white",
            "ticks": ""
           },
           "baxis": {
            "gridcolor": "white",
            "linecolor": "white",
            "ticks": ""
           },
           "bgcolor": "#E5ECF6",
           "caxis": {
            "gridcolor": "white",
            "linecolor": "white",
            "ticks": ""
           }
          },
          "title": {
           "x": 0.05
          },
          "xaxis": {
           "automargin": true,
           "gridcolor": "white",
           "linecolor": "white",
           "ticks": "",
           "title": {
            "standoff": 15
           },
           "zerolinecolor": "white",
           "zerolinewidth": 2
          },
          "yaxis": {
           "automargin": true,
           "gridcolor": "white",
           "linecolor": "white",
           "ticks": "",
           "title": {
            "standoff": 15
           },
           "zerolinecolor": "white",
           "zerolinewidth": 2
          }
         }
        },
        "title": {
         "text": "USA map with death_rate"
        }
       }
      }
     },
     "metadata": {},
     "output_type": "display_data"
    }
   ],
   "source": [
    "import plotly.express as px\n",
    "fig=px.choropleth(counties_2023_groupby,locations='state_abbrev',locationmode='USA-states',\n",
    "                  color='death_per_case' ,\n",
    "                           scope=\"usa\",\n",
    "                           color_continuous_scale=\"Viridis\",\n",
    "                           labels={'death_per_case':'death rate'},\n",
    "                           hover_name='state',\n",
    "                           hover_data={'state_abbrev':False, 'death_per_case':True}\n",
    "                          )\n",
    "\n",
    "fig.update_layout(\n",
    "    title_text='USA map with death_rate',\n",
    "    margin={\"r\":0,\"t\":0,\"l\":0,\"b\":0})\n",
    "    # margin={\"r\":0,\"t\":0,\"l\":0,\"b\":0})\n",
    "fig.show()                          \n",
    "\n"
   ]
  },
  {
   "cell_type": "code",
   "execution_count": 70,
   "metadata": {},
   "outputs": [],
   "source": [
    "# Merging 2020,2021, 2022, 2023\n",
    "counties_2020_2021_groupby=counties_2020_groupby.merge(counties_2021_groupby,on='state',suffixes=('_2020','_2021'))\n",
    "counties_2022_2023_groupby=counties_2022_groupby.merge(counties_2023_groupby,on='state',suffixes=('_2022','_2023'))\n",
    "counties_2020_2021_groupby=counties_2020_2021_groupby.sort_values(by='state_abbrev_2021')\n",
    "counties_2022_2023_groupby=counties_2022_2023_groupby.sort_values(by='state_abbrev_2022')\n",
    "counties_2020_2021_2022_2023=pd.concat([counties_2020_2021_groupby,counties_2022_2023_groupby],axis=1)"
   ]
  },
  {
   "cell_type": "code",
   "execution_count": 71,
   "metadata": {},
   "outputs": [
    {
     "data": {
      "text/html": [
       "<div>\n",
       "<style scoped>\n",
       "    .dataframe tbody tr th:only-of-type {\n",
       "        vertical-align: middle;\n",
       "    }\n",
       "\n",
       "    .dataframe tbody tr th {\n",
       "        vertical-align: top;\n",
       "    }\n",
       "\n",
       "    .dataframe thead th {\n",
       "        text-align: right;\n",
       "    }\n",
       "</style>\n",
       "<table border=\"1\" class=\"dataframe\">\n",
       "  <thead>\n",
       "    <tr style=\"text-align: right;\">\n",
       "      <th></th>\n",
       "      <th>state</th>\n",
       "      <th>cases_2020</th>\n",
       "      <th>deaths_2020</th>\n",
       "      <th>death_per_case_2020</th>\n",
       "      <th>state_abbrev_2020</th>\n",
       "      <th>cases_2021</th>\n",
       "      <th>deaths_2021</th>\n",
       "      <th>death_per_case_2021</th>\n",
       "      <th>state_abbrev_2021</th>\n",
       "      <th>state</th>\n",
       "      <th>cases_2022</th>\n",
       "      <th>deaths_2022</th>\n",
       "      <th>death_per_case_2022</th>\n",
       "      <th>state_abbrev_2022</th>\n",
       "      <th>cases_2023</th>\n",
       "      <th>deaths_2023</th>\n",
       "      <th>death_per_case_2023</th>\n",
       "      <th>state_abbrev_2023</th>\n",
       "    </tr>\n",
       "  </thead>\n",
       "  <tbody>\n",
       "    <tr>\n",
       "      <th>0</th>\n",
       "      <td>California</td>\n",
       "      <td>174969176.0</td>\n",
       "      <td>3065113.0</td>\n",
       "      <td>1.75</td>\n",
       "      <td>CA</td>\n",
       "      <td>1.496463e+09</td>\n",
       "      <td>22532428.0</td>\n",
       "      <td>1.51</td>\n",
       "      <td>CA</td>\n",
       "      <td>California</td>\n",
       "      <td>3657865258</td>\n",
       "      <td>33481697.0</td>\n",
       "      <td>0.92</td>\n",
       "      <td>CA</td>\n",
       "      <td>985844951</td>\n",
       "      <td>8424694.0</td>\n",
       "      <td>0.85</td>\n",
       "      <td>CA</td>\n",
       "    </tr>\n",
       "    <tr>\n",
       "      <th>1</th>\n",
       "      <td>Texas</td>\n",
       "      <td>160159130.0</td>\n",
       "      <td>2927740.0</td>\n",
       "      <td>1.83</td>\n",
       "      <td>TX</td>\n",
       "      <td>1.195039e+09</td>\n",
       "      <td>20088968.0</td>\n",
       "      <td>1.68</td>\n",
       "      <td>TX</td>\n",
       "      <td>Texas</td>\n",
       "      <td>2606974755</td>\n",
       "      <td>32175258.0</td>\n",
       "      <td>1.23</td>\n",
       "      <td>TX</td>\n",
       "      <td>678812946</td>\n",
       "      <td>7679552.0</td>\n",
       "      <td>1.13</td>\n",
       "      <td>TX</td>\n",
       "    </tr>\n",
       "    <tr>\n",
       "      <th>2</th>\n",
       "      <td>Florida</td>\n",
       "      <td>138123133.0</td>\n",
       "      <td>2632238.0</td>\n",
       "      <td>1.91</td>\n",
       "      <td>FL</td>\n",
       "      <td>9.741701e+08</td>\n",
       "      <td>15333245.0</td>\n",
       "      <td>1.57</td>\n",
       "      <td>FL</td>\n",
       "      <td>Florida</td>\n",
       "      <td>2342867989</td>\n",
       "      <td>27708002.0</td>\n",
       "      <td>1.18</td>\n",
       "      <td>FL</td>\n",
       "      <td>609882039</td>\n",
       "      <td>7020942.0</td>\n",
       "      <td>1.15</td>\n",
       "      <td>FL</td>\n",
       "    </tr>\n",
       "    <tr>\n",
       "      <th>3</th>\n",
       "      <td>New York</td>\n",
       "      <td>126307878.0</td>\n",
       "      <td>8320598.0</td>\n",
       "      <td>6.59</td>\n",
       "      <td>NY</td>\n",
       "      <td>7.757640e+08</td>\n",
       "      <td>18918470.0</td>\n",
       "      <td>2.44</td>\n",
       "      <td>NY</td>\n",
       "      <td>New York</td>\n",
       "      <td>2028292482</td>\n",
       "      <td>25338652.0</td>\n",
       "      <td>1.25</td>\n",
       "      <td>NY</td>\n",
       "      <td>551095969</td>\n",
       "      <td>6483341.0</td>\n",
       "      <td>1.18</td>\n",
       "      <td>NY</td>\n",
       "    </tr>\n",
       "    <tr>\n",
       "      <th>4</th>\n",
       "      <td>Illinois</td>\n",
       "      <td>82118324.0</td>\n",
       "      <td>2211390.0</td>\n",
       "      <td>2.69</td>\n",
       "      <td>IL</td>\n",
       "      <td>5.279566e+08</td>\n",
       "      <td>9306526.0</td>\n",
       "      <td>1.76</td>\n",
       "      <td>IL</td>\n",
       "      <td>Illinois</td>\n",
       "      <td>1242333880</td>\n",
       "      <td>13938486.0</td>\n",
       "      <td>1.12</td>\n",
       "      <td>IL</td>\n",
       "      <td>331615853</td>\n",
       "      <td>3377350.0</td>\n",
       "      <td>1.02</td>\n",
       "      <td>IL</td>\n",
       "    </tr>\n",
       "    <tr>\n",
       "      <th>5</th>\n",
       "      <td>Georgia</td>\n",
       "      <td>62230196.0</td>\n",
       "      <td>1363977.0</td>\n",
       "      <td>2.19</td>\n",
       "      <td>GA</td>\n",
       "      <td>4.473922e+08</td>\n",
       "      <td>7791745.0</td>\n",
       "      <td>1.74</td>\n",
       "      <td>GA</td>\n",
       "      <td>Pennsylvania</td>\n",
       "      <td>1093607580</td>\n",
       "      <td>16531624.0</td>\n",
       "      <td>1.51</td>\n",
       "      <td>PA</td>\n",
       "      <td>285946585</td>\n",
       "      <td>4093547.0</td>\n",
       "      <td>1.43</td>\n",
       "      <td>PA</td>\n",
       "    </tr>\n",
       "    <tr>\n",
       "      <th>6</th>\n",
       "      <td>New Jersey</td>\n",
       "      <td>57403306.0</td>\n",
       "      <td>3817150.0</td>\n",
       "      <td>6.65</td>\n",
       "      <td>NJ</td>\n",
       "      <td>3.707628e+08</td>\n",
       "      <td>9406432.0</td>\n",
       "      <td>2.54</td>\n",
       "      <td>NJ</td>\n",
       "      <td>Ohio</td>\n",
       "      <td>1050039982</td>\n",
       "      <td>13944933.0</td>\n",
       "      <td>1.33</td>\n",
       "      <td>OH</td>\n",
       "      <td>275781634</td>\n",
       "      <td>3410106.0</td>\n",
       "      <td>1.24</td>\n",
       "      <td>OH</td>\n",
       "    </tr>\n",
       "    <tr>\n",
       "      <th>7</th>\n",
       "      <td>Pennsylvania</td>\n",
       "      <td>47304959.0</td>\n",
       "      <td>2002629.0</td>\n",
       "      <td>4.23</td>\n",
       "      <td>PA</td>\n",
       "      <td>4.571433e+08</td>\n",
       "      <td>10025434.0</td>\n",
       "      <td>2.19</td>\n",
       "      <td>PA</td>\n",
       "      <td>North Carolina</td>\n",
       "      <td>1042710923</td>\n",
       "      <td>9096219.0</td>\n",
       "      <td>0.87</td>\n",
       "      <td>NC</td>\n",
       "      <td>281120023</td>\n",
       "      <td>2402019.0</td>\n",
       "      <td>0.85</td>\n",
       "      <td>NC</td>\n",
       "    </tr>\n",
       "    <tr>\n",
       "      <th>8</th>\n",
       "      <td>Arizona</td>\n",
       "      <td>47147078.0</td>\n",
       "      <td>1048821.0</td>\n",
       "      <td>2.22</td>\n",
       "      <td>AZ</td>\n",
       "      <td>3.504814e+08</td>\n",
       "      <td>6590800.0</td>\n",
       "      <td>1.88</td>\n",
       "      <td>AZ</td>\n",
       "      <td>Michigan</td>\n",
       "      <td>944357180</td>\n",
       "      <td>13399520.0</td>\n",
       "      <td>1.42</td>\n",
       "      <td>MI</td>\n",
       "      <td>248261899</td>\n",
       "      <td>3413138.0</td>\n",
       "      <td>1.37</td>\n",
       "      <td>MI</td>\n",
       "    </tr>\n",
       "    <tr>\n",
       "      <th>9</th>\n",
       "      <td>North Carolina</td>\n",
       "      <td>46306384.0</td>\n",
       "      <td>734456.0</td>\n",
       "      <td>1.59</td>\n",
       "      <td>NC</td>\n",
       "      <td>4.056814e+08</td>\n",
       "      <td>5081693.0</td>\n",
       "      <td>1.25</td>\n",
       "      <td>NC</td>\n",
       "      <td>Georgia</td>\n",
       "      <td>942798915</td>\n",
       "      <td>13387802.0</td>\n",
       "      <td>1.42</td>\n",
       "      <td>GA</td>\n",
       "      <td>242056758</td>\n",
       "      <td>3328644.0</td>\n",
       "      <td>1.38</td>\n",
       "      <td>GA</td>\n",
       "    </tr>\n",
       "    <tr>\n",
       "      <th>10</th>\n",
       "      <td>Ohio</td>\n",
       "      <td>44885224.0</td>\n",
       "      <td>1062373.0</td>\n",
       "      <td>2.37</td>\n",
       "      <td>OH</td>\n",
       "      <td>4.424954e+08</td>\n",
       "      <td>7327426.0</td>\n",
       "      <td>1.66</td>\n",
       "      <td>OH</td>\n",
       "      <td>New Jersey</td>\n",
       "      <td>902227748</td>\n",
       "      <td>12317356.0</td>\n",
       "      <td>1.37</td>\n",
       "      <td>NJ</td>\n",
       "      <td>246944669</td>\n",
       "      <td>2941933.0</td>\n",
       "      <td>1.19</td>\n",
       "      <td>NJ</td>\n",
       "    </tr>\n",
       "    <tr>\n",
       "      <th>11</th>\n",
       "      <td>Tennessee</td>\n",
       "      <td>43836216.0</td>\n",
       "      <td>540030.0</td>\n",
       "      <td>1.23</td>\n",
       "      <td>TN</td>\n",
       "      <td>3.485404e+08</td>\n",
       "      <td>4791671.0</td>\n",
       "      <td>1.37</td>\n",
       "      <td>TN</td>\n",
       "      <td>Arizona</td>\n",
       "      <td>769418282</td>\n",
       "      <td>10925069.0</td>\n",
       "      <td>1.42</td>\n",
       "      <td>AZ</td>\n",
       "      <td>197888351</td>\n",
       "      <td>2692880.0</td>\n",
       "      <td>1.36</td>\n",
       "      <td>AZ</td>\n",
       "    </tr>\n",
       "    <tr>\n",
       "      <th>12</th>\n",
       "      <td>Michigan</td>\n",
       "      <td>42112852.0</td>\n",
       "      <td>1837617.0</td>\n",
       "      <td>4.36</td>\n",
       "      <td>MI</td>\n",
       "      <td>3.666153e+08</td>\n",
       "      <td>7460163.0</td>\n",
       "      <td>2.03</td>\n",
       "      <td>MI</td>\n",
       "      <td>Tennessee</td>\n",
       "      <td>760697911</td>\n",
       "      <td>9502505.0</td>\n",
       "      <td>1.25</td>\n",
       "      <td>TN</td>\n",
       "      <td>198183072</td>\n",
       "      <td>2353945.0</td>\n",
       "      <td>1.19</td>\n",
       "      <td>TN</td>\n",
       "    </tr>\n",
       "    <tr>\n",
       "      <th>13</th>\n",
       "      <td>Wisconsin</td>\n",
       "      <td>37998809.0</td>\n",
       "      <td>410977.0</td>\n",
       "      <td>1.08</td>\n",
       "      <td>WI</td>\n",
       "      <td>2.673116e+08</td>\n",
       "      <td>2972997.0</td>\n",
       "      <td>1.11</td>\n",
       "      <td>WI</td>\n",
       "      <td>Massachusetts</td>\n",
       "      <td>683634660</td>\n",
       "      <td>7831612.0</td>\n",
       "      <td>1.15</td>\n",
       "      <td>MA</td>\n",
       "      <td>180478998</td>\n",
       "      <td>1951144.0</td>\n",
       "      <td>1.08</td>\n",
       "      <td>MA</td>\n",
       "    </tr>\n",
       "    <tr>\n",
       "      <th>14</th>\n",
       "      <td>Massachusetts</td>\n",
       "      <td>37419301.0</td>\n",
       "      <td>2222455.0</td>\n",
       "      <td>5.94</td>\n",
       "      <td>MA</td>\n",
       "      <td>2.636335e+08</td>\n",
       "      <td>6429075.0</td>\n",
       "      <td>2.44</td>\n",
       "      <td>MA</td>\n",
       "      <td>Virginia</td>\n",
       "      <td>677908320</td>\n",
       "      <td>7435951.0</td>\n",
       "      <td>1.10</td>\n",
       "      <td>VA</td>\n",
       "      <td>185836338</td>\n",
       "      <td>1920467.0</td>\n",
       "      <td>1.03</td>\n",
       "      <td>VA</td>\n",
       "    </tr>\n",
       "    <tr>\n",
       "      <th>15</th>\n",
       "      <td>Indiana</td>\n",
       "      <td>35947357.0</td>\n",
       "      <td>920773.0</td>\n",
       "      <td>2.56</td>\n",
       "      <td>IN</td>\n",
       "      <td>2.996498e+08</td>\n",
       "      <td>5153509.0</td>\n",
       "      <td>1.72</td>\n",
       "      <td>IN</td>\n",
       "      <td>Indiana</td>\n",
       "      <td>651481542</td>\n",
       "      <td>8657235.0</td>\n",
       "      <td>1.33</td>\n",
       "      <td>IN</td>\n",
       "      <td>166723678</td>\n",
       "      <td>2121783.0</td>\n",
       "      <td>1.27</td>\n",
       "      <td>IN</td>\n",
       "    </tr>\n",
       "    <tr>\n",
       "      <th>16</th>\n",
       "      <td>Louisiana</td>\n",
       "      <td>35116739.0</td>\n",
       "      <td>1184574.0</td>\n",
       "      <td>3.37</td>\n",
       "      <td>LA</td>\n",
       "      <td>2.057987e+08</td>\n",
       "      <td>4216618.0</td>\n",
       "      <td>2.05</td>\n",
       "      <td>LA</td>\n",
       "      <td>Wisconsin</td>\n",
       "      <td>625473371</td>\n",
       "      <td>5290261.0</td>\n",
       "      <td>0.85</td>\n",
       "      <td>WI</td>\n",
       "      <td>163131014</td>\n",
       "      <td>1330461.0</td>\n",
       "      <td>0.82</td>\n",
       "      <td>WI</td>\n",
       "    </tr>\n",
       "    <tr>\n",
       "      <th>17</th>\n",
       "      <td>Virginia</td>\n",
       "      <td>32850541.0</td>\n",
       "      <td>668990.0</td>\n",
       "      <td>2.04</td>\n",
       "      <td>VA</td>\n",
       "      <td>2.638081e+08</td>\n",
       "      <td>4077397.0</td>\n",
       "      <td>1.55</td>\n",
       "      <td>VA</td>\n",
       "      <td>Washington</td>\n",
       "      <td>589317042</td>\n",
       "      <td>4822544.0</td>\n",
       "      <td>0.82</td>\n",
       "      <td>WA</td>\n",
       "      <td>156891026</td>\n",
       "      <td>1273161.0</td>\n",
       "      <td>0.81</td>\n",
       "      <td>WA</td>\n",
       "    </tr>\n",
       "    <tr>\n",
       "      <th>18</th>\n",
       "      <td>Alabama</td>\n",
       "      <td>32236000.0</td>\n",
       "      <td>526388.0</td>\n",
       "      <td>1.63</td>\n",
       "      <td>AL</td>\n",
       "      <td>2.277838e+08</td>\n",
       "      <td>4330518.0</td>\n",
       "      <td>1.90</td>\n",
       "      <td>AL</td>\n",
       "      <td>South Carolina</td>\n",
       "      <td>567862081</td>\n",
       "      <td>6498922.0</td>\n",
       "      <td>1.14</td>\n",
       "      <td>SC</td>\n",
       "      <td>148840698</td>\n",
       "      <td>1623497.0</td>\n",
       "      <td>1.09</td>\n",
       "      <td>SC</td>\n",
       "    </tr>\n",
       "    <tr>\n",
       "      <th>19</th>\n",
       "      <td>Missouri</td>\n",
       "      <td>31469332.0</td>\n",
       "      <td>530055.0</td>\n",
       "      <td>1.68</td>\n",
       "      <td>MO</td>\n",
       "      <td>2.530983e+08</td>\n",
       "      <td>3857075.0</td>\n",
       "      <td>1.52</td>\n",
       "      <td>MO</td>\n",
       "      <td>Minnesota</td>\n",
       "      <td>558583474</td>\n",
       "      <td>4753802.0</td>\n",
       "      <td>0.85</td>\n",
       "      <td>MN</td>\n",
       "      <td>144389098</td>\n",
       "      <td>1200700.0</td>\n",
       "      <td>0.83</td>\n",
       "      <td>MN</td>\n",
       "    </tr>\n",
       "    <tr>\n",
       "      <th>20</th>\n",
       "      <td>Minnesota</td>\n",
       "      <td>29868387.0</td>\n",
       "      <td>531337.0</td>\n",
       "      <td>1.78</td>\n",
       "      <td>MN</td>\n",
       "      <td>2.332339e+08</td>\n",
       "      <td>2821148.0</td>\n",
       "      <td>1.21</td>\n",
       "      <td>MN</td>\n",
       "      <td>Missouri</td>\n",
       "      <td>556938744</td>\n",
       "      <td>7548267.0</td>\n",
       "      <td>1.36</td>\n",
       "      <td>MO</td>\n",
       "      <td>145321139</td>\n",
       "      <td>1940510.0</td>\n",
       "      <td>1.34</td>\n",
       "      <td>MO</td>\n",
       "    </tr>\n",
       "    <tr>\n",
       "      <th>21</th>\n",
       "      <td>South Carolina</td>\n",
       "      <td>29321200.0</td>\n",
       "      <td>618708.0</td>\n",
       "      <td>2.11</td>\n",
       "      <td>SC</td>\n",
       "      <td>2.422447e+08</td>\n",
       "      <td>3802518.0</td>\n",
       "      <td>1.57</td>\n",
       "      <td>SC</td>\n",
       "      <td>Colorado</td>\n",
       "      <td>546913288</td>\n",
       "      <td>4665643.0</td>\n",
       "      <td>0.85</td>\n",
       "      <td>CO</td>\n",
       "      <td>143803184</td>\n",
       "      <td>1153862.0</td>\n",
       "      <td>0.80</td>\n",
       "      <td>CO</td>\n",
       "    </tr>\n",
       "    <tr>\n",
       "      <th>22</th>\n",
       "      <td>Maryland</td>\n",
       "      <td>29150984.0</td>\n",
       "      <td>912049.0</td>\n",
       "      <td>3.13</td>\n",
       "      <td>MD</td>\n",
       "      <td>1.716558e+08</td>\n",
       "      <td>3421061.0</td>\n",
       "      <td>1.99</td>\n",
       "      <td>MD</td>\n",
       "      <td>Kentucky</td>\n",
       "      <td>518860114</td>\n",
       "      <td>5763654.0</td>\n",
       "      <td>1.11</td>\n",
       "      <td>KY</td>\n",
       "      <td>139155924</td>\n",
       "      <td>1479373.0</td>\n",
       "      <td>1.06</td>\n",
       "      <td>KY</td>\n",
       "    </tr>\n",
       "    <tr>\n",
       "      <th>23</th>\n",
       "      <td>Colorado</td>\n",
       "      <td>23442034.0</td>\n",
       "      <td>542870.0</td>\n",
       "      <td>2.32</td>\n",
       "      <td>CO</td>\n",
       "      <td>2.133493e+08</td>\n",
       "      <td>2613748.0</td>\n",
       "      <td>1.23</td>\n",
       "      <td>CO</td>\n",
       "      <td>Alabama</td>\n",
       "      <td>502881485</td>\n",
       "      <td>7146725.0</td>\n",
       "      <td>1.42</td>\n",
       "      <td>AL</td>\n",
       "      <td>132949677</td>\n",
       "      <td>1754751.0</td>\n",
       "      <td>1.32</td>\n",
       "      <td>AL</td>\n",
       "    </tr>\n",
       "    <tr>\n",
       "      <th>24</th>\n",
       "      <td>Iowa</td>\n",
       "      <td>23267720.0</td>\n",
       "      <td>335716.0</td>\n",
       "      <td>1.44</td>\n",
       "      <td>IA</td>\n",
       "      <td>1.462124e+08</td>\n",
       "      <td>2237680.0</td>\n",
       "      <td>1.53</td>\n",
       "      <td>IA</td>\n",
       "      <td>Louisiana</td>\n",
       "      <td>481358018</td>\n",
       "      <td>6332264.0</td>\n",
       "      <td>1.32</td>\n",
       "      <td>LA</td>\n",
       "      <td>127211243</td>\n",
       "      <td>1525729.0</td>\n",
       "      <td>1.20</td>\n",
       "      <td>LA</td>\n",
       "    </tr>\n",
       "    <tr>\n",
       "      <th>25</th>\n",
       "      <td>Washington</td>\n",
       "      <td>21937303.0</td>\n",
       "      <td>504771.0</td>\n",
       "      <td>2.30</td>\n",
       "      <td>WA</td>\n",
       "      <td>1.854356e+08</td>\n",
       "      <td>2360221.0</td>\n",
       "      <td>1.27</td>\n",
       "      <td>WA</td>\n",
       "      <td>Maryland</td>\n",
       "      <td>410825019</td>\n",
       "      <td>5379529.0</td>\n",
       "      <td>1.31</td>\n",
       "      <td>MD</td>\n",
       "      <td>110710818</td>\n",
       "      <td>1343353.0</td>\n",
       "      <td>1.21</td>\n",
       "      <td>MD</td>\n",
       "    </tr>\n",
       "    <tr>\n",
       "      <th>26</th>\n",
       "      <td>Oklahoma</td>\n",
       "      <td>20512540.0</td>\n",
       "      <td>233760.0</td>\n",
       "      <td>1.14</td>\n",
       "      <td>OK</td>\n",
       "      <td>1.851115e+08</td>\n",
       "      <td>2676902.0</td>\n",
       "      <td>1.45</td>\n",
       "      <td>OK</td>\n",
       "      <td>Oklahoma</td>\n",
       "      <td>398397534</td>\n",
       "      <td>5213054.0</td>\n",
       "      <td>1.31</td>\n",
       "      <td>OK</td>\n",
       "      <td>104607734</td>\n",
       "      <td>1334135.0</td>\n",
       "      <td>1.28</td>\n",
       "      <td>OK</td>\n",
       "    </tr>\n",
       "    <tr>\n",
       "      <th>27</th>\n",
       "      <td>Mississippi</td>\n",
       "      <td>20500999.0</td>\n",
       "      <td>572569.0</td>\n",
       "      <td>2.79</td>\n",
       "      <td>MS</td>\n",
       "      <td>1.368933e+08</td>\n",
       "      <td>2904293.0</td>\n",
       "      <td>2.12</td>\n",
       "      <td>MS</td>\n",
       "      <td>Utah</td>\n",
       "      <td>354492800</td>\n",
       "      <td>1740612.0</td>\n",
       "      <td>0.49</td>\n",
       "      <td>UT</td>\n",
       "      <td>88910758</td>\n",
       "      <td>431273.0</td>\n",
       "      <td>0.49</td>\n",
       "      <td>UT</td>\n",
       "    </tr>\n",
       "    <tr>\n",
       "      <th>28</th>\n",
       "      <td>Utah</td>\n",
       "      <td>20001600.0</td>\n",
       "      <td>111490.0</td>\n",
       "      <td>0.56</td>\n",
       "      <td>UT</td>\n",
       "      <td>1.626460e+08</td>\n",
       "      <td>911303.0</td>\n",
       "      <td>0.56</td>\n",
       "      <td>UT</td>\n",
       "      <td>Arkansas</td>\n",
       "      <td>318951674</td>\n",
       "      <td>4194348.0</td>\n",
       "      <td>1.32</td>\n",
       "      <td>AR</td>\n",
       "      <td>81930363</td>\n",
       "      <td>1057908.0</td>\n",
       "      <td>1.29</td>\n",
       "      <td>AR</td>\n",
       "    </tr>\n",
       "    <tr>\n",
       "      <th>29</th>\n",
       "      <td>Kentucky</td>\n",
       "      <td>18801566.0</td>\n",
       "      <td>285739.0</td>\n",
       "      <td>1.52</td>\n",
       "      <td>KY</td>\n",
       "      <td>1.966675e+08</td>\n",
       "      <td>2694739.0</td>\n",
       "      <td>1.37</td>\n",
       "      <td>KY</td>\n",
       "      <td>Mississippi</td>\n",
       "      <td>307693578</td>\n",
       "      <td>4537968.0</td>\n",
       "      <td>1.47</td>\n",
       "      <td>MS</td>\n",
       "      <td>80246078</td>\n",
       "      <td>1088202.0</td>\n",
       "      <td>1.36</td>\n",
       "      <td>MS</td>\n",
       "    </tr>\n",
       "    <tr>\n",
       "      <th>30</th>\n",
       "      <td>Arkansas</td>\n",
       "      <td>18406368.0</td>\n",
       "      <td>285868.0</td>\n",
       "      <td>1.55</td>\n",
       "      <td>AR</td>\n",
       "      <td>1.447875e+08</td>\n",
       "      <td>2367660.0</td>\n",
       "      <td>1.64</td>\n",
       "      <td>AR</td>\n",
       "      <td>Connecticut</td>\n",
       "      <td>297758264</td>\n",
       "      <td>3999268.0</td>\n",
       "      <td>1.34</td>\n",
       "      <td>CT</td>\n",
       "      <td>79414389</td>\n",
       "      <td>986812.0</td>\n",
       "      <td>1.24</td>\n",
       "      <td>CT</td>\n",
       "    </tr>\n",
       "    <tr>\n",
       "      <th>31</th>\n",
       "      <td>Nevada</td>\n",
       "      <td>18286722.0</td>\n",
       "      <td>319370.0</td>\n",
       "      <td>1.75</td>\n",
       "      <td>NV</td>\n",
       "      <td>1.312757e+08</td>\n",
       "      <td>2202413.0</td>\n",
       "      <td>1.68</td>\n",
       "      <td>NV</td>\n",
       "      <td>Kansas</td>\n",
       "      <td>296255276</td>\n",
       "      <td>3218020.0</td>\n",
       "      <td>1.09</td>\n",
       "      <td>KS</td>\n",
       "      <td>76264023</td>\n",
       "      <td>827528.0</td>\n",
       "      <td>1.09</td>\n",
       "      <td>KS</td>\n",
       "    </tr>\n",
       "    <tr>\n",
       "      <th>32</th>\n",
       "      <td>Connecticut</td>\n",
       "      <td>17214231.0</td>\n",
       "      <td>1119863.0</td>\n",
       "      <td>6.51</td>\n",
       "      <td>CT</td>\n",
       "      <td>1.269039e+08</td>\n",
       "      <td>2976567.0</td>\n",
       "      <td>2.35</td>\n",
       "      <td>CT</td>\n",
       "      <td>Iowa</td>\n",
       "      <td>290772790</td>\n",
       "      <td>3509540.0</td>\n",
       "      <td>1.21</td>\n",
       "      <td>IA</td>\n",
       "      <td>73563408</td>\n",
       "      <td>870478.0</td>\n",
       "      <td>1.18</td>\n",
       "      <td>IA</td>\n",
       "    </tr>\n",
       "    <tr>\n",
       "      <th>33</th>\n",
       "      <td>Kansas</td>\n",
       "      <td>15948027.0</td>\n",
       "      <td>187629.0</td>\n",
       "      <td>1.18</td>\n",
       "      <td>KS</td>\n",
       "      <td>1.287111e+08</td>\n",
       "      <td>1949297.0</td>\n",
       "      <td>1.51</td>\n",
       "      <td>KS</td>\n",
       "      <td>Oregon</td>\n",
       "      <td>288498606</td>\n",
       "      <td>2827560.0</td>\n",
       "      <td>0.98</td>\n",
       "      <td>OR</td>\n",
       "      <td>78213371</td>\n",
       "      <td>757873.0</td>\n",
       "      <td>0.97</td>\n",
       "      <td>OR</td>\n",
       "    </tr>\n",
       "    <tr>\n",
       "      <th>34</th>\n",
       "      <td>Nebraska</td>\n",
       "      <td>13158427.0</td>\n",
       "      <td>132992.0</td>\n",
       "      <td>1.01</td>\n",
       "      <td>NE</td>\n",
       "      <td>8.711445e+07</td>\n",
       "      <td>927516.0</td>\n",
       "      <td>1.06</td>\n",
       "      <td>NE</td>\n",
       "      <td>Puerto Rico</td>\n",
       "      <td>281044160</td>\n",
       "      <td>1680491.0</td>\n",
       "      <td>0.60</td>\n",
       "      <td>NaN</td>\n",
       "      <td>91821729</td>\n",
       "      <td>469153.0</td>\n",
       "      <td>0.51</td>\n",
       "      <td>NaN</td>\n",
       "    </tr>\n",
       "    <tr>\n",
       "      <th>35</th>\n",
       "      <td>Idaho</td>\n",
       "      <td>10608658.0</td>\n",
       "      <td>109143.0</td>\n",
       "      <td>1.03</td>\n",
       "      <td>ID</td>\n",
       "      <td>7.925612e+07</td>\n",
       "      <td>902682.0</td>\n",
       "      <td>1.14</td>\n",
       "      <td>ID</td>\n",
       "      <td>Nevada</td>\n",
       "      <td>280169802</td>\n",
       "      <td>3931233.0</td>\n",
       "      <td>1.40</td>\n",
       "      <td>NV</td>\n",
       "      <td>72544439</td>\n",
       "      <td>984925.0</td>\n",
       "      <td>1.36</td>\n",
       "      <td>NV</td>\n",
       "    </tr>\n",
       "    <tr>\n",
       "      <th>36</th>\n",
       "      <td>Puerto Rico</td>\n",
       "      <td>9730415.0</td>\n",
       "      <td>134516.0</td>\n",
       "      <td>1.38</td>\n",
       "      <td>NaN</td>\n",
       "      <td>6.507812e+07</td>\n",
       "      <td>939789.0</td>\n",
       "      <td>1.44</td>\n",
       "      <td>NaN</td>\n",
       "      <td>New Mexico</td>\n",
       "      <td>204941434</td>\n",
       "      <td>2857608.0</td>\n",
       "      <td>1.39</td>\n",
       "      <td>NM</td>\n",
       "      <td>54653082</td>\n",
       "      <td>737453.0</td>\n",
       "      <td>1.35</td>\n",
       "      <td>NM</td>\n",
       "    </tr>\n",
       "    <tr>\n",
       "      <th>37</th>\n",
       "      <td>New Mexico</td>\n",
       "      <td>9586672.0</td>\n",
       "      <td>217023.0</td>\n",
       "      <td>2.26</td>\n",
       "      <td>NM</td>\n",
       "      <td>8.207493e+07</td>\n",
       "      <td>1581838.0</td>\n",
       "      <td>1.93</td>\n",
       "      <td>NM</td>\n",
       "      <td>West Virginia</td>\n",
       "      <td>195685107</td>\n",
       "      <td>2540649.0</td>\n",
       "      <td>1.30</td>\n",
       "      <td>WV</td>\n",
       "      <td>52202815</td>\n",
       "      <td>654993.0</td>\n",
       "      <td>1.25</td>\n",
       "      <td>WV</td>\n",
       "    </tr>\n",
       "    <tr>\n",
       "      <th>38</th>\n",
       "      <td>Oregon</td>\n",
       "      <td>8343602.0</td>\n",
       "      <td>128396.0</td>\n",
       "      <td>1.54</td>\n",
       "      <td>OR</td>\n",
       "      <td>8.874996e+07</td>\n",
       "      <td>1151644.0</td>\n",
       "      <td>1.30</td>\n",
       "      <td>OR</td>\n",
       "      <td>Nebraska</td>\n",
       "      <td>181527756</td>\n",
       "      <td>1567003.0</td>\n",
       "      <td>0.86</td>\n",
       "      <td>NE</td>\n",
       "      <td>46201960</td>\n",
       "      <td>406544.0</td>\n",
       "      <td>0.88</td>\n",
       "      <td>NE</td>\n",
       "    </tr>\n",
       "    <tr>\n",
       "      <th>39</th>\n",
       "      <td>Rhode Island</td>\n",
       "      <td>7357021.0</td>\n",
       "      <td>262024.0</td>\n",
       "      <td>3.56</td>\n",
       "      <td>RI</td>\n",
       "      <td>5.637007e+07</td>\n",
       "      <td>974120.0</td>\n",
       "      <td>1.73</td>\n",
       "      <td>RI</td>\n",
       "      <td>Idaho</td>\n",
       "      <td>167399797</td>\n",
       "      <td>1810558.0</td>\n",
       "      <td>1.08</td>\n",
       "      <td>ID</td>\n",
       "      <td>42399520</td>\n",
       "      <td>441890.0</td>\n",
       "      <td>1.04</td>\n",
       "      <td>ID</td>\n",
       "    </tr>\n",
       "    <tr>\n",
       "      <th>40</th>\n",
       "      <td>South Dakota</td>\n",
       "      <td>7219457.0</td>\n",
       "      <td>86828.0</td>\n",
       "      <td>1.20</td>\n",
       "      <td>SD</td>\n",
       "      <td>4.789379e+07</td>\n",
       "      <td>743847.0</td>\n",
       "      <td>1.55</td>\n",
       "      <td>SD</td>\n",
       "      <td>Rhode Island</td>\n",
       "      <td>143153202</td>\n",
       "      <td>1302673.0</td>\n",
       "      <td>0.91</td>\n",
       "      <td>RI</td>\n",
       "      <td>37362760</td>\n",
       "      <td>316958.0</td>\n",
       "      <td>0.85</td>\n",
       "      <td>RI</td>\n",
       "    </tr>\n",
       "    <tr>\n",
       "      <th>41</th>\n",
       "      <td>North Dakota</td>\n",
       "      <td>6682198.0</td>\n",
       "      <td>87065.0</td>\n",
       "      <td>1.30</td>\n",
       "      <td>ND</td>\n",
       "      <td>4.369769e+07</td>\n",
       "      <td>586612.0</td>\n",
       "      <td>1.34</td>\n",
       "      <td>ND</td>\n",
       "      <td>New Hampshire</td>\n",
       "      <td>118204806</td>\n",
       "      <td>932348.0</td>\n",
       "      <td>0.79</td>\n",
       "      <td>NH</td>\n",
       "      <td>30720953</td>\n",
       "      <td>242238.0</td>\n",
       "      <td>0.79</td>\n",
       "      <td>NH</td>\n",
       "    </tr>\n",
       "    <tr>\n",
       "      <th>42</th>\n",
       "      <td>Delaware</td>\n",
       "      <td>5154377.0</td>\n",
       "      <td>145664.0</td>\n",
       "      <td>2.83</td>\n",
       "      <td>DE</td>\n",
       "      <td>4.152571e+07</td>\n",
       "      <td>626824.0</td>\n",
       "      <td>1.51</td>\n",
       "      <td>DE</td>\n",
       "      <td>Hawaii</td>\n",
       "      <td>104732041</td>\n",
       "      <td>547973.0</td>\n",
       "      <td>0.52</td>\n",
       "      <td>HI</td>\n",
       "      <td>30235214</td>\n",
       "      <td>147808.0</td>\n",
       "      <td>0.49</td>\n",
       "      <td>HI</td>\n",
       "    </tr>\n",
       "    <tr>\n",
       "      <th>43</th>\n",
       "      <td>Montana</td>\n",
       "      <td>5007382.0</td>\n",
       "      <td>58866.0</td>\n",
       "      <td>1.18</td>\n",
       "      <td>MT</td>\n",
       "      <td>4.683745e+07</td>\n",
       "      <td>652381.0</td>\n",
       "      <td>1.39</td>\n",
       "      <td>MT</td>\n",
       "      <td>Montana</td>\n",
       "      <td>104323601</td>\n",
       "      <td>1235272.0</td>\n",
       "      <td>1.18</td>\n",
       "      <td>MT</td>\n",
       "      <td>26831408</td>\n",
       "      <td>300283.0</td>\n",
       "      <td>1.12</td>\n",
       "      <td>MT</td>\n",
       "    </tr>\n",
       "    <tr>\n",
       "      <th>44</th>\n",
       "      <td>West Virginia</td>\n",
       "      <td>4681431.0</td>\n",
       "      <td>84127.0</td>\n",
       "      <td>1.80</td>\n",
       "      <td>WV</td>\n",
       "      <td>6.854855e+07</td>\n",
       "      <td>1154358.0</td>\n",
       "      <td>1.68</td>\n",
       "      <td>WV</td>\n",
       "      <td>Delaware</td>\n",
       "      <td>102982011</td>\n",
       "      <td>1072467.0</td>\n",
       "      <td>1.04</td>\n",
       "      <td>DE</td>\n",
       "      <td>26880477</td>\n",
       "      <td>268974.0</td>\n",
       "      <td>1.00</td>\n",
       "      <td>DE</td>\n",
       "    </tr>\n",
       "    <tr>\n",
       "      <th>45</th>\n",
       "      <td>District of Columbia</td>\n",
       "      <td>3644621.0</td>\n",
       "      <td>146395.0</td>\n",
       "      <td>4.02</td>\n",
       "      <td>NaN</td>\n",
       "      <td>1.896667e+07</td>\n",
       "      <td>403369.0</td>\n",
       "      <td>2.13</td>\n",
       "      <td>NaN</td>\n",
       "      <td>Alaska</td>\n",
       "      <td>96769905</td>\n",
       "      <td>454003.0</td>\n",
       "      <td>0.47</td>\n",
       "      <td>AK</td>\n",
       "      <td>25041519</td>\n",
       "      <td>116890.0</td>\n",
       "      <td>0.47</td>\n",
       "      <td>AK</td>\n",
       "    </tr>\n",
       "    <tr>\n",
       "      <th>46</th>\n",
       "      <td>Alaska</td>\n",
       "      <td>2854127.0</td>\n",
       "      <td>13147.0</td>\n",
       "      <td>0.46</td>\n",
       "      <td>AK</td>\n",
       "      <td>3.195393e+07</td>\n",
       "      <td>163285.0</td>\n",
       "      <td>0.51</td>\n",
       "      <td>AK</td>\n",
       "      <td>Maine</td>\n",
       "      <td>94129502</td>\n",
       "      <td>862330.0</td>\n",
       "      <td>0.92</td>\n",
       "      <td>ME</td>\n",
       "      <td>25700690</td>\n",
       "      <td>237746.0</td>\n",
       "      <td>0.93</td>\n",
       "      <td>ME</td>\n",
       "    </tr>\n",
       "    <tr>\n",
       "      <th>47</th>\n",
       "      <td>New Hampshire</td>\n",
       "      <td>2724705.0</td>\n",
       "      <td>102996.0</td>\n",
       "      <td>3.78</td>\n",
       "      <td>NH</td>\n",
       "      <td>3.859730e+07</td>\n",
       "      <td>499834.0</td>\n",
       "      <td>1.29</td>\n",
       "      <td>NH</td>\n",
       "      <td>North Dakota</td>\n",
       "      <td>91494285</td>\n",
       "      <td>851094.0</td>\n",
       "      <td>0.93</td>\n",
       "      <td>ND</td>\n",
       "      <td>23317045</td>\n",
       "      <td>204932.0</td>\n",
       "      <td>0.88</td>\n",
       "      <td>ND</td>\n",
       "    </tr>\n",
       "    <tr>\n",
       "      <th>48</th>\n",
       "      <td>Wyoming</td>\n",
       "      <td>2591448.0</td>\n",
       "      <td>20734.0</td>\n",
       "      <td>0.80</td>\n",
       "      <td>WY</td>\n",
       "      <td>2.648811e+07</td>\n",
       "      <td>316182.0</td>\n",
       "      <td>1.19</td>\n",
       "      <td>WY</td>\n",
       "      <td>South Dakota</td>\n",
       "      <td>89822652</td>\n",
       "      <td>1068056.0</td>\n",
       "      <td>1.19</td>\n",
       "      <td>SD</td>\n",
       "      <td>22619483</td>\n",
       "      <td>260782.0</td>\n",
       "      <td>1.15</td>\n",
       "      <td>SD</td>\n",
       "    </tr>\n",
       "    <tr>\n",
       "      <th>49</th>\n",
       "      <td>Hawaii</td>\n",
       "      <td>2129453.0</td>\n",
       "      <td>27227.0</td>\n",
       "      <td>1.28</td>\n",
       "      <td>HI</td>\n",
       "      <td>1.807244e+07</td>\n",
       "      <td>222578.0</td>\n",
       "      <td>1.23</td>\n",
       "      <td>HI</td>\n",
       "      <td>Wyoming</td>\n",
       "      <td>59878067</td>\n",
       "      <td>664976.0</td>\n",
       "      <td>1.11</td>\n",
       "      <td>WY</td>\n",
       "      <td>15110869</td>\n",
       "      <td>162978.0</td>\n",
       "      <td>1.08</td>\n",
       "      <td>WY</td>\n",
       "    </tr>\n",
       "    <tr>\n",
       "      <th>50</th>\n",
       "      <td>Maine</td>\n",
       "      <td>1551410.0</td>\n",
       "      <td>35654.0</td>\n",
       "      <td>2.30</td>\n",
       "      <td>ME</td>\n",
       "      <td>2.685418e+07</td>\n",
       "      <td>328660.0</td>\n",
       "      <td>1.22</td>\n",
       "      <td>ME</td>\n",
       "      <td>District of Columbia</td>\n",
       "      <td>55697359</td>\n",
       "      <td>494152.0</td>\n",
       "      <td>0.89</td>\n",
       "      <td>NaN</td>\n",
       "      <td>14472230</td>\n",
       "      <td>116695.0</td>\n",
       "      <td>0.81</td>\n",
       "      <td>NaN</td>\n",
       "    </tr>\n",
       "    <tr>\n",
       "      <th>51</th>\n",
       "      <td>Guam</td>\n",
       "      <td>869347.0</td>\n",
       "      <td>10424.0</td>\n",
       "      <td>1.20</td>\n",
       "      <td>NaN</td>\n",
       "      <td>4.395865e+06</td>\n",
       "      <td>61389.0</td>\n",
       "      <td>1.40</td>\n",
       "      <td>NaN</td>\n",
       "      <td>Vermont</td>\n",
       "      <td>47101489</td>\n",
       "      <td>243904.0</td>\n",
       "      <td>0.52</td>\n",
       "      <td>VT</td>\n",
       "      <td>12377571</td>\n",
       "      <td>73212.0</td>\n",
       "      <td>0.59</td>\n",
       "      <td>VT</td>\n",
       "    </tr>\n",
       "    <tr>\n",
       "      <th>52</th>\n",
       "      <td>Vermont</td>\n",
       "      <td>561055.0</td>\n",
       "      <td>16434.0</td>\n",
       "      <td>2.93</td>\n",
       "      <td>VT</td>\n",
       "      <td>1.011196e+07</td>\n",
       "      <td>100847.0</td>\n",
       "      <td>1.00</td>\n",
       "      <td>VT</td>\n",
       "      <td>Guam</td>\n",
       "      <td>18708998</td>\n",
       "      <td>133543.0</td>\n",
       "      <td>0.71</td>\n",
       "      <td>NaN</td>\n",
       "      <td>5058461</td>\n",
       "      <td>34202.0</td>\n",
       "      <td>0.68</td>\n",
       "      <td>NaN</td>\n",
       "    </tr>\n",
       "    <tr>\n",
       "      <th>53</th>\n",
       "      <td>Virgin Islands</td>\n",
       "      <td>216310.0</td>\n",
       "      <td>3503.0</td>\n",
       "      <td>1.62</td>\n",
       "      <td>NaN</td>\n",
       "      <td>1.690126e+06</td>\n",
       "      <td>16615.0</td>\n",
       "      <td>0.98</td>\n",
       "      <td>NaN</td>\n",
       "      <td>Virgin Islands</td>\n",
       "      <td>7160529</td>\n",
       "      <td>42133.0</td>\n",
       "      <td>0.59</td>\n",
       "      <td>NaN</td>\n",
       "      <td>2008857</td>\n",
       "      <td>10588.0</td>\n",
       "      <td>0.53</td>\n",
       "      <td>NaN</td>\n",
       "    </tr>\n",
       "    <tr>\n",
       "      <th>54</th>\n",
       "      <td>Northern Mariana Islands</td>\n",
       "      <td>15491.0</td>\n",
       "      <td>544.0</td>\n",
       "      <td>3.51</td>\n",
       "      <td>NaN</td>\n",
       "      <td>1.352580e+05</td>\n",
       "      <td>926.0</td>\n",
       "      <td>0.68</td>\n",
       "      <td>NaN</td>\n",
       "      <td>Northern Mariana Islands</td>\n",
       "      <td>4084840</td>\n",
       "      <td>12630.0</td>\n",
       "      <td>0.31</td>\n",
       "      <td>NaN</td>\n",
       "      <td>1097277</td>\n",
       "      <td>3362.0</td>\n",
       "      <td>0.31</td>\n",
       "      <td>NaN</td>\n",
       "    </tr>\n",
       "    <tr>\n",
       "      <th>55</th>\n",
       "      <td>NaN</td>\n",
       "      <td>NaN</td>\n",
       "      <td>NaN</td>\n",
       "      <td>NaN</td>\n",
       "      <td>NaN</td>\n",
       "      <td>NaN</td>\n",
       "      <td>NaN</td>\n",
       "      <td>NaN</td>\n",
       "      <td>NaN</td>\n",
       "      <td>American Samoa</td>\n",
       "      <td>2022270</td>\n",
       "      <td>8260.0</td>\n",
       "      <td>0.41</td>\n",
       "      <td>NaN</td>\n",
       "      <td>680865</td>\n",
       "      <td>2788.0</td>\n",
       "      <td>0.41</td>\n",
       "      <td>NaN</td>\n",
       "    </tr>\n",
       "  </tbody>\n",
       "</table>\n",
       "</div>"
      ],
      "text/plain": [
       "                       state   cases_2020  deaths_2020  death_per_case_2020  \\\n",
       "0                 California  174969176.0    3065113.0                 1.75   \n",
       "1                      Texas  160159130.0    2927740.0                 1.83   \n",
       "2                    Florida  138123133.0    2632238.0                 1.91   \n",
       "3                   New York  126307878.0    8320598.0                 6.59   \n",
       "4                   Illinois   82118324.0    2211390.0                 2.69   \n",
       "5                    Georgia   62230196.0    1363977.0                 2.19   \n",
       "6                 New Jersey   57403306.0    3817150.0                 6.65   \n",
       "7               Pennsylvania   47304959.0    2002629.0                 4.23   \n",
       "8                    Arizona   47147078.0    1048821.0                 2.22   \n",
       "9             North Carolina   46306384.0     734456.0                 1.59   \n",
       "10                      Ohio   44885224.0    1062373.0                 2.37   \n",
       "11                 Tennessee   43836216.0     540030.0                 1.23   \n",
       "12                  Michigan   42112852.0    1837617.0                 4.36   \n",
       "13                 Wisconsin   37998809.0     410977.0                 1.08   \n",
       "14             Massachusetts   37419301.0    2222455.0                 5.94   \n",
       "15                   Indiana   35947357.0     920773.0                 2.56   \n",
       "16                 Louisiana   35116739.0    1184574.0                 3.37   \n",
       "17                  Virginia   32850541.0     668990.0                 2.04   \n",
       "18                   Alabama   32236000.0     526388.0                 1.63   \n",
       "19                  Missouri   31469332.0     530055.0                 1.68   \n",
       "20                 Minnesota   29868387.0     531337.0                 1.78   \n",
       "21            South Carolina   29321200.0     618708.0                 2.11   \n",
       "22                  Maryland   29150984.0     912049.0                 3.13   \n",
       "23                  Colorado   23442034.0     542870.0                 2.32   \n",
       "24                      Iowa   23267720.0     335716.0                 1.44   \n",
       "25                Washington   21937303.0     504771.0                 2.30   \n",
       "26                  Oklahoma   20512540.0     233760.0                 1.14   \n",
       "27               Mississippi   20500999.0     572569.0                 2.79   \n",
       "28                      Utah   20001600.0     111490.0                 0.56   \n",
       "29                  Kentucky   18801566.0     285739.0                 1.52   \n",
       "30                  Arkansas   18406368.0     285868.0                 1.55   \n",
       "31                    Nevada   18286722.0     319370.0                 1.75   \n",
       "32               Connecticut   17214231.0    1119863.0                 6.51   \n",
       "33                    Kansas   15948027.0     187629.0                 1.18   \n",
       "34                  Nebraska   13158427.0     132992.0                 1.01   \n",
       "35                     Idaho   10608658.0     109143.0                 1.03   \n",
       "36               Puerto Rico    9730415.0     134516.0                 1.38   \n",
       "37                New Mexico    9586672.0     217023.0                 2.26   \n",
       "38                    Oregon    8343602.0     128396.0                 1.54   \n",
       "39              Rhode Island    7357021.0     262024.0                 3.56   \n",
       "40              South Dakota    7219457.0      86828.0                 1.20   \n",
       "41              North Dakota    6682198.0      87065.0                 1.30   \n",
       "42                  Delaware    5154377.0     145664.0                 2.83   \n",
       "43                   Montana    5007382.0      58866.0                 1.18   \n",
       "44             West Virginia    4681431.0      84127.0                 1.80   \n",
       "45      District of Columbia    3644621.0     146395.0                 4.02   \n",
       "46                    Alaska    2854127.0      13147.0                 0.46   \n",
       "47             New Hampshire    2724705.0     102996.0                 3.78   \n",
       "48                   Wyoming    2591448.0      20734.0                 0.80   \n",
       "49                    Hawaii    2129453.0      27227.0                 1.28   \n",
       "50                     Maine    1551410.0      35654.0                 2.30   \n",
       "51                      Guam     869347.0      10424.0                 1.20   \n",
       "52                   Vermont     561055.0      16434.0                 2.93   \n",
       "53            Virgin Islands     216310.0       3503.0                 1.62   \n",
       "54  Northern Mariana Islands      15491.0        544.0                 3.51   \n",
       "55                       NaN          NaN          NaN                  NaN   \n",
       "\n",
       "   state_abbrev_2020    cases_2021  deaths_2021  death_per_case_2021  \\\n",
       "0                 CA  1.496463e+09   22532428.0                 1.51   \n",
       "1                 TX  1.195039e+09   20088968.0                 1.68   \n",
       "2                 FL  9.741701e+08   15333245.0                 1.57   \n",
       "3                 NY  7.757640e+08   18918470.0                 2.44   \n",
       "4                 IL  5.279566e+08    9306526.0                 1.76   \n",
       "5                 GA  4.473922e+08    7791745.0                 1.74   \n",
       "6                 NJ  3.707628e+08    9406432.0                 2.54   \n",
       "7                 PA  4.571433e+08   10025434.0                 2.19   \n",
       "8                 AZ  3.504814e+08    6590800.0                 1.88   \n",
       "9                 NC  4.056814e+08    5081693.0                 1.25   \n",
       "10                OH  4.424954e+08    7327426.0                 1.66   \n",
       "11                TN  3.485404e+08    4791671.0                 1.37   \n",
       "12                MI  3.666153e+08    7460163.0                 2.03   \n",
       "13                WI  2.673116e+08    2972997.0                 1.11   \n",
       "14                MA  2.636335e+08    6429075.0                 2.44   \n",
       "15                IN  2.996498e+08    5153509.0                 1.72   \n",
       "16                LA  2.057987e+08    4216618.0                 2.05   \n",
       "17                VA  2.638081e+08    4077397.0                 1.55   \n",
       "18                AL  2.277838e+08    4330518.0                 1.90   \n",
       "19                MO  2.530983e+08    3857075.0                 1.52   \n",
       "20                MN  2.332339e+08    2821148.0                 1.21   \n",
       "21                SC  2.422447e+08    3802518.0                 1.57   \n",
       "22                MD  1.716558e+08    3421061.0                 1.99   \n",
       "23                CO  2.133493e+08    2613748.0                 1.23   \n",
       "24                IA  1.462124e+08    2237680.0                 1.53   \n",
       "25                WA  1.854356e+08    2360221.0                 1.27   \n",
       "26                OK  1.851115e+08    2676902.0                 1.45   \n",
       "27                MS  1.368933e+08    2904293.0                 2.12   \n",
       "28                UT  1.626460e+08     911303.0                 0.56   \n",
       "29                KY  1.966675e+08    2694739.0                 1.37   \n",
       "30                AR  1.447875e+08    2367660.0                 1.64   \n",
       "31                NV  1.312757e+08    2202413.0                 1.68   \n",
       "32                CT  1.269039e+08    2976567.0                 2.35   \n",
       "33                KS  1.287111e+08    1949297.0                 1.51   \n",
       "34                NE  8.711445e+07     927516.0                 1.06   \n",
       "35                ID  7.925612e+07     902682.0                 1.14   \n",
       "36               NaN  6.507812e+07     939789.0                 1.44   \n",
       "37                NM  8.207493e+07    1581838.0                 1.93   \n",
       "38                OR  8.874996e+07    1151644.0                 1.30   \n",
       "39                RI  5.637007e+07     974120.0                 1.73   \n",
       "40                SD  4.789379e+07     743847.0                 1.55   \n",
       "41                ND  4.369769e+07     586612.0                 1.34   \n",
       "42                DE  4.152571e+07     626824.0                 1.51   \n",
       "43                MT  4.683745e+07     652381.0                 1.39   \n",
       "44                WV  6.854855e+07    1154358.0                 1.68   \n",
       "45               NaN  1.896667e+07     403369.0                 2.13   \n",
       "46                AK  3.195393e+07     163285.0                 0.51   \n",
       "47                NH  3.859730e+07     499834.0                 1.29   \n",
       "48                WY  2.648811e+07     316182.0                 1.19   \n",
       "49                HI  1.807244e+07     222578.0                 1.23   \n",
       "50                ME  2.685418e+07     328660.0                 1.22   \n",
       "51               NaN  4.395865e+06      61389.0                 1.40   \n",
       "52                VT  1.011196e+07     100847.0                 1.00   \n",
       "53               NaN  1.690126e+06      16615.0                 0.98   \n",
       "54               NaN  1.352580e+05        926.0                 0.68   \n",
       "55               NaN           NaN          NaN                  NaN   \n",
       "\n",
       "   state_abbrev_2021                     state  cases_2022  deaths_2022  \\\n",
       "0                 CA                California  3657865258   33481697.0   \n",
       "1                 TX                     Texas  2606974755   32175258.0   \n",
       "2                 FL                   Florida  2342867989   27708002.0   \n",
       "3                 NY                  New York  2028292482   25338652.0   \n",
       "4                 IL                  Illinois  1242333880   13938486.0   \n",
       "5                 GA              Pennsylvania  1093607580   16531624.0   \n",
       "6                 NJ                      Ohio  1050039982   13944933.0   \n",
       "7                 PA            North Carolina  1042710923    9096219.0   \n",
       "8                 AZ                  Michigan   944357180   13399520.0   \n",
       "9                 NC                   Georgia   942798915   13387802.0   \n",
       "10                OH                New Jersey   902227748   12317356.0   \n",
       "11                TN                   Arizona   769418282   10925069.0   \n",
       "12                MI                 Tennessee   760697911    9502505.0   \n",
       "13                WI             Massachusetts   683634660    7831612.0   \n",
       "14                MA                  Virginia   677908320    7435951.0   \n",
       "15                IN                   Indiana   651481542    8657235.0   \n",
       "16                LA                 Wisconsin   625473371    5290261.0   \n",
       "17                VA                Washington   589317042    4822544.0   \n",
       "18                AL            South Carolina   567862081    6498922.0   \n",
       "19                MO                 Minnesota   558583474    4753802.0   \n",
       "20                MN                  Missouri   556938744    7548267.0   \n",
       "21                SC                  Colorado   546913288    4665643.0   \n",
       "22                MD                  Kentucky   518860114    5763654.0   \n",
       "23                CO                   Alabama   502881485    7146725.0   \n",
       "24                IA                 Louisiana   481358018    6332264.0   \n",
       "25                WA                  Maryland   410825019    5379529.0   \n",
       "26                OK                  Oklahoma   398397534    5213054.0   \n",
       "27                MS                      Utah   354492800    1740612.0   \n",
       "28                UT                  Arkansas   318951674    4194348.0   \n",
       "29                KY               Mississippi   307693578    4537968.0   \n",
       "30                AR               Connecticut   297758264    3999268.0   \n",
       "31                NV                    Kansas   296255276    3218020.0   \n",
       "32                CT                      Iowa   290772790    3509540.0   \n",
       "33                KS                    Oregon   288498606    2827560.0   \n",
       "34                NE               Puerto Rico   281044160    1680491.0   \n",
       "35                ID                    Nevada   280169802    3931233.0   \n",
       "36               NaN                New Mexico   204941434    2857608.0   \n",
       "37                NM             West Virginia   195685107    2540649.0   \n",
       "38                OR                  Nebraska   181527756    1567003.0   \n",
       "39                RI                     Idaho   167399797    1810558.0   \n",
       "40                SD              Rhode Island   143153202    1302673.0   \n",
       "41                ND             New Hampshire   118204806     932348.0   \n",
       "42                DE                    Hawaii   104732041     547973.0   \n",
       "43                MT                   Montana   104323601    1235272.0   \n",
       "44                WV                  Delaware   102982011    1072467.0   \n",
       "45               NaN                    Alaska    96769905     454003.0   \n",
       "46                AK                     Maine    94129502     862330.0   \n",
       "47                NH              North Dakota    91494285     851094.0   \n",
       "48                WY              South Dakota    89822652    1068056.0   \n",
       "49                HI                   Wyoming    59878067     664976.0   \n",
       "50                ME      District of Columbia    55697359     494152.0   \n",
       "51               NaN                   Vermont    47101489     243904.0   \n",
       "52                VT                      Guam    18708998     133543.0   \n",
       "53               NaN            Virgin Islands     7160529      42133.0   \n",
       "54               NaN  Northern Mariana Islands     4084840      12630.0   \n",
       "55               NaN            American Samoa     2022270       8260.0   \n",
       "\n",
       "    death_per_case_2022 state_abbrev_2022  cases_2023  deaths_2023  \\\n",
       "0                  0.92                CA   985844951    8424694.0   \n",
       "1                  1.23                TX   678812946    7679552.0   \n",
       "2                  1.18                FL   609882039    7020942.0   \n",
       "3                  1.25                NY   551095969    6483341.0   \n",
       "4                  1.12                IL   331615853    3377350.0   \n",
       "5                  1.51                PA   285946585    4093547.0   \n",
       "6                  1.33                OH   275781634    3410106.0   \n",
       "7                  0.87                NC   281120023    2402019.0   \n",
       "8                  1.42                MI   248261899    3413138.0   \n",
       "9                  1.42                GA   242056758    3328644.0   \n",
       "10                 1.37                NJ   246944669    2941933.0   \n",
       "11                 1.42                AZ   197888351    2692880.0   \n",
       "12                 1.25                TN   198183072    2353945.0   \n",
       "13                 1.15                MA   180478998    1951144.0   \n",
       "14                 1.10                VA   185836338    1920467.0   \n",
       "15                 1.33                IN   166723678    2121783.0   \n",
       "16                 0.85                WI   163131014    1330461.0   \n",
       "17                 0.82                WA   156891026    1273161.0   \n",
       "18                 1.14                SC   148840698    1623497.0   \n",
       "19                 0.85                MN   144389098    1200700.0   \n",
       "20                 1.36                MO   145321139    1940510.0   \n",
       "21                 0.85                CO   143803184    1153862.0   \n",
       "22                 1.11                KY   139155924    1479373.0   \n",
       "23                 1.42                AL   132949677    1754751.0   \n",
       "24                 1.32                LA   127211243    1525729.0   \n",
       "25                 1.31                MD   110710818    1343353.0   \n",
       "26                 1.31                OK   104607734    1334135.0   \n",
       "27                 0.49                UT    88910758     431273.0   \n",
       "28                 1.32                AR    81930363    1057908.0   \n",
       "29                 1.47                MS    80246078    1088202.0   \n",
       "30                 1.34                CT    79414389     986812.0   \n",
       "31                 1.09                KS    76264023     827528.0   \n",
       "32                 1.21                IA    73563408     870478.0   \n",
       "33                 0.98                OR    78213371     757873.0   \n",
       "34                 0.60               NaN    91821729     469153.0   \n",
       "35                 1.40                NV    72544439     984925.0   \n",
       "36                 1.39                NM    54653082     737453.0   \n",
       "37                 1.30                WV    52202815     654993.0   \n",
       "38                 0.86                NE    46201960     406544.0   \n",
       "39                 1.08                ID    42399520     441890.0   \n",
       "40                 0.91                RI    37362760     316958.0   \n",
       "41                 0.79                NH    30720953     242238.0   \n",
       "42                 0.52                HI    30235214     147808.0   \n",
       "43                 1.18                MT    26831408     300283.0   \n",
       "44                 1.04                DE    26880477     268974.0   \n",
       "45                 0.47                AK    25041519     116890.0   \n",
       "46                 0.92                ME    25700690     237746.0   \n",
       "47                 0.93                ND    23317045     204932.0   \n",
       "48                 1.19                SD    22619483     260782.0   \n",
       "49                 1.11                WY    15110869     162978.0   \n",
       "50                 0.89               NaN    14472230     116695.0   \n",
       "51                 0.52                VT    12377571      73212.0   \n",
       "52                 0.71               NaN     5058461      34202.0   \n",
       "53                 0.59               NaN     2008857      10588.0   \n",
       "54                 0.31               NaN     1097277       3362.0   \n",
       "55                 0.41               NaN      680865       2788.0   \n",
       "\n",
       "    death_per_case_2023 state_abbrev_2023  \n",
       "0                  0.85                CA  \n",
       "1                  1.13                TX  \n",
       "2                  1.15                FL  \n",
       "3                  1.18                NY  \n",
       "4                  1.02                IL  \n",
       "5                  1.43                PA  \n",
       "6                  1.24                OH  \n",
       "7                  0.85                NC  \n",
       "8                  1.37                MI  \n",
       "9                  1.38                GA  \n",
       "10                 1.19                NJ  \n",
       "11                 1.36                AZ  \n",
       "12                 1.19                TN  \n",
       "13                 1.08                MA  \n",
       "14                 1.03                VA  \n",
       "15                 1.27                IN  \n",
       "16                 0.82                WI  \n",
       "17                 0.81                WA  \n",
       "18                 1.09                SC  \n",
       "19                 0.83                MN  \n",
       "20                 1.34                MO  \n",
       "21                 0.80                CO  \n",
       "22                 1.06                KY  \n",
       "23                 1.32                AL  \n",
       "24                 1.20                LA  \n",
       "25                 1.21                MD  \n",
       "26                 1.28                OK  \n",
       "27                 0.49                UT  \n",
       "28                 1.29                AR  \n",
       "29                 1.36                MS  \n",
       "30                 1.24                CT  \n",
       "31                 1.09                KS  \n",
       "32                 1.18                IA  \n",
       "33                 0.97                OR  \n",
       "34                 0.51               NaN  \n",
       "35                 1.36                NV  \n",
       "36                 1.35                NM  \n",
       "37                 1.25                WV  \n",
       "38                 0.88                NE  \n",
       "39                 1.04                ID  \n",
       "40                 0.85                RI  \n",
       "41                 0.79                NH  \n",
       "42                 0.49                HI  \n",
       "43                 1.12                MT  \n",
       "44                 1.00                DE  \n",
       "45                 0.47                AK  \n",
       "46                 0.93                ME  \n",
       "47                 0.88                ND  \n",
       "48                 1.15                SD  \n",
       "49                 1.08                WY  \n",
       "50                 0.81               NaN  \n",
       "51                 0.59                VT  \n",
       "52                 0.68               NaN  \n",
       "53                 0.53               NaN  \n",
       "54                 0.31               NaN  \n",
       "55                 0.41               NaN  "
      ]
     },
     "execution_count": 71,
     "metadata": {},
     "output_type": "execute_result"
    }
   ],
   "source": [
    "counties_2020_2021_2022_2023"
   ]
  },
  {
   "cell_type": "code",
   "execution_count": null,
   "metadata": {},
   "outputs": [],
   "source": []
  }
 ],
 "metadata": {
  "kernelspec": {
   "display_name": "piyusm-166wo2pL",
   "language": "python",
   "name": "python3"
  },
  "language_info": {
   "codemirror_mode": {
    "name": "ipython",
    "version": 3
   },
   "file_extension": ".py",
   "mimetype": "text/x-python",
   "name": "python",
   "nbconvert_exporter": "python",
   "pygments_lexer": "ipython3",
   "version": "3.10.11"
  },
  "orig_nbformat": 4
 },
 "nbformat": 4,
 "nbformat_minor": 2
}
